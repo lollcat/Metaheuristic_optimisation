{
 "cells": [
  {
   "cell_type": "code",
   "execution_count": null,
   "metadata": {},
   "outputs": [],
   "source": [
    "# set path to parent file\n",
    "from pathlib import Path\n",
    "import os\n",
    "cwd_path = Path.cwd()\n",
    "set_path = str(cwd_path.parent)\n",
    "os.chdir(set_path)"
   ]
  },
  {
   "cell_type": "code",
   "execution_count": 30,
   "metadata": {},
   "outputs": [],
   "source": [
    "import pickle\n",
    "from Utils import running_mean, multiple_runs_with_different_seed\n",
    "import numpy as np\n",
    "import pandas as pd\n",
    "import matplotlib.pyplot as plt\n",
    "import matplotlib as mpl\n",
    "import importlib\n",
    "import SimulatedAnealing \n",
    "importlib.reload(SimulatedAnealing)\n",
    "SimulatedAnnealing = SimulatedAnealing.SimulatedAnnealing\n",
    "mpl.rcParams['figure.dpi'] = 300\n",
    "from rana import rana_func"
   ]
  },
  {
   "cell_type": "markdown",
   "metadata": {},
   "source": [
    "# What it interesting to investigate:\n",
    "1. Perform initial parameter search to determine step size, pertubation alpha, pertubation omega\n",
    "2. Parameter investiations\n",
    "    - markov chain length\n",
    "    - alpha\n",
    "    - variations of annealing\n",
    "    - clipping\n",
    "\n",
    "# Which configurations to use\n"
   ]
  },
  {
   "cell_type": "markdown",
   "metadata": {},
   "source": [
    "# Initial Parameter Optimisation"
   ]
  },
  {
   "cell_type": "code",
   "execution_count": 3,
   "metadata": {},
   "outputs": [],
   "source": [
    "initial_results_df = pd.DataFrame()"
   ]
  },
  {
   "cell_type": "code",
   "execution_count": 31,
   "metadata": {},
   "outputs": [
    {
     "name": "stdout",
     "output_type": "stream",
     "text": [
      "failure for {'pertubation_method': 'Cholesky', 'x_length': 5, 'x_bounds': (-500, 500), 'annealing_schedule': 'simple_exponential_cooling', 'objective_function': <function rana_func at 0x000001462171A160>, 'maximum_archive_length': 100, 'archive_minimum_acceptable_dissimilarity': 0.2, 'maximum_markov_chain_length': 50, 'maximum_function_evaluations': 10000, 'step_size_initialisation_fraction_of_range': 0.01, 'bound_enforcing_method': 'clipping', 'cholesky_path_length': 5, 'pertubation_alpha': 0.2, 'pertubation_omega': 2.0}\n",
      "failure for {'pertubation_method': 'Cholesky', 'x_length': 5, 'x_bounds': (-500, 500), 'annealing_schedule': 'simple_exponential_cooling', 'objective_function': <function rana_func at 0x000001462171A160>, 'maximum_archive_length': 100, 'archive_minimum_acceptable_dissimilarity': 0.2, 'maximum_markov_chain_length': 50, 'maximum_function_evaluations': 10000, 'step_size_initialisation_fraction_of_range': 0.01, 'bound_enforcing_method': 'clipping', 'cholesky_path_length': 5, 'pertubation_alpha': 0.2, 'pertubation_omega': 2.1}\n",
      "failure for {'pertubation_method': 'Cholesky', 'x_length': 5, 'x_bounds': (-500, 500), 'annealing_schedule': 'simple_exponential_cooling', 'objective_function': <function rana_func at 0x000001462171A160>, 'maximum_archive_length': 100, 'archive_minimum_acceptable_dissimilarity': 0.2, 'maximum_markov_chain_length': 50, 'maximum_function_evaluations': 10000, 'step_size_initialisation_fraction_of_range': 0.01, 'bound_enforcing_method': 'clipping', 'cholesky_path_length': 5, 'pertubation_alpha': 0.2, 'pertubation_omega': 2.2}\n",
      "failure for {'pertubation_method': 'Cholesky', 'x_length': 5, 'x_bounds': (-500, 500), 'annealing_schedule': 'simple_exponential_cooling', 'objective_function': <function rana_func at 0x000001462171A160>, 'maximum_archive_length': 100, 'archive_minimum_acceptable_dissimilarity': 0.2, 'maximum_markov_chain_length': 50, 'maximum_function_evaluations': 10000, 'step_size_initialisation_fraction_of_range': 0.1, 'bound_enforcing_method': 'clipping', 'cholesky_path_length': 5, 'pertubation_alpha': 0.2, 'pertubation_omega': 2.2}\n",
      "failure for {'pertubation_method': 'Cholesky', 'x_length': 5, 'x_bounds': (-500, 500), 'annealing_schedule': 'simple_exponential_cooling', 'objective_function': <function rana_func at 0x000001462171A160>, 'maximum_archive_length': 100, 'archive_minimum_acceptable_dissimilarity': 0.2, 'maximum_markov_chain_length': 100, 'maximum_function_evaluations': 10000, 'step_size_initialisation_fraction_of_range': 0.01, 'bound_enforcing_method': 'clipping', 'cholesky_path_length': 5, 'pertubation_alpha': 0.2, 'pertubation_omega': 2.1}\n",
      "failure for {'pertubation_method': 'Cholesky', 'x_length': 5, 'x_bounds': (-500, 500), 'annealing_schedule': 'simple_exponential_cooling', 'objective_function': <function rana_func at 0x000001462171A160>, 'maximum_archive_length': 100, 'archive_minimum_acceptable_dissimilarity': 0.2, 'maximum_markov_chain_length': 100, 'maximum_function_evaluations': 10000, 'step_size_initialisation_fraction_of_range': 0.01, 'bound_enforcing_method': 'clipping', 'cholesky_path_length': 5, 'pertubation_alpha': 0.2, 'pertubation_omega': 2.2}\n",
      "failure for {'pertubation_method': 'Cholesky', 'x_length': 5, 'x_bounds': (-500, 500), 'annealing_schedule': 'simple_exponential_cooling', 'objective_function': <function rana_func at 0x000001462171A160>, 'maximum_archive_length': 100, 'archive_minimum_acceptable_dissimilarity': 0.2, 'maximum_markov_chain_length': 100, 'maximum_function_evaluations': 10000, 'step_size_initialisation_fraction_of_range': 0.05, 'bound_enforcing_method': 'clipping', 'cholesky_path_length': 5, 'pertubation_alpha': 0.2, 'pertubation_omega': 2.2}\n",
      "failure for {'pertubation_method': 'Cholesky', 'x_length': 5, 'x_bounds': (-500, 500), 'annealing_schedule': 'simple_exponential_cooling', 'objective_function': <function rana_func at 0x000001462171A160>, 'maximum_archive_length': 100, 'archive_minimum_acceptable_dissimilarity': 0.2, 'maximum_markov_chain_length': 100, 'maximum_function_evaluations': 10000, 'step_size_initialisation_fraction_of_range': 0.1, 'bound_enforcing_method': 'clipping', 'cholesky_path_length': 5, 'pertubation_alpha': 0.2, 'pertubation_omega': 2.0}\n",
      "failure for {'pertubation_method': 'Cholesky', 'x_length': 5, 'x_bounds': (-500, 500), 'annealing_schedule': 'simple_exponential_cooling', 'objective_function': <function rana_func at 0x000001462171A160>, 'maximum_archive_length': 100, 'archive_minimum_acceptable_dissimilarity': 0.2, 'maximum_markov_chain_length': 100, 'maximum_function_evaluations': 10000, 'step_size_initialisation_fraction_of_range': 0.1, 'bound_enforcing_method': 'clipping', 'cholesky_path_length': 5, 'pertubation_alpha': 0.2, 'pertubation_omega': 2.2}\n",
      "failure for {'pertubation_method': 'Cholesky', 'x_length': 5, 'x_bounds': (-500, 500), 'annealing_schedule': 'simple_exponential_cooling', 'objective_function': <function rana_func at 0x000001462171A160>, 'maximum_archive_length': 100, 'archive_minimum_acceptable_dissimilarity': 0.2, 'maximum_markov_chain_length': 50, 'maximum_function_evaluations': 10000, 'step_size_initialisation_fraction_of_range': 0.01, 'bound_enforcing_method': 'not_clipping', 'cholesky_path_length': 5, 'pertubation_alpha': 0.2, 'pertubation_omega': 2.0}\n",
      "failure for {'pertubation_method': 'Cholesky', 'x_length': 5, 'x_bounds': (-500, 500), 'annealing_schedule': 'simple_exponential_cooling', 'objective_function': <function rana_func at 0x000001462171A160>, 'maximum_archive_length': 100, 'archive_minimum_acceptable_dissimilarity': 0.2, 'maximum_markov_chain_length': 50, 'maximum_function_evaluations': 10000, 'step_size_initialisation_fraction_of_range': 0.01, 'bound_enforcing_method': 'not_clipping', 'cholesky_path_length': 5, 'pertubation_alpha': 0.2, 'pertubation_omega': 2.1}\n",
      "failure for {'pertubation_method': 'Cholesky', 'x_length': 5, 'x_bounds': (-500, 500), 'annealing_schedule': 'simple_exponential_cooling', 'objective_function': <function rana_func at 0x000001462171A160>, 'maximum_archive_length': 100, 'archive_minimum_acceptable_dissimilarity': 0.2, 'maximum_markov_chain_length': 50, 'maximum_function_evaluations': 10000, 'step_size_initialisation_fraction_of_range': 0.01, 'bound_enforcing_method': 'not_clipping', 'cholesky_path_length': 5, 'pertubation_alpha': 0.2, 'pertubation_omega': 2.2}\n",
      "failure for {'pertubation_method': 'Cholesky', 'x_length': 5, 'x_bounds': (-500, 500), 'annealing_schedule': 'simple_exponential_cooling', 'objective_function': <function rana_func at 0x000001462171A160>, 'maximum_archive_length': 100, 'archive_minimum_acceptable_dissimilarity': 0.2, 'maximum_markov_chain_length': 50, 'maximum_function_evaluations': 10000, 'step_size_initialisation_fraction_of_range': 0.05, 'bound_enforcing_method': 'not_clipping', 'cholesky_path_length': 5, 'pertubation_alpha': 0.05, 'pertubation_omega': 2.0}\n",
      "failure for {'pertubation_method': 'Cholesky', 'x_length': 5, 'x_bounds': (-500, 500), 'annealing_schedule': 'simple_exponential_cooling', 'objective_function': <function rana_func at 0x000001462171A160>, 'maximum_archive_length': 100, 'archive_minimum_acceptable_dissimilarity': 0.2, 'maximum_markov_chain_length': 50, 'maximum_function_evaluations': 10000, 'step_size_initialisation_fraction_of_range': 0.05, 'bound_enforcing_method': 'not_clipping', 'cholesky_path_length': 5, 'pertubation_alpha': 0.2, 'pertubation_omega': 2.0}\n",
      "failure for {'pertubation_method': 'Cholesky', 'x_length': 5, 'x_bounds': (-500, 500), 'annealing_schedule': 'simple_exponential_cooling', 'objective_function': <function rana_func at 0x000001462171A160>, 'maximum_archive_length': 100, 'archive_minimum_acceptable_dissimilarity': 0.2, 'maximum_markov_chain_length': 50, 'maximum_function_evaluations': 10000, 'step_size_initialisation_fraction_of_range': 0.05, 'bound_enforcing_method': 'not_clipping', 'cholesky_path_length': 5, 'pertubation_alpha': 0.2, 'pertubation_omega': 2.1}\n",
      "failure for {'pertubation_method': 'Cholesky', 'x_length': 5, 'x_bounds': (-500, 500), 'annealing_schedule': 'simple_exponential_cooling', 'objective_function': <function rana_func at 0x000001462171A160>, 'maximum_archive_length': 100, 'archive_minimum_acceptable_dissimilarity': 0.2, 'maximum_markov_chain_length': 50, 'maximum_function_evaluations': 10000, 'step_size_initialisation_fraction_of_range': 0.05, 'bound_enforcing_method': 'not_clipping', 'cholesky_path_length': 5, 'pertubation_alpha': 0.2, 'pertubation_omega': 2.2}\n"
     ]
    },
    {
     "name": "stdout",
     "output_type": "stream",
     "text": [
      "failure for {'pertubation_method': 'Cholesky', 'x_length': 5, 'x_bounds': (-500, 500), 'annealing_schedule': 'simple_exponential_cooling', 'objective_function': <function rana_func at 0x000001462171A160>, 'maximum_archive_length': 100, 'archive_minimum_acceptable_dissimilarity': 0.2, 'maximum_markov_chain_length': 50, 'maximum_function_evaluations': 10000, 'step_size_initialisation_fraction_of_range': 0.1, 'bound_enforcing_method': 'not_clipping', 'cholesky_path_length': 5, 'pertubation_alpha': 0.1, 'pertubation_omega': 2.2}\n",
      "failure for {'pertubation_method': 'Cholesky', 'x_length': 5, 'x_bounds': (-500, 500), 'annealing_schedule': 'simple_exponential_cooling', 'objective_function': <function rana_func at 0x000001462171A160>, 'maximum_archive_length': 100, 'archive_minimum_acceptable_dissimilarity': 0.2, 'maximum_markov_chain_length': 50, 'maximum_function_evaluations': 10000, 'step_size_initialisation_fraction_of_range': 0.1, 'bound_enforcing_method': 'not_clipping', 'cholesky_path_length': 5, 'pertubation_alpha': 0.2, 'pertubation_omega': 2.0}\n",
      "failure for {'pertubation_method': 'Cholesky', 'x_length': 5, 'x_bounds': (-500, 500), 'annealing_schedule': 'simple_exponential_cooling', 'objective_function': <function rana_func at 0x000001462171A160>, 'maximum_archive_length': 100, 'archive_minimum_acceptable_dissimilarity': 0.2, 'maximum_markov_chain_length': 50, 'maximum_function_evaluations': 10000, 'step_size_initialisation_fraction_of_range': 0.1, 'bound_enforcing_method': 'not_clipping', 'cholesky_path_length': 5, 'pertubation_alpha': 0.2, 'pertubation_omega': 2.1}\n",
      "failure for {'pertubation_method': 'Cholesky', 'x_length': 5, 'x_bounds': (-500, 500), 'annealing_schedule': 'simple_exponential_cooling', 'objective_function': <function rana_func at 0x000001462171A160>, 'maximum_archive_length': 100, 'archive_minimum_acceptable_dissimilarity': 0.2, 'maximum_markov_chain_length': 50, 'maximum_function_evaluations': 10000, 'step_size_initialisation_fraction_of_range': 0.1, 'bound_enforcing_method': 'not_clipping', 'cholesky_path_length': 5, 'pertubation_alpha': 0.2, 'pertubation_omega': 2.2}\n",
      "failure for {'pertubation_method': 'Cholesky', 'x_length': 5, 'x_bounds': (-500, 500), 'annealing_schedule': 'simple_exponential_cooling', 'objective_function': <function rana_func at 0x000001462171A160>, 'maximum_archive_length': 100, 'archive_minimum_acceptable_dissimilarity': 0.2, 'maximum_markov_chain_length': 100, 'maximum_function_evaluations': 10000, 'step_size_initialisation_fraction_of_range': 0.01, 'bound_enforcing_method': 'not_clipping', 'cholesky_path_length': 5, 'pertubation_alpha': 0.1, 'pertubation_omega': 2.1}\n",
      "failure for {'pertubation_method': 'Cholesky', 'x_length': 5, 'x_bounds': (-500, 500), 'annealing_schedule': 'simple_exponential_cooling', 'objective_function': <function rana_func at 0x000001462171A160>, 'maximum_archive_length': 100, 'archive_minimum_acceptable_dissimilarity': 0.2, 'maximum_markov_chain_length': 100, 'maximum_function_evaluations': 10000, 'step_size_initialisation_fraction_of_range': 0.01, 'bound_enforcing_method': 'not_clipping', 'cholesky_path_length': 5, 'pertubation_alpha': 0.1, 'pertubation_omega': 2.2}\n",
      "failure for {'pertubation_method': 'Cholesky', 'x_length': 5, 'x_bounds': (-500, 500), 'annealing_schedule': 'simple_exponential_cooling', 'objective_function': <function rana_func at 0x000001462171A160>, 'maximum_archive_length': 100, 'archive_minimum_acceptable_dissimilarity': 0.2, 'maximum_markov_chain_length': 100, 'maximum_function_evaluations': 10000, 'step_size_initialisation_fraction_of_range': 0.01, 'bound_enforcing_method': 'not_clipping', 'cholesky_path_length': 5, 'pertubation_alpha': 0.2, 'pertubation_omega': 2.0}\n",
      "failure for {'pertubation_method': 'Cholesky', 'x_length': 5, 'x_bounds': (-500, 500), 'annealing_schedule': 'simple_exponential_cooling', 'objective_function': <function rana_func at 0x000001462171A160>, 'maximum_archive_length': 100, 'archive_minimum_acceptable_dissimilarity': 0.2, 'maximum_markov_chain_length': 100, 'maximum_function_evaluations': 10000, 'step_size_initialisation_fraction_of_range': 0.01, 'bound_enforcing_method': 'not_clipping', 'cholesky_path_length': 5, 'pertubation_alpha': 0.2, 'pertubation_omega': 2.1}\n",
      "failure for {'pertubation_method': 'Cholesky', 'x_length': 5, 'x_bounds': (-500, 500), 'annealing_schedule': 'simple_exponential_cooling', 'objective_function': <function rana_func at 0x000001462171A160>, 'maximum_archive_length': 100, 'archive_minimum_acceptable_dissimilarity': 0.2, 'maximum_markov_chain_length': 100, 'maximum_function_evaluations': 10000, 'step_size_initialisation_fraction_of_range': 0.01, 'bound_enforcing_method': 'not_clipping', 'cholesky_path_length': 5, 'pertubation_alpha': 0.2, 'pertubation_omega': 2.2}\n",
      "failure for {'pertubation_method': 'Cholesky', 'x_length': 5, 'x_bounds': (-500, 500), 'annealing_schedule': 'simple_exponential_cooling', 'objective_function': <function rana_func at 0x000001462171A160>, 'maximum_archive_length': 100, 'archive_minimum_acceptable_dissimilarity': 0.2, 'maximum_markov_chain_length': 100, 'maximum_function_evaluations': 10000, 'step_size_initialisation_fraction_of_range': 0.05, 'bound_enforcing_method': 'not_clipping', 'cholesky_path_length': 5, 'pertubation_alpha': 0.1, 'pertubation_omega': 2.0}\n",
      "failure for {'pertubation_method': 'Cholesky', 'x_length': 5, 'x_bounds': (-500, 500), 'annealing_schedule': 'simple_exponential_cooling', 'objective_function': <function rana_func at 0x000001462171A160>, 'maximum_archive_length': 100, 'archive_minimum_acceptable_dissimilarity': 0.2, 'maximum_markov_chain_length': 100, 'maximum_function_evaluations': 10000, 'step_size_initialisation_fraction_of_range': 0.05, 'bound_enforcing_method': 'not_clipping', 'cholesky_path_length': 5, 'pertubation_alpha': 0.1, 'pertubation_omega': 2.1}\n",
      "failure for {'pertubation_method': 'Cholesky', 'x_length': 5, 'x_bounds': (-500, 500), 'annealing_schedule': 'simple_exponential_cooling', 'objective_function': <function rana_func at 0x000001462171A160>, 'maximum_archive_length': 100, 'archive_minimum_acceptable_dissimilarity': 0.2, 'maximum_markov_chain_length': 100, 'maximum_function_evaluations': 10000, 'step_size_initialisation_fraction_of_range': 0.05, 'bound_enforcing_method': 'not_clipping', 'cholesky_path_length': 5, 'pertubation_alpha': 0.1, 'pertubation_omega': 2.2}\n",
      "failure for {'pertubation_method': 'Cholesky', 'x_length': 5, 'x_bounds': (-500, 500), 'annealing_schedule': 'simple_exponential_cooling', 'objective_function': <function rana_func at 0x000001462171A160>, 'maximum_archive_length': 100, 'archive_minimum_acceptable_dissimilarity': 0.2, 'maximum_markov_chain_length': 100, 'maximum_function_evaluations': 10000, 'step_size_initialisation_fraction_of_range': 0.05, 'bound_enforcing_method': 'not_clipping', 'cholesky_path_length': 5, 'pertubation_alpha': 0.2, 'pertubation_omega': 2.0}\n",
      "failure for {'pertubation_method': 'Cholesky', 'x_length': 5, 'x_bounds': (-500, 500), 'annealing_schedule': 'simple_exponential_cooling', 'objective_function': <function rana_func at 0x000001462171A160>, 'maximum_archive_length': 100, 'archive_minimum_acceptable_dissimilarity': 0.2, 'maximum_markov_chain_length': 100, 'maximum_function_evaluations': 10000, 'step_size_initialisation_fraction_of_range': 0.05, 'bound_enforcing_method': 'not_clipping', 'cholesky_path_length': 5, 'pertubation_alpha': 0.2, 'pertubation_omega': 2.1}\n",
      "failure for {'pertubation_method': 'Cholesky', 'x_length': 5, 'x_bounds': (-500, 500), 'annealing_schedule': 'simple_exponential_cooling', 'objective_function': <function rana_func at 0x000001462171A160>, 'maximum_archive_length': 100, 'archive_minimum_acceptable_dissimilarity': 0.2, 'maximum_markov_chain_length': 100, 'maximum_function_evaluations': 10000, 'step_size_initialisation_fraction_of_range': 0.05, 'bound_enforcing_method': 'not_clipping', 'cholesky_path_length': 5, 'pertubation_alpha': 0.2, 'pertubation_omega': 2.2}\n",
      "failure for {'pertubation_method': 'Cholesky', 'x_length': 5, 'x_bounds': (-500, 500), 'annealing_schedule': 'simple_exponential_cooling', 'objective_function': <function rana_func at 0x000001462171A160>, 'maximum_archive_length': 100, 'archive_minimum_acceptable_dissimilarity': 0.2, 'maximum_markov_chain_length': 100, 'maximum_function_evaluations': 10000, 'step_size_initialisation_fraction_of_range': 0.1, 'bound_enforcing_method': 'not_clipping', 'cholesky_path_length': 5, 'pertubation_alpha': 0.1, 'pertubation_omega': 2.0}\n"
     ]
    },
    {
     "name": "stdout",
     "output_type": "stream",
     "text": [
      "failure for {'pertubation_method': 'Cholesky', 'x_length': 5, 'x_bounds': (-500, 500), 'annealing_schedule': 'simple_exponential_cooling', 'objective_function': <function rana_func at 0x000001462171A160>, 'maximum_archive_length': 100, 'archive_minimum_acceptable_dissimilarity': 0.2, 'maximum_markov_chain_length': 100, 'maximum_function_evaluations': 10000, 'step_size_initialisation_fraction_of_range': 0.1, 'bound_enforcing_method': 'not_clipping', 'cholesky_path_length': 5, 'pertubation_alpha': 0.1, 'pertubation_omega': 2.1}\n",
      "failure for {'pertubation_method': 'Cholesky', 'x_length': 5, 'x_bounds': (-500, 500), 'annealing_schedule': 'simple_exponential_cooling', 'objective_function': <function rana_func at 0x000001462171A160>, 'maximum_archive_length': 100, 'archive_minimum_acceptable_dissimilarity': 0.2, 'maximum_markov_chain_length': 100, 'maximum_function_evaluations': 10000, 'step_size_initialisation_fraction_of_range': 0.1, 'bound_enforcing_method': 'not_clipping', 'cholesky_path_length': 5, 'pertubation_alpha': 0.1, 'pertubation_omega': 2.2}\n",
      "failure for {'pertubation_method': 'Cholesky', 'x_length': 5, 'x_bounds': (-500, 500), 'annealing_schedule': 'simple_exponential_cooling', 'objective_function': <function rana_func at 0x000001462171A160>, 'maximum_archive_length': 100, 'archive_minimum_acceptable_dissimilarity': 0.2, 'maximum_markov_chain_length': 100, 'maximum_function_evaluations': 10000, 'step_size_initialisation_fraction_of_range': 0.1, 'bound_enforcing_method': 'not_clipping', 'cholesky_path_length': 5, 'pertubation_alpha': 0.2, 'pertubation_omega': 2.0}\n",
      "failure for {'pertubation_method': 'Cholesky', 'x_length': 5, 'x_bounds': (-500, 500), 'annealing_schedule': 'simple_exponential_cooling', 'objective_function': <function rana_func at 0x000001462171A160>, 'maximum_archive_length': 100, 'archive_minimum_acceptable_dissimilarity': 0.2, 'maximum_markov_chain_length': 100, 'maximum_function_evaluations': 10000, 'step_size_initialisation_fraction_of_range': 0.1, 'bound_enforcing_method': 'not_clipping', 'cholesky_path_length': 5, 'pertubation_alpha': 0.2, 'pertubation_omega': 2.1}\n",
      "failure for {'pertubation_method': 'Cholesky', 'x_length': 5, 'x_bounds': (-500, 500), 'annealing_schedule': 'simple_exponential_cooling', 'objective_function': <function rana_func at 0x000001462171A160>, 'maximum_archive_length': 100, 'archive_minimum_acceptable_dissimilarity': 0.2, 'maximum_markov_chain_length': 100, 'maximum_function_evaluations': 10000, 'step_size_initialisation_fraction_of_range': 0.1, 'bound_enforcing_method': 'not_clipping', 'cholesky_path_length': 5, 'pertubation_alpha': 0.2, 'pertubation_omega': 2.2}\n",
      "failure for {'pertubation_method': 'Cholesky', 'x_length': 5, 'x_bounds': (-500, 500), 'annealing_schedule': 'simple_exponential_cooling', 'objective_function': <function rana_func at 0x000001462171A160>, 'maximum_archive_length': 100, 'archive_minimum_acceptable_dissimilarity': 0.2, 'maximum_markov_chain_length': 200, 'maximum_function_evaluations': 10000, 'step_size_initialisation_fraction_of_range': 0.01, 'bound_enforcing_method': 'not_clipping', 'cholesky_path_length': 5, 'pertubation_alpha': 0.1, 'pertubation_omega': 2.0}\n",
      "failure for {'pertubation_method': 'Cholesky', 'x_length': 5, 'x_bounds': (-500, 500), 'annealing_schedule': 'simple_exponential_cooling', 'objective_function': <function rana_func at 0x000001462171A160>, 'maximum_archive_length': 100, 'archive_minimum_acceptable_dissimilarity': 0.2, 'maximum_markov_chain_length': 200, 'maximum_function_evaluations': 10000, 'step_size_initialisation_fraction_of_range': 0.01, 'bound_enforcing_method': 'not_clipping', 'cholesky_path_length': 5, 'pertubation_alpha': 0.1, 'pertubation_omega': 2.1}\n",
      "failure for {'pertubation_method': 'Cholesky', 'x_length': 5, 'x_bounds': (-500, 500), 'annealing_schedule': 'simple_exponential_cooling', 'objective_function': <function rana_func at 0x000001462171A160>, 'maximum_archive_length': 100, 'archive_minimum_acceptable_dissimilarity': 0.2, 'maximum_markov_chain_length': 200, 'maximum_function_evaluations': 10000, 'step_size_initialisation_fraction_of_range': 0.01, 'bound_enforcing_method': 'not_clipping', 'cholesky_path_length': 5, 'pertubation_alpha': 0.2, 'pertubation_omega': 2.0}\n",
      "failure for {'pertubation_method': 'Cholesky', 'x_length': 5, 'x_bounds': (-500, 500), 'annealing_schedule': 'simple_exponential_cooling', 'objective_function': <function rana_func at 0x000001462171A160>, 'maximum_archive_length': 100, 'archive_minimum_acceptable_dissimilarity': 0.2, 'maximum_markov_chain_length': 200, 'maximum_function_evaluations': 10000, 'step_size_initialisation_fraction_of_range': 0.01, 'bound_enforcing_method': 'not_clipping', 'cholesky_path_length': 5, 'pertubation_alpha': 0.2, 'pertubation_omega': 2.1}\n",
      "failure for {'pertubation_method': 'Cholesky', 'x_length': 5, 'x_bounds': (-500, 500), 'annealing_schedule': 'simple_exponential_cooling', 'objective_function': <function rana_func at 0x000001462171A160>, 'maximum_archive_length': 100, 'archive_minimum_acceptable_dissimilarity': 0.2, 'maximum_markov_chain_length': 200, 'maximum_function_evaluations': 10000, 'step_size_initialisation_fraction_of_range': 0.01, 'bound_enforcing_method': 'not_clipping', 'cholesky_path_length': 5, 'pertubation_alpha': 0.2, 'pertubation_omega': 2.2}\n",
      "failure for {'pertubation_method': 'Cholesky', 'x_length': 5, 'x_bounds': (-500, 500), 'annealing_schedule': 'simple_exponential_cooling', 'objective_function': <function rana_func at 0x000001462171A160>, 'maximum_archive_length': 100, 'archive_minimum_acceptable_dissimilarity': 0.2, 'maximum_markov_chain_length': 200, 'maximum_function_evaluations': 10000, 'step_size_initialisation_fraction_of_range': 0.05, 'bound_enforcing_method': 'not_clipping', 'cholesky_path_length': 5, 'pertubation_alpha': 0.1, 'pertubation_omega': 2.0}\n",
      "failure for {'pertubation_method': 'Cholesky', 'x_length': 5, 'x_bounds': (-500, 500), 'annealing_schedule': 'simple_exponential_cooling', 'objective_function': <function rana_func at 0x000001462171A160>, 'maximum_archive_length': 100, 'archive_minimum_acceptable_dissimilarity': 0.2, 'maximum_markov_chain_length': 200, 'maximum_function_evaluations': 10000, 'step_size_initialisation_fraction_of_range': 0.05, 'bound_enforcing_method': 'not_clipping', 'cholesky_path_length': 5, 'pertubation_alpha': 0.2, 'pertubation_omega': 2.0}\n",
      "failure for {'pertubation_method': 'Cholesky', 'x_length': 5, 'x_bounds': (-500, 500), 'annealing_schedule': 'simple_exponential_cooling', 'objective_function': <function rana_func at 0x000001462171A160>, 'maximum_archive_length': 100, 'archive_minimum_acceptable_dissimilarity': 0.2, 'maximum_markov_chain_length': 200, 'maximum_function_evaluations': 10000, 'step_size_initialisation_fraction_of_range': 0.05, 'bound_enforcing_method': 'not_clipping', 'cholesky_path_length': 5, 'pertubation_alpha': 0.2, 'pertubation_omega': 2.1}\n",
      "failure for {'pertubation_method': 'Cholesky', 'x_length': 5, 'x_bounds': (-500, 500), 'annealing_schedule': 'simple_exponential_cooling', 'objective_function': <function rana_func at 0x000001462171A160>, 'maximum_archive_length': 100, 'archive_minimum_acceptable_dissimilarity': 0.2, 'maximum_markov_chain_length': 200, 'maximum_function_evaluations': 10000, 'step_size_initialisation_fraction_of_range': 0.05, 'bound_enforcing_method': 'not_clipping', 'cholesky_path_length': 5, 'pertubation_alpha': 0.2, 'pertubation_omega': 2.2}\n",
      "failure for {'pertubation_method': 'Cholesky', 'x_length': 5, 'x_bounds': (-500, 500), 'annealing_schedule': 'simple_exponential_cooling', 'objective_function': <function rana_func at 0x000001462171A160>, 'maximum_archive_length': 100, 'archive_minimum_acceptable_dissimilarity': 0.2, 'maximum_markov_chain_length': 200, 'maximum_function_evaluations': 10000, 'step_size_initialisation_fraction_of_range': 0.1, 'bound_enforcing_method': 'not_clipping', 'cholesky_path_length': 5, 'pertubation_alpha': 0.05, 'pertubation_omega': 2.2}\n",
      "failure for {'pertubation_method': 'Cholesky', 'x_length': 5, 'x_bounds': (-500, 500), 'annealing_schedule': 'simple_exponential_cooling', 'objective_function': <function rana_func at 0x000001462171A160>, 'maximum_archive_length': 100, 'archive_minimum_acceptable_dissimilarity': 0.2, 'maximum_markov_chain_length': 200, 'maximum_function_evaluations': 10000, 'step_size_initialisation_fraction_of_range': 0.1, 'bound_enforcing_method': 'not_clipping', 'cholesky_path_length': 5, 'pertubation_alpha': 0.1, 'pertubation_omega': 2.1}\n"
     ]
    },
    {
     "name": "stdout",
     "output_type": "stream",
     "text": [
      "failure for {'pertubation_method': 'Cholesky', 'x_length': 5, 'x_bounds': (-500, 500), 'annealing_schedule': 'simple_exponential_cooling', 'objective_function': <function rana_func at 0x000001462171A160>, 'maximum_archive_length': 100, 'archive_minimum_acceptable_dissimilarity': 0.2, 'maximum_markov_chain_length': 200, 'maximum_function_evaluations': 10000, 'step_size_initialisation_fraction_of_range': 0.1, 'bound_enforcing_method': 'not_clipping', 'cholesky_path_length': 5, 'pertubation_alpha': 0.1, 'pertubation_omega': 2.2}\n",
      "failure for {'pertubation_method': 'Cholesky', 'x_length': 5, 'x_bounds': (-500, 500), 'annealing_schedule': 'simple_exponential_cooling', 'objective_function': <function rana_func at 0x000001462171A160>, 'maximum_archive_length': 100, 'archive_minimum_acceptable_dissimilarity': 0.2, 'maximum_markov_chain_length': 200, 'maximum_function_evaluations': 10000, 'step_size_initialisation_fraction_of_range': 0.1, 'bound_enforcing_method': 'not_clipping', 'cholesky_path_length': 5, 'pertubation_alpha': 0.2, 'pertubation_omega': 2.0}\n",
      "failure for {'pertubation_method': 'Cholesky', 'x_length': 5, 'x_bounds': (-500, 500), 'annealing_schedule': 'simple_exponential_cooling', 'objective_function': <function rana_func at 0x000001462171A160>, 'maximum_archive_length': 100, 'archive_minimum_acceptable_dissimilarity': 0.2, 'maximum_markov_chain_length': 200, 'maximum_function_evaluations': 10000, 'step_size_initialisation_fraction_of_range': 0.1, 'bound_enforcing_method': 'not_clipping', 'cholesky_path_length': 5, 'pertubation_alpha': 0.2, 'pertubation_omega': 2.1}\n",
      "failure for {'pertubation_method': 'Cholesky', 'x_length': 5, 'x_bounds': (-500, 500), 'annealing_schedule': 'simple_exponential_cooling', 'objective_function': <function rana_func at 0x000001462171A160>, 'maximum_archive_length': 100, 'archive_minimum_acceptable_dissimilarity': 0.2, 'maximum_markov_chain_length': 200, 'maximum_function_evaluations': 10000, 'step_size_initialisation_fraction_of_range': 0.1, 'bound_enforcing_method': 'not_clipping', 'cholesky_path_length': 5, 'pertubation_alpha': 0.2, 'pertubation_omega': 2.2}\n"
     ]
    },
    {
     "name": "stderr",
     "output_type": "stream",
     "text": [
      "D:\\Documents\\Work\\2020\\Cambridge MLMI\\MLMI\\Practical Optimisation\\Assignment 2\\SimulatedAnealing.py:149: RuntimeWarning: invalid value encountered in double_scalars\n",
      "  probability_of_accept = np.exp(-delta_objective / (self.temperature*np.sqrt(np.sum(delta_x**2))))\n"
     ]
    }
   ],
   "source": [
    "for pertubation_method in [\"Cholesky\", \"Diagonal\", \"simple\"]:\n",
    "    for clipping_method in [\"clipping\", \"not_clipping\"]:\n",
    "        for maximum_markov_chain_length in [50, 100, 200]:\n",
    "            for step_size_initialisation_fraction_of_range in [0.01, 0.05, 0.1]:\n",
    "                if pertubation_method in [\"Cholesky\", \"Diagonal\"]:\n",
    "                    for pertubation_alpha in [0.05, 0.1, 0.2]:\n",
    "                        for pertubation_omega in [2.0, 2.1, 2.2]:\n",
    "\n",
    "                            config = {\"pertubation_method\": pertubation_method,\n",
    "                                     \"x_length\": 5,\n",
    "                                     \"x_bounds\": (-500, 500),\n",
    "                                     \"annealing_schedule\":\"simple_exponential_cooling\",\n",
    "                                     \"objective_function\": rana_func,\n",
    "                                     \"maximum_archive_length\": 100,\n",
    "                                     \"archive_minimum_acceptable_dissimilarity\": 0.2,\n",
    "                                     \"maximum_markov_chain_length\": maximum_markov_chain_length,\n",
    "                                     \"maximum_function_evaluations\": 10000,\n",
    "                                     \"step_size_initialisation_fraction_of_range\": step_size_initialisation_fraction_of_range,\n",
    "                                     \"bound_enforcing_method\": clipping_method,\n",
    "                                     \"cholesky_path_length\": 5,\n",
    "                                    \"pertubation_alpha\" : pertubation_alpha, \"pertubation_omega\" : pertubation_omega,\n",
    "                                    }\n",
    "                            try:\n",
    "                                results = multiple_runs_with_different_seed(Class=SimulatedAnnealing, class_argument=config,\n",
    "                                                                            n_iterations=3)\n",
    "                                mean_performance = np.mean(results[:, 1])\n",
    "                                best_performance = np.min(results[:, 1])\n",
    "                                std_perormance = np.std(results[:, 1])\n",
    "                                average_runtime = np.mean(results[:, 2])\n",
    "                                config[\"mean_performance\"] = mean_performance\n",
    "                                config[\"best_performance\"] = best_performance\n",
    "                                config[\"std_perormance\"] = std_perormance\n",
    "                                config[\"average_runtime\"] = average_runtime\n",
    "                                initial_results_df  = initial_results_df.append(config, ignore_index=True)\n",
    "                            except:\n",
    "                                print(f\"failure for {config}\")\n",
    "                else:\n",
    "                    config = {\"pertubation_method\": pertubation_method,\n",
    "                             \"x_length\": 5,\n",
    "                             \"x_bounds\": (-500, 500),\n",
    "                             \"annealing_schedule\":\"simple_exponential_cooling\",\n",
    "                             \"objective_function\": rana_func,\n",
    "                             \"maximum_archive_length\": 100,\n",
    "                             \"archive_minimum_acceptable_dissimilarity\": 0.2,\n",
    "                             \"maximum_markov_chain_length\": maximum_markov_chain_length,\n",
    "                             \"maximum_function_evaluations\": 10000,\n",
    "                             \"step_size_initialisation_fraction_of_range\": step_size_initialisation_fraction_of_range,\n",
    "                             \"bound_enforcing_method\": clipping_method}\n",
    "                    try:\n",
    "                        results = multiple_runs_with_different_seed(Class=SimulatedAnnealing, class_argument=config,\n",
    "                                                                    n_iterations=3)\n",
    "                        mean_performance = np.mean(results[:, 1])\n",
    "                        best_performance = np.min(results[:, 1])\n",
    "                        std_perormance = np.std(results[:, 1])\n",
    "                        average_runtime = np.mean(results[:, 2])\n",
    "                        config[\"mean_performance\"] = mean_performance\n",
    "                        config[\"best_performance\"] = best_performance\n",
    "                        config[\"std_perormance\"] = std_perormance\n",
    "                        config[\"average_runtime\"] = average_runtime\n",
    "                        initial_results_df  = initial_results_df.append(config, ignore_index=True)\n",
    "                    except:\n",
    "                        print(f\"failure for {config}\")"
   ]
  },
  {
   "cell_type": "code",
   "execution_count": null,
   "metadata": {},
   "outputs": [],
   "source": [
    "initial_results_df.to_csv(\"Simulated_Annealing_Notebooks/stored_data/initial_results.csv\")"
   ]
  },
  {
   "cell_type": "code",
   "execution_count": 35,
   "metadata": {},
   "outputs": [
    {
     "data": {
      "text/plain": [
       "annealing_schedule                                            simple_exponential_cooling\n",
       "archive_minimum_acceptable_dissimilarity                                             0.2\n",
       "best_performance                                                                -1995.49\n",
       "bound_enforcing_method                                                          clipping\n",
       "cholesky_path_length                                                                   5\n",
       "maximum_archive_length                                                               100\n",
       "maximum_function_evaluations                                                       10000\n",
       "maximum_markov_chain_length                                                           50\n",
       "mean_performance                                                                -1993.74\n",
       "objective_function                            <function rana_func at 0x000001462171A160>\n",
       "pertubation_alpha                                                                    0.1\n",
       "pertubation_method                                                              Cholesky\n",
       "pertubation_omega                                                                    2.2\n",
       "step_size_initialisation_fraction_of_range                                          0.01\n",
       "x_bounds                                                                     (-500, 500)\n",
       "x_length                                                                               5\n",
       "average_runtime                                                                  3.21003\n",
       "std_perormance                                                                   1.26439\n",
       "Name: 6, dtype: object"
      ]
     },
     "execution_count": 35,
     "metadata": {},
     "output_type": "execute_result"
    }
   ],
   "source": [
    "initial_results_df.iloc[np.argmin(initial_results_df[\"mean_performance\"])]"
   ]
  },
  {
   "cell_type": "markdown",
   "metadata": {},
   "source": [
    "# Overall method parameter selection (check with clipping and without for param agreement)"
   ]
  },
  {
   "cell_type": "code",
   "execution_count": 36,
   "metadata": {},
   "outputs": [
    {
     "data": {
      "text/plain": [
       "annealing_schedule                                            simple_exponential_cooling\n",
       "archive_minimum_acceptable_dissimilarity                                             0.2\n",
       "best_performance                                                                -1995.49\n",
       "bound_enforcing_method                                                          clipping\n",
       "cholesky_path_length                                                                   5\n",
       "maximum_archive_length                                                               100\n",
       "maximum_function_evaluations                                                       10000\n",
       "maximum_markov_chain_length                                                           50\n",
       "mean_performance                                                                -1993.74\n",
       "objective_function                            <function rana_func at 0x000001462171A160>\n",
       "pertubation_alpha                                                                    0.1\n",
       "pertubation_method                                                              Cholesky\n",
       "pertubation_omega                                                                    2.2\n",
       "step_size_initialisation_fraction_of_range                                          0.01\n",
       "x_bounds                                                                     (-500, 500)\n",
       "x_length                                                                               5\n",
       "average_runtime                                                                  3.21003\n",
       "std_perormance                                                                   1.26439\n",
       "Name: 6, dtype: object"
      ]
     },
     "execution_count": 36,
     "metadata": {},
     "output_type": "execute_result"
    }
   ],
   "source": [
    "Cholesky_df = initial_results_df[(initial_results_df[\"pertubation_method\"] == \"Cholesky\") & \n",
    "                                 (initial_results_df[\"bound_enforcing_method\"] == \"clipping\")]\n",
    "Cholesky_df.iloc[np.argmin(Cholesky_df[\"mean_performance\"])]"
   ]
  },
  {
   "cell_type": "code",
   "execution_count": 33,
   "metadata": {},
   "outputs": [
    {
     "data": {
      "text/plain": [
       "annealing_schedule                                            simple_exponential_cooling\n",
       "archive_minimum_acceptable_dissimilarity                                             0.2\n",
       "best_performance                                                                -1852.69\n",
       "bound_enforcing_method                                                      not_clipping\n",
       "cholesky_path_length                                                                   5\n",
       "maximum_archive_length                                                               100\n",
       "maximum_function_evaluations                                                       10000\n",
       "maximum_markov_chain_length                                                          100\n",
       "mean_performance                                                                -1703.09\n",
       "objective_function                            <function rana_func at 0x000001462171A160>\n",
       "pertubation_alpha                                                                   0.05\n",
       "pertubation_method                                                              Cholesky\n",
       "pertubation_omega                                                                    2.2\n",
       "step_size_initialisation_fraction_of_range                                          0.05\n",
       "x_bounds                                                                     (-500, 500)\n",
       "x_length                                                                               5\n",
       "average_runtime                                                                  3.86514\n",
       "std_perormance                                                                   169.712\n",
       "Name: 191, dtype: object"
      ]
     },
     "execution_count": 33,
     "metadata": {},
     "output_type": "execute_result"
    }
   ],
   "source": [
    "Cholesky_df = initial_results_df[(initial_results_df[\"pertubation_method\"] == \"Cholesky\") & \n",
    "                                 (initial_results_df[\"bound_enforcing_method\"] == \"not_clipping\")]\n",
    "Cholesky_df.iloc[np.argmin(Cholesky_df[\"mean_performance\"])]"
   ]
  },
  {
   "cell_type": "code",
   "execution_count": 34,
   "metadata": {},
   "outputs": [
    {
     "data": {
      "text/plain": [
       "annealing_schedule                                            simple_exponential_cooling\n",
       "archive_minimum_acceptable_dissimilarity                                             0.2\n",
       "best_performance                                                                -1772.69\n",
       "bound_enforcing_method                                                      not_clipping\n",
       "cholesky_path_length                                                                   5\n",
       "maximum_archive_length                                                               100\n",
       "maximum_function_evaluations                                                       10000\n",
       "maximum_markov_chain_length                                                          100\n",
       "mean_performance                                                                -1643.74\n",
       "objective_function                            <function rana_func at 0x000001462171A160>\n",
       "pertubation_alpha                                                                   0.05\n",
       "pertubation_method                                                              Diagonal\n",
       "pertubation_omega                                                                    2.2\n",
       "step_size_initialisation_fraction_of_range                                          0.05\n",
       "x_bounds                                                                     (-500, 500)\n",
       "x_length                                                                               5\n",
       "average_runtime                                                                  2.49665\n",
       "std_perormance                                                                   143.585\n",
       "Name: 326, dtype: object"
      ]
     },
     "execution_count": 34,
     "metadata": {},
     "output_type": "execute_result"
    }
   ],
   "source": [
    "Diag_df = initial_results_df[(initial_results_df[\"pertubation_method\"] == \"Diagonal\") & \n",
    "                                 (initial_results_df[\"bound_enforcing_method\"] == \"not_clipping\")]\n",
    "Diag_df.iloc[np.argmin(Diag_df[\"mean_performance\"])]\n"
   ]
  },
  {
   "cell_type": "code",
   "execution_count": null,
   "metadata": {},
   "outputs": [],
   "source": []
  },
  {
   "cell_type": "markdown",
   "metadata": {},
   "source": [
    "# Before Optimisation"
   ]
  },
  {
   "cell_type": "code",
   "execution_count": 26,
   "metadata": {},
   "outputs": [],
   "source": [
    "Chol_config = {\"pertubation_method\": \"Cholesky\",\n",
    "                     \"x_length\": 5,\n",
    "                     \"x_bounds\": (-500, 500),\n",
    "                     \"annealing_schedule\":\"simple_exponential_cooling\",\n",
    "                     \"objective_function\": rana_func,\n",
    "                     \"maximum_archive_length\": 100,\n",
    "                     \"archive_minimum_acceptable_dissimilarity\": 0.2,\n",
    "                     \"maximum_markov_chain_length\": 50,\n",
    "                     \"maximum_function_evaluations\": 10000,\n",
    "                     \"step_size_initialisation_fraction_of_range\": 0.01,\n",
    "                     \"bound_enforcing_method\": \"not_clipping\",\n",
    "                     \"cholesky_path_length\": 5,\n",
    "                    }"
   ]
  },
  {
   "cell_type": "code",
   "execution_count": 27,
   "metadata": {},
   "outputs": [],
   "source": [
    "results_chol = multiple_runs_with_different_seed(Class=SimulatedAnnealing, class_argument=Chol_config)\n",
    "mean_performance = np.mean(results_chol[:, 1])\n",
    "best_performance = np.min(results_chol[:, 1])\n",
    "std_perormance = np.std(results_chol[:, 1])\n",
    "average_runtime = np.mean(results_chol[:, 2])\n"
   ]
  },
  {
   "cell_type": "code",
   "execution_count": 28,
   "metadata": {},
   "outputs": [
    {
     "data": {
      "text/html": [
       "<div>\n",
       "<style scoped>\n",
       "    .dataframe tbody tr th:only-of-type {\n",
       "        vertical-align: middle;\n",
       "    }\n",
       "\n",
       "    .dataframe tbody tr th {\n",
       "        vertical-align: top;\n",
       "    }\n",
       "\n",
       "    .dataframe thead th {\n",
       "        text-align: right;\n",
       "    }\n",
       "</style>\n",
       "<table border=\"1\" class=\"dataframe\">\n",
       "  <thead>\n",
       "    <tr style=\"text-align: right;\">\n",
       "      <th></th>\n",
       "      <th>Cholsky</th>\n",
       "    </tr>\n",
       "  </thead>\n",
       "  <tbody>\n",
       "    <tr>\n",
       "      <th>mean_performance</th>\n",
       "      <td>-1507.491383</td>\n",
       "    </tr>\n",
       "    <tr>\n",
       "      <th>best_performance</th>\n",
       "      <td>-1675.655421</td>\n",
       "    </tr>\n",
       "    <tr>\n",
       "      <th>std_perormance</th>\n",
       "      <td>112.990543</td>\n",
       "    </tr>\n",
       "    <tr>\n",
       "      <th>average_runtime</th>\n",
       "      <td>3.017490</td>\n",
       "    </tr>\n",
       "  </tbody>\n",
       "</table>\n",
       "</div>"
      ],
      "text/plain": [
       "                      Cholsky\n",
       "mean_performance -1507.491383\n",
       "best_performance -1675.655421\n",
       "std_perormance     112.990543\n",
       "average_runtime      3.017490"
      ]
     },
     "execution_count": 28,
     "metadata": {},
     "output_type": "execute_result"
    }
   ],
   "source": [
    "results_df = pd.DataFrame(data=[mean_performance, best_performance, std_perormance,  average_runtime], columns=[\"Cholsky\"], index=[\"mean_performance\", \"best_performance\", \"std_perormance\",  \"average_runtime\"])\n",
    "results_df"
   ]
  },
  {
   "cell_type": "code",
   "execution_count": 29,
   "metadata": {},
   "outputs": [
    {
     "data": {
      "text/html": [
       "<div>\n",
       "<style scoped>\n",
       "    .dataframe tbody tr th:only-of-type {\n",
       "        vertical-align: middle;\n",
       "    }\n",
       "\n",
       "    .dataframe tbody tr th {\n",
       "        vertical-align: top;\n",
       "    }\n",
       "\n",
       "    .dataframe thead th {\n",
       "        text-align: right;\n",
       "    }\n",
       "</style>\n",
       "<table border=\"1\" class=\"dataframe\">\n",
       "  <thead>\n",
       "    <tr style=\"text-align: right;\">\n",
       "      <th></th>\n",
       "      <th>Cholsky</th>\n",
       "      <th>Diagonal</th>\n",
       "      <th>Simple</th>\n",
       "    </tr>\n",
       "  </thead>\n",
       "  <tbody>\n",
       "    <tr>\n",
       "      <th>mean_performance</th>\n",
       "      <td>-1507.491383</td>\n",
       "      <td>-1553.661050</td>\n",
       "      <td>-493.647223</td>\n",
       "    </tr>\n",
       "    <tr>\n",
       "      <th>best_performance</th>\n",
       "      <td>-1675.655421</td>\n",
       "      <td>-1807.167467</td>\n",
       "      <td>-499.783187</td>\n",
       "    </tr>\n",
       "    <tr>\n",
       "      <th>std_perormance</th>\n",
       "      <td>112.990543</td>\n",
       "      <td>124.453645</td>\n",
       "      <td>6.164107</td>\n",
       "    </tr>\n",
       "    <tr>\n",
       "      <th>average_runtime</th>\n",
       "      <td>3.017490</td>\n",
       "      <td>1.839443</td>\n",
       "      <td>1.247701</td>\n",
       "    </tr>\n",
       "  </tbody>\n",
       "</table>\n",
       "</div>"
      ],
      "text/plain": [
       "                      Cholsky     Diagonal      Simple\n",
       "mean_performance -1507.491383 -1553.661050 -493.647223\n",
       "best_performance -1675.655421 -1807.167467 -499.783187\n",
       "std_perormance     112.990543   124.453645    6.164107\n",
       "average_runtime      3.017490     1.839443    1.247701"
      ]
     },
     "execution_count": 29,
     "metadata": {},
     "output_type": "execute_result"
    }
   ],
   "source": [
    "Diag_config = {\"pertubation_method\": \"Diagonal\",\n",
    "                     \"x_length\": 5,\n",
    "                     \"x_bounds\": (-500, 500),\n",
    "                     \"annealing_schedule\":\"simple_exponential_cooling\",\n",
    "                     \"objective_function\": rana_func,\n",
    "                     \"maximum_archive_length\": 100,\n",
    "                     \"archive_minimum_acceptable_dissimilarity\": 0.2,\n",
    "                     \"maximum_markov_chain_length\": 50,\n",
    "                     \"maximum_function_evaluations\": 10000,\n",
    "                     \"step_size_initialisation_fraction_of_range\": 0.1,\n",
    "                     \"bound_enforcing_method\": \"not_clipping\",\n",
    "                     \"cholesky_path_length\": 5,\n",
    "                    }\n",
    "results_diag = multiple_runs_with_different_seed(Class=SimulatedAnnealing, class_argument=Diag_config)\n",
    "mean_performance = np.mean(results_diag[:, 1])\n",
    "best_performance = np.min(results_diag[:, 1])\n",
    "std_perormance = np.std(results_diag[:, 1])\n",
    "average_runtime = np.mean(results_diag[:, 2])\n",
    "results_df[\"Diagonal\"] = [mean_performance, best_performance, std_perormance,  average_runtime]\n",
    "\n",
    "Simple_config = {\"pertubation_method\": \"simple\",\n",
    "                     \"x_length\": 2,\n",
    "                     \"x_bounds\": (-500, 500),\n",
    "                     \"annealing_schedule\":\"simple_exponential_cooling\",\n",
    "                     \"objective_function\": rana_func,\n",
    "                     \"maximum_archive_length\": 100,\n",
    "                     \"archive_minimum_acceptable_dissimilarity\": 0.2,\n",
    "                     \"maximum_markov_chain_length\": 50,\n",
    "                     \"maximum_function_evaluations\": 10000,\n",
    "                     \"step_size_initialisation_fraction_of_range\": 0.1,\n",
    "                     \"bound_enforcing_method\": \"not_clipping\",\n",
    "                     \"cholesky_path_length\": 5,\n",
    "                    }\n",
    "results_simple = multiple_runs_with_different_seed(Class=SimulatedAnnealing, class_argument=Simple_config)\n",
    "mean_performance = np.mean(results_simple[:, 1])\n",
    "best_performance = np.min(results_simple[:, 1])\n",
    "std_perormance = np.std(results_simple[:, 1])\n",
    "average_runtime = np.mean(results_simple[:, 2])\n",
    "results_df[\"Simple\"] = [mean_performance, best_performance, std_perormance,  average_runtime]\n",
    "results_df"
   ]
  },
  {
   "cell_type": "code",
   "execution_count": null,
   "metadata": {},
   "outputs": [],
   "source": []
  }
 ],
 "metadata": {
  "kernelspec": {
   "display_name": "Python 3",
   "language": "python",
   "name": "python3"
  },
  "language_info": {
   "codemirror_mode": {
    "name": "ipython",
    "version": 3
   },
   "file_extension": ".py",
   "mimetype": "text/x-python",
   "name": "python",
   "nbconvert_exporter": "python",
   "pygments_lexer": "ipython3",
   "version": "3.8.5"
  }
 },
 "nbformat": 4,
 "nbformat_minor": 4
}
