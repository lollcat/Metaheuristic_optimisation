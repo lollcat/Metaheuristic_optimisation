{
 "cells": [
  {
   "cell_type": "code",
   "execution_count": 1,
   "metadata": {},
   "outputs": [],
   "source": [
    "# set path to parent file\n",
    "from pathlib import Path\n",
    "import os\n",
    "cwd_path = Path.cwd()\n",
    "set_path = str(cwd_path.parent)\n",
    "os.chdir(set_path)"
   ]
  },
  {
   "cell_type": "code",
   "execution_count": 2,
   "metadata": {},
   "outputs": [],
   "source": [
    "import numpy as np\n",
    "import matplotlib.pyplot as plt\n",
    "import matplotlib as mpl\n",
    "import importlib\n",
    "import SimulatedAnealing \n",
    "importlib.reload(SimulatedAnealing)\n",
    "SimulatedAnnealing = SimulatedAnealing.SimulatedAnnealing\n",
    "mpl.rcParams['figure.dpi'] = 300\n",
    "from rana import rana_func"
   ]
  },
  {
   "cell_type": "code",
   "execution_count": 10,
   "metadata": {},
   "outputs": [],
   "source": [
    "random_seed = 1\n",
    "x_length = 5\n",
    "maximum_markov_chain_length = 50\n",
    "bound_enforcing_method = \"not_clipping\" # \"clipping\" # \n",
    "step_size_initialisation_fraction_of_range= 0.01"
   ]
  },
  {
   "cell_type": "markdown",
   "metadata": {},
   "source": [
    "# Notes\n",
    "    - seems like the \"better\" methods don't explore enough at the start\n",
    "    - step size control makes big difference (clipp and initialisation)\n",
    "    - fancy temperature annealing doesn't help - need to read literature "
   ]
  },
  {
   "cell_type": "markdown",
   "metadata": {},
   "source": [
    "# With Cholesky"
   ]
  },
  {
   "cell_type": "code",
   "execution_count": 11,
   "metadata": {},
   "outputs": [
    {
     "name": "stderr",
     "output_type": "stream",
     "text": [
      "D:\\Documents\\Work\\2020\\Cambridge MLMI\\MLMI\\Practical Optimisation\\Assignment 2\\SimulatedAnealing.py:141: RuntimeWarning: overflow encountered in exp\n",
      "  probability_of_accept = np.exp(-delta_objective / self.temperature)\n"
     ]
    },
    {
     "name": "stdout",
     "output_type": "stream",
     "text": [
      "x_result = [-403.278389    494.42793791  474.15575647 -435.86400373 -331.15154298] \n",
      " objective_result = -1415.8520450804363 \n",
      " number of function evaluations = 10000\n"
     ]
    }
   ],
   "source": [
    "np.random.seed(random_seed)\n",
    "x_max = 500\n",
    "x_min = -x_max\n",
    "rana_2d_chol = SimulatedAnnealing(x_length=x_length, x_bounds=(x_min, x_max), objective_function=rana_func,\n",
    "                              pertubation_method = \"Cholesky\", maximum_archive_length=100, maximum_markov_chain_length=maximum_markov_chain_length,\n",
    "                                   maximum_function_evaluations=10000, with_restarts=False, bound_enforcing_method=bound_enforcing_method,\n",
    "                                 cholesky_path_length=10, step_size_initialisation_fraction_of_range=step_size_initialisation_fraction_of_range)\n",
    "x_result_chol, objective_result_chol = rana_2d_chol.run()\n",
    "print(f\"x_result = {x_result_chol} \\n objective_result = {objective_result_chol} \\n \"\n",
    "      f\"number of function evaluations = {rana_2d_chol.objective_function_evaluation_count}\")"
   ]
  },
  {
   "cell_type": "markdown",
   "metadata": {},
   "source": [
    "# With diagonal thing"
   ]
  },
  {
   "cell_type": "code",
   "execution_count": null,
   "metadata": {},
   "outputs": [],
   "source": [
    "np.random.seed(random_seed )\n",
    "x_max = 500\n",
    "x_min = -x_max   #  annealing_schedule = \"adaptive_cooling\", \n",
    "rana_2d_diag = SimulatedAnnealing(x_length=x_length, x_bounds=(x_min, x_max), objective_function=rana_func,\n",
    "                              pertubation_method = \"Diagonal\", maximum_archive_length=100, step_size_initialisation_fraction_of_range=0.5,\n",
    "                                  maximum_markov_chain_length=maximum_markov_chain_length, with_restarts=False, bound_enforcing_method=bound_enforcing_method,\n",
    "                                   maximum_function_evaluations=10000)\n",
    "# annealing_schedule = \"adaptive_cooling\", \n",
    "x_result_diag, objective_result_diag = rana_2d_diag.run()\n",
    "print(f\"x_result = {x_result_diag} \\n objective_result = {objective_result_diag} \\n \"\n",
    "      f\"number of function evaluations = {rana_2d_diag.objective_function_evaluation_count}\")\n",
    "\n",
    "archive_x_diag = np.array([x_archive for x_archive, f_archive in rana_2d_diag.archive])\n",
    "archive_f_diag = np.array([f_archive for x_archive, f_archive in rana_2d_diag.archive])"
   ]
  },
  {
   "cell_type": "code",
   "execution_count": null,
   "metadata": {},
   "outputs": [],
   "source": [
    "rana_2d_diag.step_size_matrix"
   ]
  },
  {
   "cell_type": "code",
   "execution_count": null,
   "metadata": {},
   "outputs": [],
   "source": [
    "plt.plot(rana_2d_diag.step_size_matrix_history)"
   ]
  },
  {
   "cell_type": "markdown",
   "metadata": {},
   "source": [
    "# Simple"
   ]
  },
  {
   "cell_type": "code",
   "execution_count": null,
   "metadata": {},
   "outputs": [],
   "source": [
    "np.random.seed(random_seed )\n",
    "x_max = 500\n",
    "x_min = -x_max\n",
    "rana_2d = SimulatedAnnealing(x_length=x_length, x_bounds=(x_min, x_max), objective_function=rana_func,\n",
    "                             maximum_archive_length=100, maximum_markov_chain_length=maximum_markov_chain_length, \n",
    "                             bound_enforcing_method=bound_enforcing_method,\n",
    "                                   maximum_function_evaluations=10000)\n",
    "x_result, objective_result = rana_2d.run()\n",
    "print(f\"x_result = {x_result} \\n objective_result = {objective_result} \\n \"\n",
    "      f\"number of function evaluations = {rana_2d.objective_function_evaluation_count}\")\n",
    "\n",
    "archive_x = np.array([x_archive for x_archive, f_archive in rana_2d.archive])\n",
    "archive_f = np.array([f_archive for x_archive, f_archive in rana_2d.archive])"
   ]
  },
  {
   "cell_type": "markdown",
   "metadata": {},
   "source": [
    "# Reults"
   ]
  },
  {
   "cell_type": "code",
   "execution_count": null,
   "metadata": {},
   "outputs": [],
   "source": [
    "fig, axs = plt.subplots(3, sharey=True)\n",
    "axs[0].plot(rana_2d_chol.objective_history, label=\"chol\")\n",
    "axs[1].plot(rana_2d_diag.objective_history, label=\"diag\")\n",
    "axs[2].plot(rana_2d.objective_history, label=\"simple\")\n",
    "axs[0].set_title(\"chol\")\n",
    "axs[1].set_title(\"diag\")\n",
    "plt.tight_layout()"
   ]
  },
  {
   "cell_type": "code",
   "execution_count": null,
   "metadata": {},
   "outputs": [],
   "source": [
    "fig, axs = plt.subplots(3, sharey=True)\n",
    "axs[0].plot(rana_2d_chol.accepted_objective_history_array[:, 1], rana_2d_chol.accepted_objective_history_array[:, 0], label=\"chol\")\n",
    "axs[1].plot(rana_2d_diag.accepted_objective_history_array[:, 1], rana_2d_diag.accepted_objective_history_array[:, 0], label=\"diag\")\n",
    "axs[2].plot(rana_2d.accepted_objective_history_array[:, 1], rana_2d.accepted_objective_history_array[:, 0], label=\"simple\")\n",
    "axs[0].set_title(\"chol\")\n",
    "axs[1].set_title(\"diag\")\n",
    "plt.tight_layout()"
   ]
  },
  {
   "cell_type": "code",
   "execution_count": null,
   "metadata": {
    "scrolled": false
   },
   "outputs": [],
   "source": [
    "# temperature history\n",
    "fig, axs = plt.subplots(3)\n",
    "temp_history_chol = np.array(rana_2d_chol.temperature_history)\n",
    "axs[0].step(temp_history_chol[:, 2], temp_history_chol[:, 0], label=\"chol\")\n",
    "temp_history_diag = np.array(rana_2d_diag.temperature_history)\n",
    "axs[1].step(temp_history_diag[:, 2], temp_history_diag[:, 0], label=\"diag\")\n",
    "temp_history = np.array(rana_2d.temperature_history)\n",
    "axs[2].step(temp_history[:, 1], temp_history[:, 0], label=\"simple\")\n",
    "\n",
    "\n",
    "axs[0].set_title(\"chol\")\n",
    "axs[1].set_title(\"diag\")\n",
    "axs[0].set_ylabel(\"temperature\")\n",
    "axs[1].set_ylabel(\"temperature\")\n",
    "axs[2].set_ylabel(\"temperature\")\n",
    "axs[2].set_xlabel(\"n_function_evaluations\")\n",
    "plt.tight_layout()"
   ]
  },
  {
   "cell_type": "code",
   "execution_count": null,
   "metadata": {
    "scrolled": true
   },
   "outputs": [],
   "source": [
    "# probability of acceptence\n",
    "fig, axs = plt.subplots(3)\n",
    "axs[0].plot(rana_2d_chol.probability_of_acceptance_history, \"r\", label=\"chol\")\n",
    "axs[0].set_ylim(0, 1)\n",
    "axs[1].plot(rana_2d_diag.probability_of_acceptance_history, \"r\", label=\"diag\")\n",
    "axs[1].set_ylim(0, 1)\n",
    "axs[2].plot(rana_2d.probability_of_acceptance_history, \"r\", label=\"simple\")\n",
    "axs[2].set_ylim(0, 1)\n",
    "plt.tight_layout()\n",
    "\n",
    "axs[0].set_title(\"chol\")\n",
    "axs[1].set_title(\"diag\")\n",
    "axs[0].set_ylabel(\"probability\")\n",
    "axs[1].set_ylabel(\"probability\")\n",
    "axs[2].set_ylabel(\"probability\")"
   ]
  },
  {
   "cell_type": "markdown",
   "metadata": {},
   "source": [
    "# Fancy temperature"
   ]
  },
  {
   "cell_type": "code",
   "execution_count": null,
   "metadata": {},
   "outputs": [],
   "source": [
    "maximum_markov_chain_length = 250\n",
    "random_seed = 1"
   ]
  },
  {
   "cell_type": "markdown",
   "metadata": {},
   "source": [
    "## With Cholesky"
   ]
  },
  {
   "cell_type": "code",
   "execution_count": null,
   "metadata": {},
   "outputs": [],
   "source": [
    "np.random.seed(random_seed)\n",
    "x_max = 500\n",
    "x_min = -x_max\n",
    "rana_2d_chol = SimulatedAnnealing(x_length=x_length, x_bounds=(x_min, x_max), objective_function=rana_func,\n",
    "                              pertubation_method = \"Cholesky\", bound_enforcing_method=bound_enforcing_method,\n",
    "                             maximum_archive_length=100,annealing_schedule = \"adaptive_cooling\", maximum_markov_chain_length= maximum_markov_chain_length,\n",
    "                                   maximum_function_evaluations=10000)\n",
    "x_result_chol, objective_result_chol = rana_2d_chol.run()\n",
    "print(f\"x_result = {x_result_chol} \\n objective_result = {objective_result_chol} \\n \"\n",
    "      f\"number of function evaluations = {rana_2d_chol.objective_function_evaluation_count}\")"
   ]
  },
  {
   "cell_type": "markdown",
   "metadata": {},
   "source": [
    "## With diagonal thing"
   ]
  },
  {
   "cell_type": "code",
   "execution_count": null,
   "metadata": {},
   "outputs": [],
   "source": [
    "np.random.seed(random_seed )\n",
    "x_max = 500\n",
    "x_min = -x_max   #  , \n",
    "rana_2d_diag = SimulatedAnnealing(x_length=x_length, x_bounds=(x_min, x_max), objective_function=rana_func,\n",
    "                              pertubation_method = \"Diagonal\", \n",
    "                                  maximum_archive_length=100,annealing_schedule = \"adaptive_cooling\", maximum_markov_chain_length= maximum_markov_chain_length,\n",
    "                                   maximum_function_evaluations=10000, bound_enforcing_method=bound_enforcing_method)\n",
    "# annealing_schedule = \"adaptive_cooling\", \n",
    "x_result_diag, objective_result_diag = rana_2d_diag.run()\n",
    "print(f\"x_result = {x_result_diag} \\n objective_result = {objective_result_diag} \\n \"\n",
    "      f\"number of function evaluations = {rana_2d_diag.objective_function_evaluation_count}\")"
   ]
  },
  {
   "cell_type": "markdown",
   "metadata": {},
   "source": [
    "# Simple"
   ]
  },
  {
   "cell_type": "code",
   "execution_count": null,
   "metadata": {},
   "outputs": [],
   "source": [
    "np.random.seed(random_seed )\n",
    "x_max = 500\n",
    "x_min = -x_max\n",
    "rana_2d = SimulatedAnnealing(x_length=x_length, x_bounds=(x_min, x_max), objective_function=rana_func,\n",
    "                             maximum_archive_length=100,annealing_schedule = \"adaptive_cooling\", maximum_markov_chain_length= maximum_markov_chain_length,\n",
    "                                   maximum_function_evaluations=10000)\n",
    "x_result, objective_result = rana_2d.run()\n",
    "print(f\"x_result = {x_result} \\n objective_result = {objective_result} \\n \"\n",
    "      f\"number of function evaluations = {rana_2d.objective_function_evaluation_count}\")"
   ]
  },
  {
   "cell_type": "markdown",
   "metadata": {},
   "source": [
    "# Results"
   ]
  },
  {
   "cell_type": "code",
   "execution_count": null,
   "metadata": {
    "scrolled": false
   },
   "outputs": [],
   "source": [
    "fig, axs = plt.subplots(3)\n",
    "axs[0].plot(rana_2d_chol.objective_history, label=\"chol\")\n",
    "axs[1].plot(rana_2d_diag.objective_history, label=\"diag\")\n",
    "axs[2].plot(rana_2d.objective_history, label=\"simple\")\n",
    "plt.tight_layout()"
   ]
  },
  {
   "cell_type": "code",
   "execution_count": null,
   "metadata": {},
   "outputs": [],
   "source": [
    "fig, axs = plt.subplots(3, sharey=True)\n",
    "axs[0].plot(rana_2d_chol.accepted_objective_history_array[:, 1], rana_2d_chol.accepted_objective_history_array[:, 0], label=\"chol\")\n",
    "axs[1].plot(rana_2d_diag.accepted_objective_history_array[:, 1], rana_2d_diag.accepted_objective_history_array[:, 0], label=\"diag\")\n",
    "axs[2].plot(rana_2d.accepted_objective_history_array[:, 1], rana_2d.accepted_objective_history_array[:, 0], label=\"simple\")\n",
    "axs[0].set_title(\"chol\")\n",
    "axs[1].set_title(\"diag\")\n",
    "plt.tight_layout()"
   ]
  },
  {
   "cell_type": "code",
   "execution_count": null,
   "metadata": {
    "scrolled": false
   },
   "outputs": [],
   "source": [
    "# temperature history\n",
    "fig, axs = plt.subplots(3)\n",
    "temp_history_chol = np.array(rana_2d_chol.temperature_history)\n",
    "axs[0].plot(temp_history_chol[:, 2], temp_history_chol[:, 0], label=\"chol\")\n",
    "temp_history_diag = np.array(rana_2d_diag.temperature_history)\n",
    "axs[1].plot(temp_history_diag[:, 2], temp_history_diag[:, 0], label=\"diag\")\n",
    "temp_history = np.array(rana_2d.temperature_history)\n",
    "axs[2].plot(temp_history[:, 2], temp_history[:, 0], label=\"simple\")\n",
    "plt.tight_layout()\n",
    "axs[2].set_xlabel(\"n_function_evaluations\")"
   ]
  },
  {
   "cell_type": "code",
   "execution_count": null,
   "metadata": {
    "scrolled": false
   },
   "outputs": [],
   "source": [
    "# probability of acceptence\n",
    "fig, axs = plt.subplots(3)\n",
    "axs[0].plot(rana_2d_chol.probability_of_acceptance_history, \"r\", label=\"chol\")\n",
    "axs[0].set_ylim(0, 1)\n",
    "axs[1].plot(rana_2d_diag.probability_of_acceptance_history, \"r\", label=\"diag\")\n",
    "axs[1].set_ylim(0, 1)\n",
    "axs[2].plot(rana_2d.probability_of_acceptance_history, \"r\", label=\"simple\")\n",
    "axs[2].set_ylim(0, 1)"
   ]
  },
  {
   "cell_type": "markdown",
   "metadata": {},
   "source": [
    "# old"
   ]
  },
  {
   "cell_type": "code",
   "execution_count": null,
   "metadata": {
    "scrolled": true
   },
   "outputs": [],
   "source": [
    "fig, ax = plt.subplots(1)\n",
    "temp_history_chol = np.array(rana_2d_chol.temperature_history)\n",
    "ax.plot(temp_history_chol[:, 1], temp_history_chol[:, 0])"
   ]
  },
  {
   "cell_type": "code",
   "execution_count": null,
   "metadata": {},
   "outputs": [],
   "source": [
    "plt.plot(rana_2d_chol.probability_of_acceptance_history, \"r\")\n",
    "plt.ylim(0, 1)"
   ]
  },
  {
   "cell_type": "code",
   "execution_count": null,
   "metadata": {},
   "outputs": [],
   "source": [
    "plt.plot(rana_2d_chol.objective_history)"
   ]
  },
  {
   "cell_type": "markdown",
   "metadata": {},
   "source": [
    "# Diag"
   ]
  },
  {
   "cell_type": "code",
   "execution_count": null,
   "metadata": {},
   "outputs": [],
   "source": [
    "fig, ax = plt.subplots(1)\n",
    "temp_history = np.array(rana_2d_diag.temperature_history)\n",
    "ax.plot(temp_history[:, 1], temp_history[:, 0])"
   ]
  },
  {
   "cell_type": "code",
   "execution_count": null,
   "metadata": {},
   "outputs": [],
   "source": [
    "plt.plot(rana_2d_diag.probability_of_acceptance_history, \"r\")\n",
    "plt.ylim(0, 1)"
   ]
  },
  {
   "cell_type": "code",
   "execution_count": null,
   "metadata": {},
   "outputs": [],
   "source": [
    "plt.plot(rana_2d_diag.objective_history)"
   ]
  },
  {
   "cell_type": "markdown",
   "metadata": {},
   "source": [
    "# Without any fancy step size stuff"
   ]
  },
  {
   "cell_type": "code",
   "execution_count": null,
   "metadata": {
    "scrolled": true
   },
   "outputs": [],
   "source": [
    "fig, ax = plt.subplots(1)\n",
    "temp_history = np.array(rana_2d.temperature_history)\n",
    "ax.plot(temp_history[:, 1], temp_history[:, 0])"
   ]
  },
  {
   "cell_type": "code",
   "execution_count": null,
   "metadata": {},
   "outputs": [],
   "source": [
    "plt.plot(rana_2d.probability_of_acceptance_history, \"r\")\n",
    "plt.ylim(0, 1)"
   ]
  },
  {
   "cell_type": "code",
   "execution_count": null,
   "metadata": {},
   "outputs": [],
   "source": [
    "plt.plot(rana_2d.objective_history)"
   ]
  },
  {
   "cell_type": "code",
   "execution_count": null,
   "metadata": {},
   "outputs": [],
   "source": []
  }
 ],
 "metadata": {
  "kernelspec": {
   "display_name": "Python 3",
   "language": "python",
   "name": "python3"
  },
  "language_info": {
   "codemirror_mode": {
    "name": "ipython",
    "version": 3
   },
   "file_extension": ".py",
   "mimetype": "text/x-python",
   "name": "python",
   "nbconvert_exporter": "python",
   "pygments_lexer": "ipython3",
   "version": "3.8.5"
  }
 },
 "nbformat": 4,
 "nbformat_minor": 4
}
