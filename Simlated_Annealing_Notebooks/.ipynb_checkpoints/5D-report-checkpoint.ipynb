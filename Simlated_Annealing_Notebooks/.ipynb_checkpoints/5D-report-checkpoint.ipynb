{
 "cells": [
  {
   "cell_type": "code",
   "execution_count": 1,
   "metadata": {},
   "outputs": [],
   "source": [
    "# set path to parent file\n",
    "from pathlib import Path\n",
    "import os\n",
    "cwd_path = Path.cwd()\n",
    "set_path = str(cwd_path.parent)\n",
    "os.chdir(set_path)"
   ]
  },
  {
   "cell_type": "code",
   "execution_count": 2,
   "metadata": {},
   "outputs": [],
   "source": [
    "from Utils import running_mean, multiple_runs_with_different_seed\n",
    "import numpy as np\n",
    "import pandas as pd\n",
    "import matplotlib.pyplot as plt\n",
    "import matplotlib as mpl\n",
    "import importlib\n",
    "import SimulatedAnealing \n",
    "importlib.reload(SimulatedAnealing)\n",
    "SimulatedAnnealing = SimulatedAnealing.SimulatedAnnealing\n",
    "mpl.rcParams['figure.dpi'] = 300\n",
    "from rana import rana_func"
   ]
  },
  {
   "cell_type": "markdown",
   "metadata": {},
   "source": [
    "# What do we want?\n",
    "\n",
    "# Which configurations to use\n"
   ]
  },
  {
   "cell_type": "markdown",
   "metadata": {},
   "source": [
    "# Average Performance"
   ]
  },
  {
   "cell_type": "code",
   "execution_count": null,
   "metadata": {},
   "outputs": [],
   "source": []
  },
  {
   "cell_type": "code",
   "execution_count": 3,
   "metadata": {},
   "outputs": [
    {
     "ename": "SyntaxError",
     "evalue": "unexpected EOF while parsing (<ipython-input-3-7be43f0e4033>, line 3)",
     "output_type": "error",
     "traceback": [
      "\u001b[1;36m  File \u001b[1;32m\"<ipython-input-3-7be43f0e4033>\"\u001b[1;36m, line \u001b[1;32m3\u001b[0m\n\u001b[1;33m    \u001b[0m\n\u001b[1;37m    ^\u001b[0m\n\u001b[1;31mSyntaxError\u001b[0m\u001b[1;31m:\u001b[0m unexpected EOF while parsing\n"
     ]
    }
   ],
   "source": [
    "for pertubation_method in [\"Cholesky\", \"Diagonal\", \"simple\"]:\n",
    "    for clipping_method in [\"clipping\", \"not_clipping\"]:\n",
    "        for maximum_markov_chain_length in [50, 100, 200]:\n",
    "            if method in [\"Cholesky\", \"Diagonal\"]:\n",
    "                for pertubation_alpha in [0.05, 0.1, 0.2]:\n",
    "                    for pertubation_omega in [2.0, 2.1, 2.2]:\n",
    "                        config = {\"pertubation_method\": pertubation_method,\n",
    "                                 \"x_length\": 5,\n",
    "                                 \"x_bounds\": (-500, 500),\n",
    "                                 \"annealing_schedule\":\"simple_exponential_cooling\",\n",
    "                                 \"objective_function\": rana_func,\n",
    "                                 \"maximum_archive_length\": 100,\n",
    "                                 \"archive_minimum_acceptable_dissimilarity\": 0.2,\n",
    "                                 \"maximum_markov_chain_length\": maximum_markov_chain_length,\n",
    "                                 \"maximum_function_evaluations\": 10000,\n",
    "                                 \"step_size_initialisation_fraction_of_range\": 0.01,\n",
    "                                 \"bound_enforcing_method\": clipping_method,\n",
    "                                 \"cholesky_path_length\": 5,\n",
    "                                \"pertubation_alpha\" : pertubation_alpha, \"pertubation_omega\" : pertubation_omega,\n",
    "                                }\n",
    "                    results = multiple_runs_with_different_seed(Class=SimulatedAnnealing, class_argument=config,\n",
    "                                                                n_iterations=10)\n",
    "                    mean_performance = np.mean(results[:, 1])\n",
    "                    best_performance = np.min(results[:, 1])\n",
    "                    std_perormance = np.std(results[:, 1])\n",
    "                    average_runtime = np.mean(results[:, 2])\n",
    "                                else:\n",
    "                \n",
    "    "
   ]
  },
  {
   "cell_type": "code",
   "execution_count": 12,
   "metadata": {},
   "outputs": [],
   "source": [
    "output = pd.DataFrame()\n",
    "output = output.append(Chol_config, ignore_index=True)"
   ]
  },
  {
   "cell_type": "code",
   "execution_count": 13,
   "metadata": {},
   "outputs": [
    {
     "data": {
      "text/html": [
       "<div>\n",
       "<style scoped>\n",
       "    .dataframe tbody tr th:only-of-type {\n",
       "        vertical-align: middle;\n",
       "    }\n",
       "\n",
       "    .dataframe tbody tr th {\n",
       "        vertical-align: top;\n",
       "    }\n",
       "\n",
       "    .dataframe thead th {\n",
       "        text-align: right;\n",
       "    }\n",
       "</style>\n",
       "<table border=\"1\" class=\"dataframe\">\n",
       "  <thead>\n",
       "    <tr style=\"text-align: right;\">\n",
       "      <th></th>\n",
       "      <th>annealing_schedule</th>\n",
       "      <th>archive_minimum_acceptable_dissimilarity</th>\n",
       "      <th>bound_enforcing_method</th>\n",
       "      <th>cholesky_path_length</th>\n",
       "      <th>maximum_archive_length</th>\n",
       "      <th>maximum_function_evaluations</th>\n",
       "      <th>maximum_markov_chain_length</th>\n",
       "      <th>objective_function</th>\n",
       "      <th>pertubation_method</th>\n",
       "      <th>step_size_initialisation_fraction_of_range</th>\n",
       "      <th>x_bounds</th>\n",
       "      <th>x_length</th>\n",
       "    </tr>\n",
       "  </thead>\n",
       "  <tbody>\n",
       "    <tr>\n",
       "      <th>0</th>\n",
       "      <td>simple_exponential_cooling</td>\n",
       "      <td>0.2</td>\n",
       "      <td>not_clipping</td>\n",
       "      <td>5.0</td>\n",
       "      <td>100.0</td>\n",
       "      <td>10000.0</td>\n",
       "      <td>50.0</td>\n",
       "      <td>&lt;function rana_func at 0x000001C203E2A3A0&gt;</td>\n",
       "      <td>Cholesky</td>\n",
       "      <td>0.01</td>\n",
       "      <td>(-500, 500)</td>\n",
       "      <td>5.0</td>\n",
       "    </tr>\n",
       "  </tbody>\n",
       "</table>\n",
       "</div>"
      ],
      "text/plain": [
       "           annealing_schedule  archive_minimum_acceptable_dissimilarity  \\\n",
       "0  simple_exponential_cooling                                       0.2   \n",
       "\n",
       "  bound_enforcing_method  cholesky_path_length  maximum_archive_length  \\\n",
       "0           not_clipping                   5.0                   100.0   \n",
       "\n",
       "   maximum_function_evaluations  maximum_markov_chain_length  \\\n",
       "0                       10000.0                         50.0   \n",
       "\n",
       "                           objective_function pertubation_method  \\\n",
       "0  <function rana_func at 0x000001C203E2A3A0>           Cholesky   \n",
       "\n",
       "   step_size_initialisation_fraction_of_range     x_bounds  x_length  \n",
       "0                                        0.01  (-500, 500)       5.0  "
      ]
     },
     "execution_count": 13,
     "metadata": {},
     "output_type": "execute_result"
    }
   ],
   "source": [
    "output"
   ]
  },
  {
   "cell_type": "markdown",
   "metadata": {},
   "source": [
    "# Before Optimisation"
   ]
  },
  {
   "cell_type": "code",
   "execution_count": 11,
   "metadata": {},
   "outputs": [],
   "source": [
    "Chol_config = {\"pertubation_method\": \"Cholesky\",\n",
    "                     \"x_length\": 5,\n",
    "                     \"x_bounds\": (-500, 500),\n",
    "                     \"annealing_schedule\":\"simple_exponential_cooling\",\n",
    "                     \"objective_function\": rana_func,\n",
    "                     \"maximum_archive_length\": 100,\n",
    "                     \"archive_minimum_acceptable_dissimilarity\": 0.2,\n",
    "                     \"maximum_markov_chain_length\": 50,\n",
    "                     \"maximum_function_evaluations\": 10000,\n",
    "                     \"step_size_initialisation_fraction_of_range\": 0.01,\n",
    "                     \"bound_enforcing_method\": \"not_clipping\",\n",
    "                     \"cholesky_path_length\": 5,\n",
    "                    }"
   ]
  },
  {
   "cell_type": "code",
   "execution_count": 8,
   "metadata": {},
   "outputs": [],
   "source": [
    "results_chol = multiple_runs_with_different_seed(Class=SimulatedAnnealing, class_argument=Chol_config)\n",
    "mean_performance = np.mean(results_chol[:, 1])\n",
    "best_performance = np.min(results_chol[:, 1])\n",
    "std_perormance = np.std(results_chol[:, 1])\n",
    "average_runtime = np.mean(results_chol[:, 2])\n"
   ]
  },
  {
   "cell_type": "code",
   "execution_count": 9,
   "metadata": {},
   "outputs": [
    {
     "data": {
      "text/html": [
       "<div>\n",
       "<style scoped>\n",
       "    .dataframe tbody tr th:only-of-type {\n",
       "        vertical-align: middle;\n",
       "    }\n",
       "\n",
       "    .dataframe tbody tr th {\n",
       "        vertical-align: top;\n",
       "    }\n",
       "\n",
       "    .dataframe thead th {\n",
       "        text-align: right;\n",
       "    }\n",
       "</style>\n",
       "<table border=\"1\" class=\"dataframe\">\n",
       "  <thead>\n",
       "    <tr style=\"text-align: right;\">\n",
       "      <th></th>\n",
       "      <th>Cholsky</th>\n",
       "    </tr>\n",
       "  </thead>\n",
       "  <tbody>\n",
       "    <tr>\n",
       "      <th>mean_performance</th>\n",
       "      <td>-1507.491383</td>\n",
       "    </tr>\n",
       "    <tr>\n",
       "      <th>best_performance</th>\n",
       "      <td>-1675.655421</td>\n",
       "    </tr>\n",
       "    <tr>\n",
       "      <th>std_perormance</th>\n",
       "      <td>112.990543</td>\n",
       "    </tr>\n",
       "    <tr>\n",
       "      <th>average_runtime</th>\n",
       "      <td>3.230964</td>\n",
       "    </tr>\n",
       "  </tbody>\n",
       "</table>\n",
       "</div>"
      ],
      "text/plain": [
       "                      Cholsky\n",
       "mean_performance -1507.491383\n",
       "best_performance -1675.655421\n",
       "std_perormance     112.990543\n",
       "average_runtime      3.230964"
      ]
     },
     "execution_count": 9,
     "metadata": {},
     "output_type": "execute_result"
    }
   ],
   "source": [
    "results_df = pd.DataFrame(data=[mean_performance, best_performance, std_perormance,  average_runtime], columns=[\"Cholsky\"], index=[\"mean_performance\", \"best_performance\", \"std_perormance\",  \"average_runtime\"])\n",
    "results_df"
   ]
  },
  {
   "cell_type": "code",
   "execution_count": 10,
   "metadata": {},
   "outputs": [
    {
     "data": {
      "text/html": [
       "<div>\n",
       "<style scoped>\n",
       "    .dataframe tbody tr th:only-of-type {\n",
       "        vertical-align: middle;\n",
       "    }\n",
       "\n",
       "    .dataframe tbody tr th {\n",
       "        vertical-align: top;\n",
       "    }\n",
       "\n",
       "    .dataframe thead th {\n",
       "        text-align: right;\n",
       "    }\n",
       "</style>\n",
       "<table border=\"1\" class=\"dataframe\">\n",
       "  <thead>\n",
       "    <tr style=\"text-align: right;\">\n",
       "      <th></th>\n",
       "      <th>Cholsky</th>\n",
       "      <th>Diagonal</th>\n",
       "      <th>Simple</th>\n",
       "    </tr>\n",
       "  </thead>\n",
       "  <tbody>\n",
       "    <tr>\n",
       "      <th>mean_performance</th>\n",
       "      <td>-1507.491383</td>\n",
       "      <td>-1553.661050</td>\n",
       "      <td>-493.647223</td>\n",
       "    </tr>\n",
       "    <tr>\n",
       "      <th>best_performance</th>\n",
       "      <td>-1675.655421</td>\n",
       "      <td>-1807.167467</td>\n",
       "      <td>-499.783187</td>\n",
       "    </tr>\n",
       "    <tr>\n",
       "      <th>std_perormance</th>\n",
       "      <td>112.990543</td>\n",
       "      <td>124.453645</td>\n",
       "      <td>6.164107</td>\n",
       "    </tr>\n",
       "    <tr>\n",
       "      <th>average_runtime</th>\n",
       "      <td>3.230964</td>\n",
       "      <td>1.889795</td>\n",
       "      <td>1.272036</td>\n",
       "    </tr>\n",
       "  </tbody>\n",
       "</table>\n",
       "</div>"
      ],
      "text/plain": [
       "                      Cholsky     Diagonal      Simple\n",
       "mean_performance -1507.491383 -1553.661050 -493.647223\n",
       "best_performance -1675.655421 -1807.167467 -499.783187\n",
       "std_perormance     112.990543   124.453645    6.164107\n",
       "average_runtime      3.230964     1.889795    1.272036"
      ]
     },
     "execution_count": 10,
     "metadata": {},
     "output_type": "execute_result"
    }
   ],
   "source": [
    "Diag_config = {\"pertubation_method\": \"Diagonal\",\n",
    "                     \"x_length\": 5,\n",
    "                     \"x_bounds\": (-500, 500),\n",
    "                     \"annealing_schedule\":\"simple_exponential_cooling\",\n",
    "                     \"objective_function\": rana_func,\n",
    "                     \"maximum_archive_length\": 100,\n",
    "                     \"archive_minimum_acceptable_dissimilarity\": 0.2,\n",
    "                     \"maximum_markov_chain_length\": 50,\n",
    "                     \"maximum_function_evaluations\": 10000,\n",
    "                     \"step_size_initialisation_fraction_of_range\": 0.1,\n",
    "                     \"bound_enforcing_method\": \"not_clipping\",\n",
    "                     \"cholesky_path_length\": 5,\n",
    "                    }\n",
    "results_diag = multiple_runs_with_different_seed(Class=SimulatedAnnealing, class_argument=Diag_config)\n",
    "mean_performance = np.mean(results_diag[:, 1])\n",
    "best_performance = np.min(results_diag[:, 1])\n",
    "std_perormance = np.std(results_diag[:, 1])\n",
    "average_runtime = np.mean(results_diag[:, 2])\n",
    "results_df[\"Diagonal\"] = [mean_performance, best_performance, std_perormance,  average_runtime]\n",
    "\n",
    "Simple_config = {\"pertubation_method\": \"simple\",\n",
    "                     \"x_length\": 2,\n",
    "                     \"x_bounds\": (-500, 500),\n",
    "                     \"annealing_schedule\":\"simple_exponential_cooling\",\n",
    "                     \"objective_function\": rana_func,\n",
    "                     \"maximum_archive_length\": 100,\n",
    "                     \"archive_minimum_acceptable_dissimilarity\": 0.2,\n",
    "                     \"maximum_markov_chain_length\": 50,\n",
    "                     \"maximum_function_evaluations\": 10000,\n",
    "                     \"step_size_initialisation_fraction_of_range\": 0.1,\n",
    "                     \"bound_enforcing_method\": \"not_clipping\",\n",
    "                     \"cholesky_path_length\": 5,\n",
    "                    }\n",
    "results_simple = multiple_runs_with_different_seed(Class=SimulatedAnnealing, class_argument=Simple_config)\n",
    "mean_performance = np.mean(results_simple[:, 1])\n",
    "best_performance = np.min(results_simple[:, 1])\n",
    "std_perormance = np.std(results_simple[:, 1])\n",
    "average_runtime = np.mean(results_simple[:, 2])\n",
    "results_df[\"Simple\"] = [mean_performance, best_performance, std_perormance,  average_runtime]\n",
    "results_df"
   ]
  }
 ],
 "metadata": {
  "kernelspec": {
   "display_name": "Python 3",
   "language": "python",
   "name": "python3"
  },
  "language_info": {
   "codemirror_mode": {
    "name": "ipython",
    "version": 3
   },
   "file_extension": ".py",
   "mimetype": "text/x-python",
   "name": "python",
   "nbconvert_exporter": "python",
   "pygments_lexer": "ipython3",
   "version": "3.8.5"
  }
 },
 "nbformat": 4,
 "nbformat_minor": 4
}
