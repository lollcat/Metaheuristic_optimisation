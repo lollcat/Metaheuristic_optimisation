{
 "cells": [
  {
   "cell_type": "code",
   "execution_count": null,
   "metadata": {},
   "outputs": [],
   "source": [
    "# set path to parent file\n",
    "from pathlib import Path\n",
    "import os\n",
    "cwd_path = Path.cwd()\n",
    "set_path = str(cwd_path.parent)\n",
    "os.chdir(set_path)"
   ]
  },
  {
   "cell_type": "code",
   "execution_count": null,
   "metadata": {},
   "outputs": [],
   "source": [
    "from Utils import running_mean, multiple_runs_with_different_seed\n",
    "import numpy as np\n",
    "import pandas as pd\n",
    "import matplotlib.pyplot as plt\n",
    "import matplotlib as mpl\n",
    "import importlib\n",
    "import SimulatedAnealing \n",
    "importlib.reload(SimulatedAnealing)\n",
    "SimulatedAnnealing = SimulatedAnealing.SimulatedAnnealing\n",
    "mpl.rcParams['figure.dpi'] = 300\n",
    "from rana import rana_func\n"
   ]
  },
  {
   "cell_type": "code",
   "execution_count": null,
   "metadata": {},
   "outputs": [],
   "source": [
    "import itertools\n",
    "n = 500\n",
    "x_linspace = np.linspace(-500, 500, n)\n",
    "x = np.array(list(itertools.product(x_linspace, repeat=2))) \n",
    "objectives = np.apply_along_axis(func1d=rana_func, arr=x , axis=1)\n",
    "x1 = x[:, 0].reshape(n, n)\n",
    "x2 = x[:, 1].reshape(500, 500)\n",
    "z = objectives.reshape(500, 500)"
   ]
  },
  {
   "cell_type": "markdown",
   "metadata": {},
   "source": [
    "# What do we want?\n",
    "    - comparison of results for various configurations\n",
    "    - basis diagram with basic search\n",
    "    - 2D diagram all search patters\n"
   ]
  },
  {
   "cell_type": "markdown",
   "metadata": {},
   "source": [
    "# Average Performance"
   ]
  },
  {
   "cell_type": "code",
   "execution_count": null,
   "metadata": {},
   "outputs": [],
   "source": [
    "Chol_config = {\"pertubation_method\": \"Cholesky\",\n",
    "                     \"x_length\": 2,\n",
    "                     \"x_bounds\": (-500, 500),\n",
    "                     \"annealing_schedule\":\"simple_exponential_cooling\",\n",
    "                     \"objective_function\": rana_func,\n",
    "                     \"maximum_archive_length\": 100,\n",
    "                     \"archive_minimum_acceptable_dissimilarity\": 0.2,\n",
    "                     \"maximum_markov_chain_length\": 50,\n",
    "                     \"maximum_function_evaluations\": 10000,\n",
    "                     \"step_size_initialisation_fraction_of_range\": 0.05,\n",
    "                     \"bound_enforcing_method\": \"not_clipping\",\n",
    "                     \"cholesky_path_length\": 5,\n",
    "                    }"
   ]
  },
  {
   "cell_type": "code",
   "execution_count": null,
   "metadata": {},
   "outputs": [],
   "source": [
    "results_chol = multiple_runs_with_different_seed(Class=SimulatedAnnealing, class_argument=Chol_config)\n",
    "mean_performance = np.mean(results_chol[:, 1])\n",
    "best_performance = np.min(results_chol[:, 1])\n",
    "std_perormance = np.std(results_chol[:, 1])\n",
    "average_runtime = np.mean(results_chol[:, 2])\n"
   ]
  },
  {
   "cell_type": "code",
   "execution_count": null,
   "metadata": {},
   "outputs": [],
   "source": [
    "results_df = pd.DataFrame(data=[mean_performance, best_performance, std_perormance,  average_runtime], columns=[\"Cholsky\"], index=[\"mean_performance\", \"best_performance\", \"std_perormance\",  \"average_runtime\"])\n",
    "results_df"
   ]
  },
  {
   "cell_type": "code",
   "execution_count": null,
   "metadata": {},
   "outputs": [],
   "source": [
    "Diag_config = {\"pertubation_method\": \"Diagonal\",\n",
    "                     \"x_length\": 2,\n",
    "                     \"x_bounds\": (-500, 500),\n",
    "                     \"annealing_schedule\":\"simple_exponential_cooling\",\n",
    "                     \"objective_function\": rana_func,\n",
    "                     \"maximum_archive_length\": 100,\n",
    "                     \"archive_minimum_acceptable_dissimilarity\": 0.2,\n",
    "                     \"maximum_markov_chain_length\": 50,\n",
    "                     \"maximum_function_evaluations\": 10000,\n",
    "                     \"step_size_initialisation_fraction_of_range\": 0.1,\n",
    "                     \"bound_enforcing_method\": \"not_clipping\",\n",
    "                     \"cholesky_path_length\": 5,\n",
    "                    }\n",
    "results_diag = multiple_runs_with_different_seed(Class=SimulatedAnnealing, class_argument=Diag_config)\n",
    "mean_performance = np.mean(results_diag[:, 1])\n",
    "best_performance = np.min(results_diag[:, 1])\n",
    "std_perormance = np.std(results_diag[:, 1])\n",
    "average_runtime = np.mean(results_diag[:, 2])\n",
    "results_df[\"Diagonal\"] = [mean_performance, best_performance, std_perormance,  average_runtime]"
   ]
  },
  {
   "cell_type": "code",
   "execution_count": null,
   "metadata": {},
   "outputs": [],
   "source": [
    "Simple_config = {\"pertubation_method\": \"simple\",\n",
    "                     \"x_length\": 2,\n",
    "                     \"x_bounds\": (-500, 500),\n",
    "                     \"annealing_schedule\":\"simple_exponential_cooling\",\n",
    "                     \"objective_function\": rana_func,\n",
    "                     \"maximum_archive_length\": 100,\n",
    "                     \"archive_minimum_acceptable_dissimilarity\": 0.2,\n",
    "                     \"maximum_markov_chain_length\": 50,\n",
    "                     \"maximum_function_evaluations\": 10000,\n",
    "                     \"step_size_initialisation_fraction_of_range\": 0.1,\n",
    "                     \"bound_enforcing_method\": \"not_clipping\",\n",
    "                     \"cholesky_path_length\": 5,\n",
    "                    }\n",
    "results_simple = multiple_runs_with_different_seed(Class=SimulatedAnnealing, class_argument=Simple_config)\n",
    "mean_performance = np.mean(results_simple[:, 1])\n",
    "best_performance = np.min(results_simple[:, 1])\n",
    "std_perormance = np.std(results_simple[:, 1])\n",
    "average_runtime = np.mean(results_simple[:, 2])\n",
    "results_df[\"Simple\"] = [mean_performance, best_performance, std_perormance,  average_runtime]\n",
    "results_df"
   ]
  },
  {
   "cell_type": "code",
   "execution_count": null,
   "metadata": {
    "scrolled": true
   },
   "outputs": [],
   "source": [
    "results_df.to_html()"
   ]
  },
  {
   "cell_type": "markdown",
   "metadata": {},
   "source": [
    "# Simple Plot"
   ]
  },
  {
   "cell_type": "code",
   "execution_count": null,
   "metadata": {},
   "outputs": [],
   "source": [
    "configuration = {\"pertubation_method\": \"simple\",\n",
    "                     \"x_length\": 2,\n",
    "                     \"x_bounds\": (-500, 500),\n",
    "                     \"annealing_schedule\":\"simple_exponential_cooling\",\n",
    "                     \"objective_function\": rana_func,\n",
    "                     \"maximum_archive_length\": 100,\n",
    "                     \"archive_minimum_acceptable_dissimilarity\": 0.2,\n",
    "                     \"maximum_markov_chain_length\": 50,\n",
    "                     \"maximum_function_evaluations\": 10000,\n",
    "                     \"step_size_initialisation_fraction_of_range\": 0.1,\n",
    "                     \"bound_enforcing_method\": \"not_clipping\",\n",
    "                     \"cholesky_path_length\": 5,\n",
    "                    }\n",
    "np.random.seed(3)\n",
    "rana_2d_chol = SimulatedAnnealing(**configuration)\n",
    "x_result_chol, objective_result_chol = rana_2d_chol.run()\n",
    "print(f\"x_result = {x_result_chol} \\n objective_result = {objective_result_chol} \\n \"\n",
    "      f\"number of function evaluations = {rana_2d_chol.objective_function_evaluation_count}\")\n",
    "print(f\"best objective result {rana_2d_chol.objective_history_array.min()}\")"
   ]
  },
  {
   "cell_type": "code",
   "execution_count": null,
   "metadata": {},
   "outputs": [],
   "source": [
    "fig, ax = plt.subplots()\n",
    "plot_list = []\n",
    "cs = ax.contourf(x1,x2,z)\n",
    "CB = fig.colorbar(cs, label=\"f(x)\")\n",
    "CB.set_ticks(np.linspace(-500, 500, 11))\n",
    "rana_2d_chol.clean_archive()\n",
    "p1, = ax.plot(rana_2d_chol.archive_x[:, 0], rana_2d_chol.archive_x[:, 1], \"xr\", \n",
    "             markersize=4, label=\"archive solutions\", color=\"pink\")\n",
    "p2, = ax.plot(x_result_chol[0], x_result_chol[1], \n",
    "             'o', ms=7, color=\"crimson\",\n",
    "             label=\"best solution\")\n",
    "plot_list.append(p2); plot_list.append(p1)\n",
    "\n",
    "ax.set_xlabel(\"x1\")\n",
    "ax.set_ylabel(\"x2\")\n",
    "ax.legend(handles=plot_list, bbox_to_anchor=(1.05, 1), loc='upper left', fontsize='small', facecolor='navy', framealpha=0.5)\n",
    "l, b, w, h = ax.get_position().bounds\n",
    "ll, bb, ww, hh = CB.ax.get_position().bounds\n",
    "CB.ax.set_position([ll, b + 0.1*h, ww, h*0.7])\n",
    "\n",
    "fig.savefig(\"./Figures/SE2D_2D_archive.png\")"
   ]
  },
  {
   "cell_type": "code",
   "execution_count": null,
   "metadata": {},
   "outputs": [],
   "source": [
    "fig, ax = plt.subplots(2, 2, sharex=True, sharey=True)\n",
    "plot_list = []\n",
    "dist = 1000\n",
    "length =  rana_2d_chol.accepted_objective_history_array.shape[0]\n",
    "positions = np.linspace(0, dist*3, 4, dtype=\"int\")\n",
    "n_points = 50\n",
    "for i in range(4):\n",
    "    minimum_so_far = rana_2d_chol.x_history_array[np.argmin(rana_2d_chol.objective_history_array[:positions[i]+dist]), :]\n",
    "    row = int(i/2)\n",
    "    col = i % 2 \n",
    "    #indxs = np.linspace(positions[i], positions[i]+dist, 50, dtype=\"int\")\n",
    "    #x_data = rana_2d_chol.x_history_array[indxs, :]\n",
    "    all_indxs = np.arange(length)[(rana_2d_chol.accepted_objective_history_array[:, 1] > positions[i]) & \n",
    "                              (rana_2d_chol.accepted_objective_history_array[:, 1] < positions[i]+dist)] \n",
    "    indxs = np.random.choice(all_indxs, replace=False, size = min(n_points, len(all_indxs)))\n",
    "    x_data = rana_2d_chol.accepted_x_history_array[indxs, :]\n",
    "    cs = ax[row, col].contourf(x1,x2,z)\n",
    "    p2, = ax[row, col].plot(x_data[:, 0], x_data[:, 1], \"x\", color=\"pink\", markersize=3, label=\"sample solutions\")\n",
    "    p1, = ax[row, col].plot(minimum_so_far[0], minimum_so_far[1], \"or\", label=\"current best solution\", markersize=4)\n",
    "    ax[row, col].set_title(f\"iteration {positions[i]}-{positions[i]+dist}\")\n",
    "    \n",
    "\n",
    "plot_list.append(p1)\n",
    "plot_list.append(p2)\n",
    "ax[0, 1].legend(handles=plot_list, bbox_to_anchor=(1.05, 1), loc='upper left', fontsize='small', facecolor='navy', framealpha=0.5)    \n",
    "\n",
    "\n",
    "fig.subplots_adjust(right=0.8)\n",
    "cbar_ax = fig.add_axes([0.75, 0.15, 0.05, 0.6])\n",
    "CB = fig.colorbar(cs, label=\"f(x)\", cax=cbar_ax)\n",
    "CB.set_ticks(np.linspace(-500, 500, 11))\n",
    "\n",
    "ax[1, 1].set_xlabel(\"x1\")\n",
    "ax[1, 0].set_xlabel(\"x1\")\n",
    "ax[0, 0].set_ylabel(\"x2\")\n",
    "ax[1, 0].set_ylabel(\"x2\")\n",
    "fig.tight_layout()\n",
    "\n",
    "\n",
    "fig.savefig(\"./Figures/SE2D_2D_progress_contour_SIMPLE.png\")"
   ]
  },
  {
   "cell_type": "code",
   "execution_count": null,
   "metadata": {},
   "outputs": [],
   "source": [
    "fig, axs = plt.subplots(2,1)\n",
    "cols = mpl.cm.rainbow(np.linspace(0.2,0.8,3))\n",
    "\n",
    "axs[0].step(rana_2d_chol.temperature_history_array[:, 2], rana_2d_chol.temperature_history_array[:, 0], color=cols [0])\n",
    "axs[0].set_yticks(np.linspace(0, np.around(rana_2d_chol.temperature_history_array[:, 0].max(), -3), 5))\n",
    "p_accept_running_mean = running_mean(rana_2d_chol.probability_of_acceptance_history_array[:, 0], 100)\n",
    "axs[1].plot(rana_2d_chol.probability_of_acceptance_history_array[-len(p_accept_running_mean):, 1], p_accept_running_mean\n",
    "           , color=cols [2])\n",
    "axs[1].set_ylim(0,1)\n",
    "axs[0].set_ylabel(\"temperature\")\n",
    "axs[1].set_ylabel(\"p accept (%)\")\n",
    "fig.savefig(\"./Figures/SE2D_temp_prob.png\")"
   ]
  },
  {
   "cell_type": "code",
   "execution_count": null,
   "metadata": {
    "scrolled": false
   },
   "outputs": [],
   "source": [
    "fig, axs = plt.subplots(2,1)\n",
    "cols = mpl.cm.rainbow(np.linspace(0.2,0.8,3))\n",
    "axs[0].step(rana_2d_chol.accepted_objective_history_array[:, 1], rana_2d_chol.accepted_objective_history_array[:, 0], color=cols[0])\n",
    "axs[1].step(np.arange(len(rana_2d_chol.objective_history_array)), rana_2d_chol.objective_history_array, color=cols[1])\n",
    "axs[0].set_yticks(np.linspace(-500, 500, 5))\n",
    "axs[0].set_title(\"accepted function evalutations\")\n",
    "axs[0].set_ylabel(\"f(x)\")\n",
    "\n",
    "axs[1].set_yticks(np.linspace(-500, 500, 5))\n",
    "\n",
    "axs[1].set_title(\"generated function evalutations\")\n",
    "axs[1].set_ylabel(\"f(x)\")\n",
    "\n",
    "\n",
    "fig.tight_layout()\n",
    "fig.savefig(\"./Figures/SE2D_func_eval_hist.png\")"
   ]
  },
  {
   "cell_type": "markdown",
   "metadata": {},
   "source": [
    "# Plots Cholseky"
   ]
  },
  {
   "cell_type": "code",
   "execution_count": null,
   "metadata": {},
   "outputs": [],
   "source": [
    "configuration = {\"pertubation_method\": \"Cholesky\",\n",
    "                     \"x_length\": 2,\n",
    "                     \"x_bounds\": (-500, 500),\n",
    "                     \"annealing_schedule\":\"simple_exponential_cooling\",\n",
    "                     \"objective_function\": rana_func,\n",
    "                     \"maximum_archive_length\": 100,\n",
    "                     \"archive_minimum_acceptable_dissimilarity\": 0.2,\n",
    "                     \"maximum_markov_chain_length\": 50,\n",
    "                     \"maximum_function_evaluations\": 10000,\n",
    "                     \"step_size_initialisation_fraction_of_range\": 0.05,\n",
    "                     \"bound_enforcing_method\": \"not_clipping\",\n",
    "                     \"cholesky_path_length\": 5,\n",
    "                    }"
   ]
  },
  {
   "cell_type": "code",
   "execution_count": null,
   "metadata": {},
   "outputs": [],
   "source": [
    "np.random.seed(0)\n",
    "rana_2d_chol = SimulatedAnnealing(**configuration)\n",
    "x_result_chol, objective_result_chol = rana_2d_chol.run()\n",
    "print(f\"x_result = {x_result_chol} \\n objective_result = {objective_result_chol} \\n \"\n",
    "      f\"number of function evaluations = {rana_2d_chol.objective_function_evaluation_count}\")\n",
    "print(f\"best objective result {rana_2d_chol.objective_history_array.min()}\")"
   ]
  },
  {
   "cell_type": "code",
   "execution_count": null,
   "metadata": {},
   "outputs": [],
   "source": [
    "fig, axs = plt.subplots(2,1)\n",
    "cols = mpl.cm.rainbow(np.linspace(0.2,0.8,3))\n",
    "\n",
    "axs[0].step(rana_2d_chol.temperature_history_array[:, 2], rana_2d_chol.temperature_history_array[:, 0], color=cols [0])\n",
    "axs[0].set_yticks(np.linspace(0, np.around(rana_2d_chol.temperature_history_array[:, 0].max(), -3), 5))\n",
    "p_accept_running_mean = running_mean(rana_2d_chol.probability_of_acceptance_history_array[:, 0], 100)\n",
    "axs[1].plot(rana_2d_chol.probability_of_acceptance_history_array[-len(p_accept_running_mean):, 1], p_accept_running_mean\n",
    "           , color=cols [2])\n",
    "axs[1].set_ylim(0,1)\n",
    "axs[0].set_ylabel(\"temperature\")\n",
    "axs[1].set_ylabel(\"p accept (%)\")\n",
    "#fig.savefig(\"./Figures/SE2D_temp_prob.png\")"
   ]
  },
  {
   "cell_type": "code",
   "execution_count": null,
   "metadata": {},
   "outputs": [],
   "source": [
    "fig, ax = plt.subplots(2, 2, sharex=True, sharey=True)\n",
    "plot_list = []\n",
    "dist = 1000\n",
    "length =  rana_2d_chol.accepted_objective_history_array.shape[0]\n",
    "positions = np.linspace(0, dist*3, 4, dtype=\"int\")\n",
    "n_points = 50\n",
    "for i in range(4):\n",
    "    minimum_so_far = rana_2d_chol.x_history_array[np.argmin(rana_2d_chol.objective_history_array[:positions[i]+dist]), :]\n",
    "    row = int(i/2)\n",
    "    col = i % 2 \n",
    "    #indxs = np.linspace(positions[i], positions[i]+dist, 50, dtype=\"int\")\n",
    "    #x_data = rana_2d_chol.x_history_array[indxs, :]\n",
    "    all_indxs = np.arange(length)[(rana_2d_chol.accepted_objective_history_array[:, 1] > positions[i]) & \n",
    "                              (rana_2d_chol.accepted_objective_history_array[:, 1] < positions[i]+dist)] \n",
    "    indxs = np.random.choice(all_indxs, replace=False, size = min(n_points, len(all_indxs)))\n",
    "    x_data = rana_2d_chol.accepted_x_history_array[indxs, :]\n",
    "    cs = ax[row, col].contourf(x1,x2,z)\n",
    "    p2, = ax[row, col].plot(x_data[:, 0], x_data[:, 1], \"x\", color=\"pink\", markersize=3, label=\"sample solutions\")\n",
    "    p1, = ax[row, col].plot(minimum_so_far[0], minimum_so_far[1], \"or\", label=\"current best solution\", markersize=4)\n",
    "    ax[row, col].set_title(f\"iteration {positions[i]}-{positions[i]+dist}\")\n",
    "    \n",
    "\n",
    "plot_list.append(p1)\n",
    "plot_list.append(p2)\n",
    "ax[0, 1].legend(handles=plot_list, bbox_to_anchor=(1.05, 1), loc='upper left', fontsize='small', facecolor='navy', framealpha=0.5)    \n",
    "\n",
    "\n",
    "fig.subplots_adjust(right=0.8)\n",
    "cbar_ax = fig.add_axes([0.75, 0.15, 0.05, 0.6])\n",
    "CB = fig.colorbar(cs, label=\"f(x)\", cax=cbar_ax)\n",
    "CB.set_ticks(np.linspace(-500, 500, 11))\n",
    "\n",
    "ax[1, 1].set_xlabel(\"x1\")\n",
    "ax[1, 0].set_xlabel(\"x1\")\n",
    "ax[0, 0].set_ylabel(\"x2\")\n",
    "ax[1, 0].set_ylabel(\"x2\")\n",
    "fig.tight_layout()\n",
    "\n",
    "\n",
    "fig.savefig(\"./Figures/SE2D_2D_progress_contour_Chol.png\")"
   ]
  },
  {
   "cell_type": "code",
   "execution_count": null,
   "metadata": {
    "scrolled": false
   },
   "outputs": [],
   "source": [
    "fig, axs = plt.subplots(3,1)\n",
    "cols = mpl.cm.rainbow(np.linspace(0.2,0.8,3))\n",
    "axs[0].step(rana_2d_chol.accepted_objective_history_array[:, 1], rana_2d_chol.accepted_objective_history_array[:, 0], color=cols[0])\n",
    "axs[1].step(np.arange(len(rana_2d_chol.objective_history_array)), rana_2d_chol.objective_history_array, color=cols[1])\n",
    "axs[2].step(np.arange(len(np.linalg.det(rana_2d_chol.step_size_matrix_history_array))),\n",
    "                      np.linalg.det(rana_2d_chol.step_size_matrix_history_array), color=cols[2])\n",
    "\n",
    "axs[0].set_yticks(np.linspace(-500, 500, 5))\n",
    "axs[0].set_title(\"accepted function evalutation\")\n",
    "axs[0].set_ylabel(\"f(x)\")\n",
    "\n",
    "\n",
    "axs[1].set_yticks(np.linspace(-500, 500, 5))\n",
    "axs[1].set_title(\"complete function evalutation\")\n",
    "axs[1].set_ylabel(\"f(x)\")\n",
    "\n",
    "\n",
    "axs[2].set_title(\"Determinant of step size matrix\")\n",
    "axs[2].set_ylabel(\"det(M)\")\n",
    "axs[2].set_xlabel(\"number of function evalutations\")\n",
    "axs[2].set_yscale(\"log\")\n",
    "axs[2].set_yticks([1e-4,1e-8, 1])\n",
    "\n",
    "\n",
    "fig.tight_layout()\n",
    "#fig.savefig(\"./Figures/SE2D_func_eval_hist.png\")"
   ]
  },
  {
   "cell_type": "markdown",
   "metadata": {},
   "source": [
    "# Contour plots"
   ]
  },
  {
   "cell_type": "code",
   "execution_count": null,
   "metadata": {},
   "outputs": [],
   "source": [
    "\"\"\"\n",
    "n = 500\n",
    "x1_linspace = np.linspace(-500, 500, n)\n",
    "x2_linspace = np.linspace(-500, 500, n)\n",
    "z = np.zeros((n, n))\n",
    "for i, x1_val in enumerate(x1_linspace):\n",
    "    for j, x2_val in enumerate(x2_linspace):\n",
    "        z[i, j] = rana_func(np.array([x1_val, x2_val]))\n",
    "x2, x1 = np.meshgrid(x1_linspace, x2_linspace)\n",
    "\"\"\"\n",
    "import itertools\n",
    "n = 500\n",
    "x_linspace = np.linspace(-500, 500, n)\n",
    "x = np.array(list(itertools.product(x_linspace, repeat=2))) \n",
    "objectives = np.apply_along_axis(func1d=rana_func, arr=x , axis=1)\n",
    "x1 = x[:, 0].reshape(n, n)\n",
    "x2 = x[:, 1].reshape(500, 500)\n",
    "z = objectives.reshape(500, 500)"
   ]
  },
  {
   "cell_type": "code",
   "execution_count": null,
   "metadata": {
    "scrolled": false
   },
   "outputs": [],
   "source": [
    "fig, ax = plt.subplots()\n",
    "plot_list = []\n",
    "cs = ax.contourf(x1,x2,z)\n",
    "CB = fig.colorbar(cs, label=\"f(x)\")\n",
    "CB.set_ticks(np.linspace(-500, 500, 11))\n",
    "p1, = ax.plot(rana_2d_chol.archive_x[:, 0], rana_2d_chol.archive_x[:, 1], \"xr\", \n",
    "             markersize=4, label=\"archive solutions\", color=\"pink\")\n",
    "p2, = ax.plot(x_result_chol[0], x_result_chol[1], \n",
    "             'o', ms=7, color=\"crimson\",\n",
    "             label=\"best solution\")\n",
    "plot_list.append(p2); plot_list.append(p1)\n",
    "\n",
    "ax.set_xlabel(\"x1\")\n",
    "ax.set_ylabel(\"x2\")\n",
    "ax.legend(handles=plot_list, bbox_to_anchor=(1.05, 1), loc='upper left', fontsize='small', facecolor='navy', framealpha=0.5)\n",
    "l, b, w, h = ax.get_position().bounds\n",
    "ll, bb, ww, hh = CB.ax.get_position().bounds\n",
    "CB.ax.set_position([ll, b + 0.1*h, ww, h*0.7])\n",
    "\n",
    "#fig.savefig(\"./Figures/SE2D_2D_archive_CHOL.png\")"
   ]
  },
  {
   "cell_type": "code",
   "execution_count": null,
   "metadata": {},
   "outputs": [],
   "source": [
    "fig, ax = plt.subplots(2, 2, sharex=True, sharey=True)\n",
    "plot_list = []\n",
    "positions = [0, 1500, 3000, 4500]\n",
    "n_points = 20\n",
    "for i in range(4):\n",
    "    minimum_so_far = rana_2d_chol.x_history_array[np.argmin(rana_2d_chol.objective_history_array[:positions[i]+n_points]), :]\n",
    "    row = int(i/2)\n",
    "    col = i % 2 \n",
    "    indxs = np.linspace(positions[i], positions[i]+1500, 50, dtype=\"int\")\n",
    "    x_data = rana_2d_chol.x_history_array[indxs, :]\n",
    "    cs = ax[row, col].contourf(x1,x2,z)\n",
    "    p2, = ax[row, col].plot(x_data[:, 0], x_data[:, 1], \"x\", color=\"pink\", markersize=3, label=\"sample solutions\")\n",
    "    p1, = ax[row, col].plot(minimum_so_far[0], minimum_so_far[1], \"or\", label=\"current best solution\", markersize=4)\n",
    "    ax[row, col].set_title(f\"iteration {positions[i]}-{positions[i]+1500}\")\n",
    "    \n",
    "\n",
    "plot_list.append(p1)\n",
    "plot_list.append(p2)\n",
    "ax[0, 1].legend(handles=plot_list, bbox_to_anchor=(1.05, 1), loc='upper left', fontsize='small', facecolor='navy', framealpha=0.5)    \n",
    "\n",
    "\n",
    "fig.subplots_adjust(right=0.8)\n",
    "cbar_ax = fig.add_axes([0.75, 0.15, 0.05, 0.6])\n",
    "CB = fig.colorbar(cs, label=\"f(x)\", cax=cbar_ax)\n",
    "CB.set_ticks(np.linspace(-500, 500, 11))\n",
    "\n",
    "ax[1, 1].set_xlabel(\"x1\")\n",
    "ax[1, 0].set_xlabel(\"x1\")\n",
    "ax[0, 0].set_ylabel(\"x2\")\n",
    "ax[1, 0].set_ylabel(\"x2\")\n",
    "fig.tight_layout()\n",
    "\n",
    "\n",
    "#fig.savefig(\"./Figures/SE2D_2D_progress_contour.png\")"
   ]
  },
  {
   "cell_type": "markdown",
   "metadata": {},
   "source": [
    "# Diagonal Plot"
   ]
  },
  {
   "cell_type": "code",
   "execution_count": null,
   "metadata": {},
   "outputs": [],
   "source": [
    "configuration = {\"pertubation_method\": \"Diagonal\",\n",
    "                     \"x_length\": 2,\n",
    "                     \"x_bounds\": (-500, 500),\n",
    "                     \"annealing_schedule\":\"simple_exponential_cooling\",\n",
    "                     \"objective_function\": rana_func,\n",
    "                     \"maximum_archive_length\": 100,\n",
    "                     \"archive_minimum_acceptable_dissimilarity\": 0.2,\n",
    "                     \"maximum_markov_chain_length\": 50,\n",
    "                     \"maximum_function_evaluations\": 10000,\n",
    "                     \"step_size_initialisation_fraction_of_range\": 0.1,\n",
    "                     \"bound_enforcing_method\": \"not_clipping\",\n",
    "                     \"cholesky_path_length\": 5,\n",
    "                    }\n",
    "np.random.seed(0)\n",
    "rana_2d_chol = SimulatedAnnealing(**configuration)\n",
    "x_result_chol, objective_result_chol = rana_2d_chol.run()\n",
    "print(f\"x_result = {x_result_chol} \\n objective_result = {objective_result_chol} \\n \"\n",
    "      f\"number of function evaluations = {rana_2d_chol.objective_function_evaluation_count}\")\n",
    "print(f\"best objective result {rana_2d_chol.objective_history_array.min()}\")"
   ]
  },
  {
   "cell_type": "code",
   "execution_count": null,
   "metadata": {},
   "outputs": [],
   "source": [
    "fig, ax = plt.subplots(2, 2, sharex=True, sharey=True)\n",
    "plot_list = []\n",
    "dist = 500\n",
    "length =  rana_2d_chol.accepted_objective_history_array.shape[0]\n",
    "positions = np.linspace(0, dist*3, 4, dtype=\"int\")\n",
    "n_points = 50\n",
    "for i in range(4):\n",
    "    minimum_so_far = rana_2d_chol.x_history_array[np.argmin(rana_2d_chol.objective_history_array[:positions[i]+dist]), :]\n",
    "    row = int(i/2)\n",
    "    col = i % 2 \n",
    "    #indxs = np.linspace(positions[i], positions[i]+dist, 50, dtype=\"int\")\n",
    "    #x_data = rana_2d_chol.x_history_array[indxs, :]\n",
    "    all_indxs = np.arange(length)[(rana_2d_chol.accepted_objective_history_array[:, 1] > positions[i]) & \n",
    "                              (rana_2d_chol.accepted_objective_history_array[:, 1] < positions[i]+dist)] \n",
    "    indxs = np.random.choice(all_indxs, replace=False, size = min(n_points, len(all_indxs)))\n",
    "    x_data = rana_2d_chol.accepted_x_history_array[indxs, :]\n",
    "    cs = ax[row, col].contourf(x1,x2,z)\n",
    "    p2, = ax[row, col].plot(x_data[:, 0], x_data[:, 1], \"x\", color=\"pink\", markersize=3, label=\"sample solutions\")\n",
    "    p1, = ax[row, col].plot(minimum_so_far[0], minimum_so_far[1], \"or\", label=\"current best solution\", markersize=4)\n",
    "    ax[row, col].set_title(f\"iteration {positions[i]}-{positions[i]+dist}\")\n",
    "    \n",
    "\n",
    "plot_list.append(p1)\n",
    "plot_list.append(p2)\n",
    "ax[0, 1].legend(handles=plot_list, bbox_to_anchor=(1.05, 1), loc='upper left', fontsize='small', facecolor='navy', framealpha=0.5)    \n",
    "\n",
    "\n",
    "fig.subplots_adjust(right=0.8)\n",
    "cbar_ax = fig.add_axes([0.75, 0.15, 0.05, 0.6])\n",
    "CB = fig.colorbar(cs, label=\"f(x)\", cax=cbar_ax)\n",
    "CB.set_ticks(np.linspace(-500, 500, 11))\n",
    "\n",
    "ax[1, 1].set_xlabel(\"x1\")\n",
    "ax[1, 0].set_xlabel(\"x1\")\n",
    "ax[0, 0].set_ylabel(\"x2\")\n",
    "ax[1, 0].set_ylabel(\"x2\")\n",
    "fig.tight_layout()\n",
    "\n",
    "\n",
    "fig.savefig(\"./Figures/SE2D_2D_progress_contour_DIAG.png\")"
   ]
  },
  {
   "cell_type": "code",
   "execution_count": null,
   "metadata": {},
   "outputs": [],
   "source": [
    "fig, axs = plt.subplots(3,1)\n",
    "cols = mpl.cm.rainbow(np.linspace(0.2,0.8,3))\n",
    "axs[0].step(rana_2d_chol.accepted_objective_history_array[:, 1], rana_2d_chol.accepted_objective_history_array[:, 0], color=cols[1])\n",
    "axs[1].step(np.arange(len(rana_2d_chol.objective_history_array)), rana_2d_chol.objective_history_array, color=cols[1])\n",
    "axs[2].step(np.arange(rana_2d_chol.step_size_matrix_history_array.shape[0]),\n",
    "                      rana_2d_chol.step_size_matrix_history_array[:, 0], color=cols[0])\n",
    "\n",
    "axs[2].step(np.arange(rana_2d_chol.step_size_matrix_history_array.shape[0]),\n",
    "                      rana_2d_chol.step_size_matrix_history_array[:, 1], color=cols[2])\n",
    "\n",
    "axs[0].set_yticks(np.linspace(-500, 500, 5))\n",
    "axs[0].set_title(\"accepted function evalutation\")\n",
    "axs[0].set_ylabel(\"f(x)\")\n",
    "\n",
    "\n",
    "axs[1].set_yticks(np.linspace(-500, 500, 5))\n",
    "axs[1].set_title(\"complete function evalutation\")\n",
    "axs[1].set_ylabel(\"f(x)\")\n",
    "\n",
    "\n",
    "axs[2].set_title(\"standard deviations of step size matrix\")\n",
    "axs[2].set_ylabel(\"standard deviations\")\n",
    "axs[2].set_xlabel(\"number of function evalutations\")\n",
    "\n",
    "\n",
    "fig.tight_layout()"
   ]
  },
  {
   "cell_type": "code",
   "execution_count": null,
   "metadata": {},
   "outputs": [],
   "source": [
    "rana_2d_chol.accepted_objective_history_array[4000:4010, :]"
   ]
  },
  {
   "cell_type": "code",
   "execution_count": null,
   "metadata": {},
   "outputs": [],
   "source": []
  }
 ],
 "metadata": {
  "kernelspec": {
   "display_name": "Python 3",
   "language": "python",
   "name": "python3"
  },
  "language_info": {
   "codemirror_mode": {
    "name": "ipython",
    "version": 3
   },
   "file_extension": ".py",
   "mimetype": "text/x-python",
   "name": "python",
   "nbconvert_exporter": "python",
   "pygments_lexer": "ipython3",
   "version": "3.8.5"
  }
 },
 "nbformat": 4,
 "nbformat_minor": 4
}
