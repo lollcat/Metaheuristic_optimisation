{
 "cells": [
  {
   "cell_type": "code",
   "execution_count": 1,
   "metadata": {},
   "outputs": [],
   "source": [
    "# set path to parent file\n",
    "from pathlib import Path\n",
    "import os\n",
    "cwd_path = Path.cwd()\n",
    "set_path = str(cwd_path.parent)\n",
    "os.chdir(set_path)"
   ]
  },
  {
   "cell_type": "code",
   "execution_count": 6,
   "metadata": {},
   "outputs": [],
   "source": [
    "from EvolutionStrategy import EvolutionStrategy\n",
    "from Utils import multiple_runs_with_different_seed\n",
    "import numpy as np\n",
    "import matplotlib.pyplot as plt\n",
    "import matplotlib as mpl\n",
    "\n",
    "from rana import rana_func\n",
    "\n",
    "x_max = 500\n",
    "x_min = -x_max"
   ]
  },
  {
   "cell_type": "code",
   "execution_count": 4,
   "metadata": {},
   "outputs": [],
   "source": [
    "x_length = 5\n",
    "parent_number = 20\n",
    "child_to_parent_ratio = 10\n",
    "clipping_method = \"not_clipping\"\n",
    "selection_method = \"elitist\"\n",
    "mutation_method = \"diagonal\""
   ]
  },
  {
   "cell_type": "code",
   "execution_count": 5,
   "metadata": {},
   "outputs": [],
   "source": [
    "class_argument = {\"x_length\" : x_length,\n",
    "        \"x_bounds\" : (x_min, x_max),\n",
    "        \"objective_function\" : rana_func,\n",
    "        \"mutation_method\" : mutation_method,\n",
    "        \"selection_method\" : selection_method,\n",
    "        \"parent_number\" : parent_number,\n",
    "        \"clipping_method\" : clipping_method}"
   ]
  },
  {
   "cell_type": "code",
   "execution_count": 7,
   "metadata": {},
   "outputs": [
    {
     "name": "stdout",
     "output_type": "stream",
     "text": [
      "max total iterations\n",
      "max total iterations\n",
      "max total iterations\n",
      "max total iterations\n",
      "max total iterations\n",
      "max total iterations\n",
      "max total iterations\n",
      "max total iterations\n",
      "max total iterations\n",
      "max total iterations\n",
      "max total iterations\n",
      "max total iterations\n",
      "max total iterations\n",
      "max total iterations\n",
      "max total iterations\n",
      "max total iterations\n",
      "max total iterations\n",
      "max total iterations\n",
      "max total iterations\n",
      "max total iterations\n"
     ]
    }
   ],
   "source": [
    "class_argument = {\"x_length\" : x_length,\n",
    "        \"x_bounds\" : (x_min, x_max),\n",
    "        \"objective_function\" : rana_func,\n",
    "        \"mutation_method\" : mutation_method,\n",
    "        \"selection_method\" : selection_method,\n",
    "        \"parent_number\" : parent_number,\n",
    "        \"clipping_method\" : clipping_method}\n",
    "results = multiple_runs_with_different_seed(EvolutionStrategy, class_argument, n_iterations=20)"
   ]
  },
  {
   "cell_type": "code",
   "execution_count": 11,
   "metadata": {},
   "outputs": [
    {
     "name": "stderr",
     "output_type": "stream",
     "text": [
      "<ipython-input-11-08221640058a>:1: VisibleDeprecationWarning: Creating an ndarray from ragged nested sequences (which is a list-or-tuple of lists-or-tuples-or ndarrays with different lengths or shapes) is deprecated. If you meant to do this, you must specify 'dtype=object' when creating the ndarray\n",
      "  results_array = np.array(results)\n"
     ]
    },
    {
     "data": {
      "text/plain": [
       "(20, 2)"
      ]
     },
     "execution_count": 11,
     "metadata": {},
     "output_type": "execute_result"
    }
   ],
   "source": [
    "results_array = np.array(results)\n",
    "objectives = results_array[:, 1]\n",
    "objectives.mean()"
   ]
  },
  {
   "cell_type": "code",
   "execution_count": 15,
   "metadata": {},
   "outputs": [],
   "source": [
    "x_length = 5\n",
    "parent_number = 20\n",
    "child_to_parent_ratio = 10\n",
    "clipping_method = \"not_clipping\"\n",
    "selection_method = \"standard_mew_comma_lambda\"\n",
    "mutation_method = \"diagonal\""
   ]
  },
  {
   "cell_type": "code",
   "execution_count": 16,
   "metadata": {},
   "outputs": [
    {
     "name": "stdout",
     "output_type": "stream",
     "text": [
      "max total iterations\n",
      "converged\n",
      "max total iterations\n",
      "max total iterations\n",
      "max total iterations\n",
      "max total iterations\n",
      "max total iterations\n",
      "max total iterations\n",
      "max total iterations\n",
      "max total iterations\n",
      "converged\n",
      "max total iterations\n",
      "max total iterations\n",
      "max total iterations\n",
      "converged\n",
      "max total iterations\n",
      "max total iterations\n",
      "max total iterations\n",
      "max total iterations\n",
      "max total iterations\n"
     ]
    }
   ],
   "source": [
    "class_argument = {\"x_length\" : x_length,\n",
    "        \"x_bounds\" : (x_min, x_max),\n",
    "        \"objective_function\" : rana_func,\n",
    "        \"mutation_method\" : mutation_method,\n",
    "        \"selection_method\" : selection_method,\n",
    "        \"parent_number\" : parent_number,\n",
    "        \"clipping_method\" : clipping_method}\n",
    "results = multiple_runs_with_different_seed(EvolutionStrategy, class_argument, n_iterations=20)"
   ]
  },
  {
   "cell_type": "code",
   "execution_count": 17,
   "metadata": {},
   "outputs": [
    {
     "name": "stderr",
     "output_type": "stream",
     "text": [
      "<ipython-input-17-fe393afb72b4>:1: VisibleDeprecationWarning: Creating an ndarray from ragged nested sequences (which is a list-or-tuple of lists-or-tuples-or ndarrays with different lengths or shapes) is deprecated. If you meant to do this, you must specify 'dtype=object' when creating the ndarray\n",
      "  results_array = np.array(results)\n"
     ]
    },
    {
     "data": {
      "text/plain": [
       "-1696.6719559071687"
      ]
     },
     "execution_count": 17,
     "metadata": {},
     "output_type": "execute_result"
    }
   ],
   "source": [
    "results_array = np.array(results)\n",
    "objectives = results_array[:, 1]\n",
    "objectives.mean()"
   ]
  },
  {
   "cell_type": "code",
   "execution_count": null,
   "metadata": {},
   "outputs": [],
   "source": []
  }
 ],
 "metadata": {
  "kernelspec": {
   "display_name": "Python 3",
   "language": "python",
   "name": "python3"
  },
  "language_info": {
   "codemirror_mode": {
    "name": "ipython",
    "version": 3
   },
   "file_extension": ".py",
   "mimetype": "text/x-python",
   "name": "python",
   "nbconvert_exporter": "python",
   "pygments_lexer": "ipython3",
   "version": "3.8.5"
  }
 },
 "nbformat": 4,
 "nbformat_minor": 4
}
