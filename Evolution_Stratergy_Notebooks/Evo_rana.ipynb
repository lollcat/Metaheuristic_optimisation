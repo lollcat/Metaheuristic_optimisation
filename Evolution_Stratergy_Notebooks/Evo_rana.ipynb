{
 "cells": [
  {
   "cell_type": "code",
   "execution_count": 3,
   "metadata": {},
   "outputs": [],
   "source": [
    "# set path to parent file\n",
    "from pathlib import Path\n",
    "import os\n",
    "cwd_path = Path.cwd()\n",
    "set_path = str(cwd_path.parent)\n",
    "os.chdir(set_path)"
   ]
  },
  {
   "cell_type": "code",
   "execution_count": 4,
   "metadata": {},
   "outputs": [],
   "source": [
    "from EvolutionStrategy import EvolutionStrategy\n",
    "import numpy as np\n",
    "import matplotlib.pyplot as plt\n",
    "import matplotlib as mpl"
   ]
  },
  {
   "cell_type": "code",
   "execution_count": 5,
   "metadata": {},
   "outputs": [],
   "source": [
    "x_length = 5"
   ]
  },
  {
   "cell_type": "code",
   "execution_count": 6,
   "metadata": {},
   "outputs": [
    {
     "name": "stdout",
     "output_type": "stream",
     "text": [
      "x_result = [-463.55489434 -351.12232259 -292.53932414  475.36753213  167.83773064] \n",
      " objective_result = -1663.3806868298109\n"
     ]
    }
   ],
   "source": [
    "from rana import rana_func\n",
    "x_max = 500\n",
    "x_min = -x_max\n",
    "rana_2d = EvolutionStrategy(x_length=x_length, x_bounds=(x_min, x_max), objective_function=rana_func,\n",
    "                           standard_deviation_fraction_of_range=0.005,\n",
    "                           archive_minimum_acceptable_dissimilarity=30)\n",
    "x_result, objective_result = rana_2d.run()\n",
    "print(f\"x_result = {x_result} \\n objective_result = {objective_result}\")\n",
    "archive_x = np.array([x_archive for x_archive, f_archive in rana_2d.archive])\n",
    "archive_f = np.array([f_archive for x_archive, f_archive in rana_2d.archive])"
   ]
  },
  {
   "cell_type": "code",
   "execution_count": 7,
   "metadata": {},
   "outputs": [
    {
     "data": {
      "text/plain": [
       "[<matplotlib.lines.Line2D at 0x23fecf3ef10>]"
      ]
     },
     "execution_count": 7,
     "metadata": {},
     "output_type": "execute_result"
    },
    {
     "data": {
      "image/png": "[encoded data removed]",
      "text/plain": [
       "<Figure size 432x288 with 1 Axes>"
      ]
     },
     "metadata": {
      "needs_background": "light"
     },
     "output_type": "display_data"
    }
   ],
   "source": [
    "plt.plot(rana_2d.objective_history)"
   ]
  },
  {
   "cell_type": "code",
   "execution_count": null,
   "metadata": {},
   "outputs": [],
   "source": []
  }
 ],
 "metadata": {
  "kernelspec": {
   "display_name": "Python 3",
   "language": "python",
   "name": "python3"
  },
  "language_info": {
   "codemirror_mode": {
    "name": "ipython",
    "version": 3
   },
   "file_extension": ".py",
   "mimetype": "text/x-python",
   "name": "python",
   "nbconvert_exporter": "python",
   "pygments_lexer": "ipython3",
   "version": "3.8.5"
  }
 },
 "nbformat": 4,
 "nbformat_minor": 4
}
