{
 "cells": [
  {
   "cell_type": "code",
   "execution_count": 1,
   "metadata": {},
   "outputs": [],
   "source": [
    "# set path to parent file\n",
    "from pathlib import Path\n",
    "import os\n",
    "cwd_path = Path.cwd()\n",
    "set_path = str(cwd_path.parent)\n",
    "os.chdir(set_path)"
   ]
  },
  {
   "cell_type": "code",
   "execution_count": 2,
   "metadata": {},
   "outputs": [],
   "source": [
    "from Utils import running_mean, multiple_runs_with_different_seed\n",
    "import numpy as np\n",
    "import pickle\n",
    "import pandas as pd\n",
    "import matplotlib.pyplot as plt\n",
    "import matplotlib as mpl\n",
    "import importlib\n",
    "import EvolutionStrategy as EvosStrat\n",
    "importlib.reload(EvosStrat)\n",
    "EvolutionStrategyClass = EvosStrat.EvolutionStrategy\n",
    "mpl.rcParams['figure.dpi'] = 300\n",
    "from rana import rana_func"
   ]
  },
  {
   "cell_type": "code",
   "execution_count": 3,
   "metadata": {},
   "outputs": [
    {
     "data": {
      "text/plain": [
       "['param_find1610649147.5987375.pkl']"
      ]
     },
     "execution_count": 3,
     "metadata": {},
     "output_type": "execute_result"
    }
   ],
   "source": [
    "parent_loc = \"./Evolution_stratergy_parameter_search/stored_data/\"\n",
    "os.listdir(parent_loc)"
   ]
  },
  {
   "cell_type": "code",
   "execution_count": 4,
   "metadata": {},
   "outputs": [],
   "source": [
    "file = os.listdir(parent_loc)[-1]"
   ]
  },
  {
   "cell_type": "code",
   "execution_count": 5,
   "metadata": {},
   "outputs": [],
   "source": [
    "result_list = pickle.load(open(parent_loc + file, \"rb\"))"
   ]
  },
  {
   "cell_type": "code",
   "execution_count": 6,
   "metadata": {
    "scrolled": true
   },
   "outputs": [
    {
     "data": {
      "text/html": [
       "<div>\n",
       "<style scoped>\n",
       "    .dataframe tbody tr th:only-of-type {\n",
       "        vertical-align: middle;\n",
       "    }\n",
       "\n",
       "    .dataframe tbody tr th {\n",
       "        vertical-align: top;\n",
       "    }\n",
       "\n",
       "    .dataframe thead th {\n",
       "        text-align: right;\n",
       "    }\n",
       "</style>\n",
       "<table border=\"1\" class=\"dataframe\">\n",
       "  <thead>\n",
       "    <tr style=\"text-align: right;\">\n",
       "      <th></th>\n",
       "      <th>archive_minimum_acceptable_dissimilarity</th>\n",
       "      <th>average_runtime</th>\n",
       "      <th>best_performance</th>\n",
       "      <th>best_performance_final</th>\n",
       "      <th>bound_enforcing_method</th>\n",
       "      <th>child_to_parent_ratio</th>\n",
       "      <th>maximum_archive_length</th>\n",
       "      <th>mean_performance</th>\n",
       "      <th>mean_performance_final</th>\n",
       "      <th>mutation_covariance_initialisation_fraction_of_range</th>\n",
       "      <th>...</th>\n",
       "      <th>objective_function</th>\n",
       "      <th>parent_number</th>\n",
       "      <th>raw_results</th>\n",
       "      <th>selection_method</th>\n",
       "      <th>standard_deviation_clipping_fraction_of_range</th>\n",
       "      <th>std_perormance</th>\n",
       "      <th>std_perormance_final</th>\n",
       "      <th>termination_min_abs_difference</th>\n",
       "      <th>x_bounds</th>\n",
       "      <th>x_length</th>\n",
       "    </tr>\n",
       "  </thead>\n",
       "  <tbody>\n",
       "    <tr>\n",
       "      <th>0</th>\n",
       "      <td>0.1</td>\n",
       "      <td>171.401333</td>\n",
       "      <td>-1510.998477</td>\n",
       "      <td>-691.787624</td>\n",
       "      <td>not_clipping</td>\n",
       "      <td>2.0</td>\n",
       "      <td>100.0</td>\n",
       "      <td>-1429.731841</td>\n",
       "      <td>-546.881420</td>\n",
       "      <td>0.01</td>\n",
       "      <td>...</td>\n",
       "      <td>&lt;function rana_func at 0x00000258AAC67EE0&gt;</td>\n",
       "      <td>10.0</td>\n",
       "      <td>[-1510.9984765594054, -1348.465205925551]</td>\n",
       "      <td>standard_mew_comma_lambda</td>\n",
       "      <td>0.01</td>\n",
       "      <td>81.266635</td>\n",
       "      <td>144.906204</td>\n",
       "      <td>0.000001</td>\n",
       "      <td>(-500, 500)</td>\n",
       "      <td>5.0</td>\n",
       "    </tr>\n",
       "    <tr>\n",
       "      <th>1</th>\n",
       "      <td>0.1</td>\n",
       "      <td>45.997609</td>\n",
       "      <td>-1582.497124</td>\n",
       "      <td>-1582.496915</td>\n",
       "      <td>not_clipping</td>\n",
       "      <td>2.0</td>\n",
       "      <td>100.0</td>\n",
       "      <td>-1463.807228</td>\n",
       "      <td>-1463.807122</td>\n",
       "      <td>0.01</td>\n",
       "      <td>...</td>\n",
       "      <td>&lt;function rana_func at 0x00000258AAC67EE0&gt;</td>\n",
       "      <td>10.0</td>\n",
       "      <td>[-1345.117331544416, -1582.4971243317905]</td>\n",
       "      <td>standard_mew_comma_lambda</td>\n",
       "      <td>0.01</td>\n",
       "      <td>118.689896</td>\n",
       "      <td>118.689793</td>\n",
       "      <td>0.000001</td>\n",
       "      <td>(-500, 500)</td>\n",
       "      <td>5.0</td>\n",
       "    </tr>\n",
       "    <tr>\n",
       "      <th>2</th>\n",
       "      <td>0.1</td>\n",
       "      <td>49.249950</td>\n",
       "      <td>-1597.575249</td>\n",
       "      <td>-1563.725064</td>\n",
       "      <td>not_clipping</td>\n",
       "      <td>2.0</td>\n",
       "      <td>100.0</td>\n",
       "      <td>-1469.511051</td>\n",
       "      <td>-1419.407394</td>\n",
       "      <td>0.01</td>\n",
       "      <td>...</td>\n",
       "      <td>&lt;function rana_func at 0x00000258AAC67EE0&gt;</td>\n",
       "      <td>10.0</td>\n",
       "      <td>[-1341.4468540541493, -1597.5752487283576]</td>\n",
       "      <td>standard_mew_comma_lambda</td>\n",
       "      <td>0.01</td>\n",
       "      <td>128.064197</td>\n",
       "      <td>144.317671</td>\n",
       "      <td>0.000001</td>\n",
       "      <td>(-500, 500)</td>\n",
       "      <td>5.0</td>\n",
       "    </tr>\n",
       "    <tr>\n",
       "      <th>3</th>\n",
       "      <td>0.1</td>\n",
       "      <td>0.001012</td>\n",
       "      <td>-734.021704</td>\n",
       "      <td>-734.021704</td>\n",
       "      <td>not_clipping</td>\n",
       "      <td>11.0</td>\n",
       "      <td>100.0</td>\n",
       "      <td>-703.237684</td>\n",
       "      <td>-703.237684</td>\n",
       "      <td>0.01</td>\n",
       "      <td>...</td>\n",
       "      <td>&lt;function rana_func at 0x00000258AAC67EE0&gt;</td>\n",
       "      <td>1.0</td>\n",
       "      <td>[-734.0217042678419, -672.4536640317971]</td>\n",
       "      <td>standard_mew_comma_lambda</td>\n",
       "      <td>0.01</td>\n",
       "      <td>30.784020</td>\n",
       "      <td>30.784020</td>\n",
       "      <td>0.000001</td>\n",
       "      <td>(-500, 500)</td>\n",
       "      <td>5.0</td>\n",
       "    </tr>\n",
       "    <tr>\n",
       "      <th>4</th>\n",
       "      <td>0.1</td>\n",
       "      <td>0.000000</td>\n",
       "      <td>-734.021704</td>\n",
       "      <td>-734.021704</td>\n",
       "      <td>not_clipping</td>\n",
       "      <td>11.0</td>\n",
       "      <td>100.0</td>\n",
       "      <td>-703.237684</td>\n",
       "      <td>-703.237684</td>\n",
       "      <td>0.01</td>\n",
       "      <td>...</td>\n",
       "      <td>&lt;function rana_func at 0x00000258AAC67EE0&gt;</td>\n",
       "      <td>1.0</td>\n",
       "      <td>[-734.0217042678419, -672.4536640317971]</td>\n",
       "      <td>standard_mew_comma_lambda</td>\n",
       "      <td>0.01</td>\n",
       "      <td>30.784020</td>\n",
       "      <td>30.784020</td>\n",
       "      <td>0.000001</td>\n",
       "      <td>(-500, 500)</td>\n",
       "      <td>5.0</td>\n",
       "    </tr>\n",
       "  </tbody>\n",
       "</table>\n",
       "<p>5 rows × 21 columns</p>\n",
       "</div>"
      ],
      "text/plain": [
       "   archive_minimum_acceptable_dissimilarity  average_runtime  \\\n",
       "0                                       0.1       171.401333   \n",
       "1                                       0.1        45.997609   \n",
       "2                                       0.1        49.249950   \n",
       "3                                       0.1         0.001012   \n",
       "4                                       0.1         0.000000   \n",
       "\n",
       "   best_performance  best_performance_final bound_enforcing_method  \\\n",
       "0      -1510.998477             -691.787624           not_clipping   \n",
       "1      -1582.497124            -1582.496915           not_clipping   \n",
       "2      -1597.575249            -1563.725064           not_clipping   \n",
       "3       -734.021704             -734.021704           not_clipping   \n",
       "4       -734.021704             -734.021704           not_clipping   \n",
       "\n",
       "   child_to_parent_ratio  maximum_archive_length  mean_performance  \\\n",
       "0                    2.0                   100.0      -1429.731841   \n",
       "1                    2.0                   100.0      -1463.807228   \n",
       "2                    2.0                   100.0      -1469.511051   \n",
       "3                   11.0                   100.0       -703.237684   \n",
       "4                   11.0                   100.0       -703.237684   \n",
       "\n",
       "   mean_performance_final  \\\n",
       "0             -546.881420   \n",
       "1            -1463.807122   \n",
       "2            -1419.407394   \n",
       "3             -703.237684   \n",
       "4             -703.237684   \n",
       "\n",
       "   mutation_covariance_initialisation_fraction_of_range  ...  \\\n",
       "0                                               0.01     ...   \n",
       "1                                               0.01     ...   \n",
       "2                                               0.01     ...   \n",
       "3                                               0.01     ...   \n",
       "4                                               0.01     ...   \n",
       "\n",
       "                           objective_function parent_number  \\\n",
       "0  <function rana_func at 0x00000258AAC67EE0>          10.0   \n",
       "1  <function rana_func at 0x00000258AAC67EE0>          10.0   \n",
       "2  <function rana_func at 0x00000258AAC67EE0>          10.0   \n",
       "3  <function rana_func at 0x00000258AAC67EE0>           1.0   \n",
       "4  <function rana_func at 0x00000258AAC67EE0>           1.0   \n",
       "\n",
       "                                  raw_results           selection_method  \\\n",
       "0   [-1510.9984765594054, -1348.465205925551]  standard_mew_comma_lambda   \n",
       "1   [-1345.117331544416, -1582.4971243317905]  standard_mew_comma_lambda   \n",
       "2  [-1341.4468540541493, -1597.5752487283576]  standard_mew_comma_lambda   \n",
       "3    [-734.0217042678419, -672.4536640317971]  standard_mew_comma_lambda   \n",
       "4    [-734.0217042678419, -672.4536640317971]  standard_mew_comma_lambda   \n",
       "\n",
       "  standard_deviation_clipping_fraction_of_range  std_perormance  \\\n",
       "0                                          0.01       81.266635   \n",
       "1                                          0.01      118.689896   \n",
       "2                                          0.01      128.064197   \n",
       "3                                          0.01       30.784020   \n",
       "4                                          0.01       30.784020   \n",
       "\n",
       "   std_perormance_final  termination_min_abs_difference     x_bounds x_length  \n",
       "0            144.906204                        0.000001  (-500, 500)      5.0  \n",
       "1            118.689793                        0.000001  (-500, 500)      5.0  \n",
       "2            144.317671                        0.000001  (-500, 500)      5.0  \n",
       "3             30.784020                        0.000001  (-500, 500)      5.0  \n",
       "4             30.784020                        0.000001  (-500, 500)      5.0  \n",
       "\n",
       "[5 rows x 21 columns]"
      ]
     },
     "execution_count": 6,
     "metadata": {},
     "output_type": "execute_result"
    }
   ],
   "source": [
    "results_df = pd.DataFrame()\n",
    "for result in result_list:\n",
    "    results_df = results_df.append(result, ignore_index=True)\n",
    "results_df.head()"
   ]
  },
  {
   "cell_type": "code",
   "execution_count": 7,
   "metadata": {},
   "outputs": [
    {
     "data": {
      "text/plain": [
       "Index(['archive_minimum_acceptable_dissimilarity', 'average_runtime',\n",
       "       'best_performance', 'best_performance_final', 'bound_enforcing_method',\n",
       "       'child_to_parent_ratio', 'maximum_archive_length', 'mean_performance',\n",
       "       'mean_performance_final',\n",
       "       'mutation_covariance_initialisation_fraction_of_range',\n",
       "       'mutation_method', 'objective_function', 'parent_number', 'raw_results',\n",
       "       'selection_method', 'standard_deviation_clipping_fraction_of_range',\n",
       "       'std_perormance', 'std_perormance_final',\n",
       "       'termination_min_abs_difference', 'x_bounds', 'x_length'],\n",
       "      dtype='object')"
      ]
     },
     "execution_count": 7,
     "metadata": {},
     "output_type": "execute_result"
    }
   ],
   "source": [
    "results_df.columns"
   ]
  },
  {
   "cell_type": "code",
   "execution_count": 8,
   "metadata": {},
   "outputs": [],
   "source": [
    "output_names = ['average_runtime','best_performance', 'best_performance_final', 'child_to_parent_ratio', 'mean_performance',\n",
    "       'mean_performance_final','mutation_method', 'parent_number',\n",
    "       'selection_method','std_perormance_final']"
   ]
  },
  {
   "cell_type": "code",
   "execution_count": 9,
   "metadata": {},
   "outputs": [],
   "source": [
    "def get_best_values_and_return_dict(spec_names, spec_vals, output_names=output_names):\n",
    "    df = results_df\n",
    "    for spec_name, spec_val in zip(spec_names, spec_vals):\n",
    "        df = df.loc[results_df[spec_name] == spec_val]\n",
    "    argmin_indx = df[\"mean_performance_final\"].argmin()\n",
    "    output_dict = {}\n",
    "    for output_name in output_names:\n",
    "        output_dict[output_name] = df.iloc[argmin_indx][output_name]\n",
    "    return output_dict"
   ]
  },
  {
   "cell_type": "code",
   "execution_count": 10,
   "metadata": {},
   "outputs": [
    {
     "data": {
      "text/plain": [
       "array(['complex', 'diagonal', 'simple'], dtype=object)"
      ]
     },
     "execution_count": 10,
     "metadata": {},
     "output_type": "execute_result"
    }
   ],
   "source": [
    "results_df['mutation_method'].unique()"
   ]
  },
  {
   "cell_type": "code",
   "execution_count": 16,
   "metadata": {},
   "outputs": [
    {
     "data": {
      "text/html": [
       "<div>\n",
       "<style scoped>\n",
       "    .dataframe tbody tr th:only-of-type {\n",
       "        vertical-align: middle;\n",
       "    }\n",
       "\n",
       "    .dataframe tbody tr th {\n",
       "        vertical-align: top;\n",
       "    }\n",
       "\n",
       "    .dataframe thead th {\n",
       "        text-align: right;\n",
       "    }\n",
       "</style>\n",
       "<table border=\"1\" class=\"dataframe\">\n",
       "  <thead>\n",
       "    <tr style=\"text-align: right;\">\n",
       "      <th></th>\n",
       "      <th>average_runtime</th>\n",
       "      <th>best_performance</th>\n",
       "      <th>best_performance_final</th>\n",
       "      <th>child_to_parent_ratio</th>\n",
       "      <th>mean_performance</th>\n",
       "      <th>mean_performance_final</th>\n",
       "      <th>mutation_method</th>\n",
       "      <th>parent_number</th>\n",
       "      <th>selection_method</th>\n",
       "      <th>std_perormance_final</th>\n",
       "    </tr>\n",
       "  </thead>\n",
       "  <tbody>\n",
       "    <tr>\n",
       "      <th>0</th>\n",
       "      <td>32.089099</td>\n",
       "      <td>-1657.392767</td>\n",
       "      <td>-1612.851114</td>\n",
       "      <td>11.0</td>\n",
       "      <td>-1636.232658</td>\n",
       "      <td>-1596.721308</td>\n",
       "      <td>complex</td>\n",
       "      <td>23.0</td>\n",
       "      <td>standard_mew_comma_lambda</td>\n",
       "      <td>16.129806</td>\n",
       "    </tr>\n",
       "    <tr>\n",
       "      <th>1</th>\n",
       "      <td>31.188808</td>\n",
       "      <td>-1921.820948</td>\n",
       "      <td>-1917.426302</td>\n",
       "      <td>11.0</td>\n",
       "      <td>-1896.730477</td>\n",
       "      <td>-1894.533154</td>\n",
       "      <td>diagonal</td>\n",
       "      <td>45.0</td>\n",
       "      <td>standard_mew_comma_lambda</td>\n",
       "      <td>22.893148</td>\n",
       "    </tr>\n",
       "    <tr>\n",
       "      <th>2</th>\n",
       "      <td>31.235031</td>\n",
       "      <td>-1878.637001</td>\n",
       "      <td>-1873.050778</td>\n",
       "      <td>11.0</td>\n",
       "      <td>-1858.581272</td>\n",
       "      <td>-1844.629691</td>\n",
       "      <td>simple</td>\n",
       "      <td>45.0</td>\n",
       "      <td>standard_mew_comma_lambda</td>\n",
       "      <td>28.421087</td>\n",
       "    </tr>\n",
       "  </tbody>\n",
       "</table>\n",
       "</div>"
      ],
      "text/plain": [
       "   average_runtime  best_performance  best_performance_final  \\\n",
       "0        32.089099      -1657.392767            -1612.851114   \n",
       "1        31.188808      -1921.820948            -1917.426302   \n",
       "2        31.235031      -1878.637001            -1873.050778   \n",
       "\n",
       "   child_to_parent_ratio  mean_performance  mean_performance_final  \\\n",
       "0                   11.0      -1636.232658            -1596.721308   \n",
       "1                   11.0      -1896.730477            -1894.533154   \n",
       "2                   11.0      -1858.581272            -1844.629691   \n",
       "\n",
       "  mutation_method  parent_number           selection_method  \\\n",
       "0         complex           23.0  standard_mew_comma_lambda   \n",
       "1        diagonal           45.0  standard_mew_comma_lambda   \n",
       "2          simple           45.0  standard_mew_comma_lambda   \n",
       "\n",
       "   std_perormance_final  \n",
       "0             16.129806  \n",
       "1             22.893148  \n",
       "2             28.421087  "
      ]
     },
     "execution_count": 16,
     "metadata": {},
     "output_type": "execute_result"
    }
   ],
   "source": [
    "report_table = pd.DataFrame()\n",
    "for selection_method in ['standard_mew_comma_lambda']:#, \"elitist\"]:\n",
    "    for mutation_method in ['complex', 'diagonal', 'simple']:\n",
    "        spec_names = [\"mutation_method\", \"selection_method\"] \n",
    "        spec_vals = [mutation_method]\n",
    "        output_dict = get_best_values_and_return_dict(spec_names, spec_vals)\n",
    "        report_table = report_table.append(output_dict, ignore_index=True)\n",
    "report_table"
   ]
  },
  {
   "cell_type": "code",
   "execution_count": 17,
   "metadata": {},
   "outputs": [],
   "source": [
    "report_table[\"number of offspring\"] = report_table['child_to_parent_ratio'] * report_table['parent_number']"
   ]
  },
  {
   "cell_type": "code",
   "execution_count": 18,
   "metadata": {
    "scrolled": true
   },
   "outputs": [
    {
     "data": {
      "text/html": [
       "<div>\n",
       "<style scoped>\n",
       "    .dataframe tbody tr th:only-of-type {\n",
       "        vertical-align: middle;\n",
       "    }\n",
       "\n",
       "    .dataframe tbody tr th {\n",
       "        vertical-align: top;\n",
       "    }\n",
       "\n",
       "    .dataframe thead th {\n",
       "        text-align: right;\n",
       "    }\n",
       "</style>\n",
       "<table border=\"1\" class=\"dataframe\">\n",
       "  <thead>\n",
       "    <tr style=\"text-align: right;\">\n",
       "      <th></th>\n",
       "      <th>mutation method</th>\n",
       "      <th>selection_method</th>\n",
       "      <th>Offspring per parent</th>\n",
       "      <th>number of offspring</th>\n",
       "      <th>mean final performance</th>\n",
       "      <th>std dev final performance</th>\n",
       "      <th>best final performance (across seeds)</th>\n",
       "      <th>mean best objective (within run)</th>\n",
       "      <th>average runtime (s)</th>\n",
       "    </tr>\n",
       "  </thead>\n",
       "  <tbody>\n",
       "    <tr>\n",
       "      <th>0</th>\n",
       "      <td>complex</td>\n",
       "      <td>standard_mew_comma_lambda</td>\n",
       "      <td>11.0</td>\n",
       "      <td>253.0</td>\n",
       "      <td>-1596.72</td>\n",
       "      <td>16.13</td>\n",
       "      <td>-1612.85</td>\n",
       "      <td>-1636.23</td>\n",
       "      <td>32.09</td>\n",
       "    </tr>\n",
       "    <tr>\n",
       "      <th>1</th>\n",
       "      <td>diagonal</td>\n",
       "      <td>standard_mew_comma_lambda</td>\n",
       "      <td>11.0</td>\n",
       "      <td>495.0</td>\n",
       "      <td>-1894.53</td>\n",
       "      <td>22.89</td>\n",
       "      <td>-1917.43</td>\n",
       "      <td>-1896.73</td>\n",
       "      <td>31.19</td>\n",
       "    </tr>\n",
       "    <tr>\n",
       "      <th>2</th>\n",
       "      <td>simple</td>\n",
       "      <td>standard_mew_comma_lambda</td>\n",
       "      <td>11.0</td>\n",
       "      <td>495.0</td>\n",
       "      <td>-1844.63</td>\n",
       "      <td>28.42</td>\n",
       "      <td>-1873.05</td>\n",
       "      <td>-1858.58</td>\n",
       "      <td>31.24</td>\n",
       "    </tr>\n",
       "  </tbody>\n",
       "</table>\n",
       "</div>"
      ],
      "text/plain": [
       "  mutation method           selection_method  Offspring per parent  \\\n",
       "0         complex  standard_mew_comma_lambda                  11.0   \n",
       "1        diagonal  standard_mew_comma_lambda                  11.0   \n",
       "2          simple  standard_mew_comma_lambda                  11.0   \n",
       "\n",
       "   number of offspring  mean final performance  std dev final performance  \\\n",
       "0                253.0                -1596.72                      16.13   \n",
       "1                495.0                -1894.53                      22.89   \n",
       "2                495.0                -1844.63                      28.42   \n",
       "\n",
       "   best final performance (across seeds)  mean best objective (within run)  \\\n",
       "0                               -1612.85                          -1636.23   \n",
       "1                               -1917.43                          -1896.73   \n",
       "2                               -1873.05                          -1858.58   \n",
       "\n",
       "   average runtime (s)  \n",
       "0                32.09  \n",
       "1                31.19  \n",
       "2                31.24  "
      ]
     },
     "execution_count": 18,
     "metadata": {},
     "output_type": "execute_result"
    }
   ],
   "source": [
    "column_order = [\"mutation_method\", \"selection_method\",'child_to_parent_ratio', \"number of offspring\", \"mean_performance_final\", \n",
    "                \"std_perormance_final\", \"best_performance_final\", \"mean_performance\", \"average_runtime\"]\n",
    "report_table = report_table[column_order]\n",
    "rename_dict = {\"mutation_method\": \"mutation method\", \n",
    "               \"mean_performance_final\": \"mean final performance\", \n",
    "               \"std_perormance_final\": \"std dev final performance\", \n",
    "               \"best_performance_final\": \"best final performance (across seeds)\", \n",
    "               \"mean_performance\": \"mean best objective (within run)\", \n",
    "               \"average_runtime\": \"average runtime (s)\",\n",
    "               'child_to_parent_ratio' : \"Offspring per parent\"\n",
    "}\n",
    "report_table = report_table.rename(columns = rename_dict)\n",
    "report_table = report_table.round(2)\n",
    "report_table"
   ]
  },
  {
   "cell_type": "code",
   "execution_count": 19,
   "metadata": {},
   "outputs": [
    {
     "data": {
      "text/plain": [
       "'<table border=\"1\" class=\"dataframe\">\\n  <thead>\\n    <tr style=\"text-align: right;\">\\n      <th></th>\\n      <th>0</th>\\n      <th>1</th>\\n      <th>2</th>\\n    </tr>\\n  </thead>\\n  <tbody>\\n    <tr>\\n      <th>mutation method</th>\\n      <td>complex</td>\\n      <td>diagonal</td>\\n      <td>simple</td>\\n    </tr>\\n    <tr>\\n      <th>selection_method</th>\\n      <td>standard_mew_comma_lambda</td>\\n      <td>standard_mew_comma_lambda</td>\\n      <td>standard_mew_comma_lambda</td>\\n    </tr>\\n    <tr>\\n      <th>Offspring per parent</th>\\n      <td>11</td>\\n      <td>11</td>\\n      <td>11</td>\\n    </tr>\\n    <tr>\\n      <th>number of offspring</th>\\n      <td>253</td>\\n      <td>495</td>\\n      <td>495</td>\\n    </tr>\\n    <tr>\\n      <th>mean final performance</th>\\n      <td>-1596.72</td>\\n      <td>-1894.53</td>\\n      <td>-1844.63</td>\\n    </tr>\\n    <tr>\\n      <th>std dev final performance</th>\\n      <td>16.13</td>\\n      <td>22.89</td>\\n      <td>28.42</td>\\n    </tr>\\n    <tr>\\n      <th>best final performance (across seeds)</th>\\n      <td>-1612.85</td>\\n      <td>-1917.43</td>\\n      <td>-1873.05</td>\\n    </tr>\\n    <tr>\\n      <th>mean best objective (within run)</th>\\n      <td>-1636.23</td>\\n      <td>-1896.73</td>\\n      <td>-1858.58</td>\\n    </tr>\\n    <tr>\\n      <th>average runtime (s)</th>\\n      <td>32.09</td>\\n      <td>31.19</td>\\n      <td>31.24</td>\\n    </tr>\\n  </tbody>\\n</table>'"
      ]
     },
     "execution_count": 19,
     "metadata": {},
     "output_type": "execute_result"
    }
   ],
   "source": [
    "report_table.T.to_html()"
   ]
  },
  {
   "cell_type": "code",
   "execution_count": 14,
   "metadata": {},
   "outputs": [],
   "source": [
    "selection_method = \"standard_mew_comma_lambda\"\n",
    "mutation_method = \"complex\""
   ]
  },
  {
   "cell_type": "code",
   "execution_count": 27,
   "metadata": {},
   "outputs": [],
   "source": [
    "df = results_df.loc[(results_df[\"selection_method\"] == selection_method) & (results_df[\"mutation_method\"] == mutation_method)]"
   ]
  },
  {
   "cell_type": "markdown",
   "metadata": {},
   "source": [
    "have to enter these value manually"
   ]
  },
  {
   "cell_type": "code",
   "execution_count": 44,
   "metadata": {},
   "outputs": [
    {
     "data": {
      "text/plain": [
       "(3, 3)"
      ]
     },
     "execution_count": 44,
     "metadata": {},
     "output_type": "execute_result"
    }
   ],
   "source": [
    "parent_number_n = 3 #df[\"parent_number\"].unique().shape[0] \n",
    "child_to_parent_ratio_n = 3 #df[\"child_to_parent_ratio\"].unique().shape[0]\n",
    "parent_number_n, child_to_parent_ratio_n"
   ]
  },
  {
   "cell_type": "code",
   "execution_count": 45,
   "metadata": {},
   "outputs": [],
   "source": [
    "parent_data = df[\"parent_number\"].to_numpy()\n",
    "child_to_parent_ratio_data = df[\"child_to_parent_ratio\"].to_numpy()\n",
    "offspring_data = parent_data * child_to_parent_ratio_data\n",
    "#offspring_data[0:3], parent_data[0:3], child_to_parent_ratio_data[0:3]"
   ]
  },
  {
   "cell_type": "code",
   "execution_count": 46,
   "metadata": {},
   "outputs": [],
   "source": [
    "x1 = child_to_parent_ratio_data.reshape(parent_number_n,child_to_parent_ratio_n)\n",
    "x2 = offspring_data.reshape(parent_number_n, child_to_parent_ratio_n)\n",
    "#z = df[column].reshape(parent_number_n,child_to_parent_ratio_n)"
   ]
  },
  {
   "cell_type": "code",
   "execution_count": 52,
   "metadata": {},
   "outputs": [
    {
     "data": {
      "image/png": "[encoded data removed]",
      "text/plain": [
       "<Figure size 2400x900 with 4 Axes>"
      ]
     },
     "metadata": {
      "needs_background": "light"
     },
     "output_type": "display_data"
    }
   ],
   "source": [
    "fig, ax = plt.subplots(1,2, figsize=(8,3), constrained_layout=True)\n",
    "#labels = [\"final f(x)\", \"std f(x)\", \"time (s)\"]\n",
    "#for i, column in enumerate([\"best_performance_final\",'std_perormance_final', \"average_runtime\"]):\n",
    "labels = [\"mean final f(x)\", \"mean runtime (s)\"]\n",
    "for i, column in enumerate([\"mean_performance_final\", \"average_runtime\"]):\n",
    "    z = df[column].to_numpy().reshape(parent_number_n,child_to_parent_ratio_n)\n",
    "    plot_list = []\n",
    "    cs = ax[i].contourf(x1,x2,z)\n",
    "    CB = fig.colorbar(cs, label=labels[i], ax=ax[i], location='top')\n",
    "    tick_locator = mpl.ticker.MaxNLocator(nbins=4)\n",
    "    CB.locator = tick_locator\n",
    "    CB.update_ticks()\n",
    "\n",
    "ax[0].set_ylabel(\"numer of children\")\n",
    "#ax[1].set_ylabel(\"Max MC length\")\n",
    "ax[0].set_xlabel(\"child to parent ratio\")\n",
    "ax[1].set_xlabel(\"child to parent ratio\")\n",
    "#fig.tight_layout()\n",
    "fig.savefig(\"./Figures/ES_offsring_n_OP_ratio_complex_mutation_mew_comma_lambda_selection.png\")"
   ]
  },
  {
   "cell_type": "code",
   "execution_count": null,
   "metadata": {},
   "outputs": [],
   "source": []
  }
 ],
 "metadata": {
  "kernelspec": {
   "display_name": "Python 3",
   "language": "python",
   "name": "python3"
  },
  "language_info": {
   "codemirror_mode": {
    "name": "ipython",
    "version": 3
   },
   "file_extension": ".py",
   "mimetype": "text/x-python",
   "name": "python",
   "nbconvert_exporter": "python",
   "pygments_lexer": "ipython3",
   "version": "3.8.5"
  }
 },
 "nbformat": 4,
 "nbformat_minor": 4
}
