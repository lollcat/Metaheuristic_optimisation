{
 "cells": [
  {
   "cell_type": "code",
   "execution_count": 1,
   "metadata": {},
   "outputs": [],
   "source": [
    "# set path to parent file\n",
    "from pathlib import Path\n",
    "import os\n",
    "cwd_path = Path.cwd()\n",
    "set_path = str(cwd_path.parent)\n",
    "os.chdir(set_path)"
   ]
  },
  {
   "cell_type": "code",
   "execution_count": 2,
   "metadata": {},
   "outputs": [],
   "source": [
    "from EvolutionStrategy import EvolutionStrategy\n",
    "import numpy as np\n",
    "import matplotlib.pyplot as plt\n",
    "import matplotlib as mpl\n",
    "\n",
    "from rana import rana_func"
   ]
  },
  {
   "cell_type": "code",
   "execution_count": 17,
   "metadata": {},
   "outputs": [],
   "source": [
    "x_length = 5\n",
    "random_seed = 0"
   ]
  },
  {
   "cell_type": "code",
   "execution_count": 22,
   "metadata": {},
   "outputs": [
    {
     "name": "stdout",
     "output_type": "stream",
     "text": [
      "converged\n",
      "x_result = [-0.79190967 -0.22427983 -0.5739125   0.9391992  -0.20722846] \n",
      " objective_result = -1399.0047471427365 \n",
      ",       number of objective_evaluations is 4130       number of generations is 59\n",
      "6.756570711320548e-06\n"
     ]
    }
   ],
   "source": [
    "mutation_method = \"diagonal\"\n",
    "np.random.seed(random_seed)\n",
    "x_max = 500\n",
    "x_min = -x_max\n",
    "evo_diag = EvolutionStrategy(x_length=x_length, x_bounds=(x_min, x_max), objective_function=rana_func, \n",
    "                             mutation_method=mutation_method, mutation_covariance_initialisation_fraction_of_range=0.01,\n",
    "                            bound_enforcing_method = \"clipping\")\n",
    "x_result, objective_result = evo_diag .run()\n",
    "print(f\"x_result = {x_result} \\n objective_result = {objective_result} \\n, \\\n",
    "      number of objective_evaluations is {evo_diag .objective_function_evaluation_count} \\\n",
    "      number of generations is {evo_diag.generation_number}\")\n",
    "print(f\"{evo_diag.parent_mutation_standard_deviations.max()}\")"
   ]
  },
  {
   "cell_type": "code",
   "execution_count": 23,
   "metadata": {},
   "outputs": [
    {
     "name": "stdout",
     "output_type": "stream",
     "text": [
      "max total iterations\n",
      "x_result = [ 0.8762571  -0.81239348  0.98960859  0.92573725 -0.20133372] \n",
      " objective_result = -1710.4497331240232 \n",
      ",       number of objective_evaluations is 10010       number of generations is 143\n"
     ]
    }
   ],
   "source": [
    "mutation_method = \"simple\"\n",
    "np.random.seed(random_seed)\n",
    "x_max = 500\n",
    "x_min = -x_max\n",
    "evo_simple = EvolutionStrategy(x_length=x_length, x_bounds=(x_min, x_max), objective_function=rana_func, \n",
    "                               mutation_method=mutation_method, mutation_covariance_initialisation_fraction_of_range=0.01)\n",
    "x_result, objective_result = evo_simple.run()\n",
    "print(f\"x_result = {x_result} \\n objective_result = {objective_result} \\n, \\\n",
    "      number of objective_evaluations is {evo_simple .objective_function_evaluation_count} \\\n",
    "      number of generations is {evo_simple.generation_number}\")"
   ]
  },
  {
   "cell_type": "code",
   "execution_count": 24,
   "metadata": {
    "scrolled": false
   },
   "outputs": [
    {
     "data": {
      "text/plain": [
       "[<matplotlib.lines.Line2D at 0x2ace02b6610>]"
      ]
     },
     "execution_count": 24,
     "metadata": {},
     "output_type": "execute_result"
    },
    {
     "data": {
      "image/png": "[encoded data removed]",
      "text/plain": [
       "<Figure size 432x288 with 1 Axes>"
      ]
     },
     "metadata": {
      "needs_background": "light"
     },
     "output_type": "display_data"
    }
   ],
   "source": [
    "plt.plot(evo_diag.objective_history)"
   ]
  },
  {
   "cell_type": "code",
   "execution_count": 11,
   "metadata": {},
   "outputs": [
    {
     "data": {
      "text/plain": [
       "[<matplotlib.lines.Line2D at 0x2acdf1cee50>]"
      ]
     },
     "execution_count": 11,
     "metadata": {},
     "output_type": "execute_result"
    },
    {
     "data": {
      "image/png": "[encoded data removed]",
      "text/plain": [
       "<Figure size 432x288 with 1 Axes>"
      ]
     },
     "metadata": {
      "needs_background": "light"
     },
     "output_type": "display_data"
    }
   ],
   "source": [
    "plt.plot(evo_simple.objective_history)"
   ]
  },
  {
   "cell_type": "markdown",
   "metadata": {},
   "source": [
    "# np.frompyfunc"
   ]
  },
  {
   "cell_type": "code",
   "execution_count": null,
   "metadata": {},
   "outputs": [],
   "source": [
    "def test_func(x):\n",
    "    if np.min(x) == -10:\n",
    "        return x - 100\n",
    "    else:\n",
    "        print(x)\n",
    "        return x + 100"
   ]
  },
  {
   "cell_type": "code",
   "execution_count": null,
   "metadata": {},
   "outputs": [],
   "source": [
    "ufunky = np.frompyfunc(test_func, nin=1, nout=1)"
   ]
  },
  {
   "cell_type": "code",
   "execution_count": null,
   "metadata": {},
   "outputs": [],
   "source": [
    "x = np.broadcast_to(np.array([[1,2,3],[3,4,5], [5,6,7]]), (6,3,3)) + 2\n",
    "x[0, 0, 0] = -10\n",
    "x"
   ]
  },
  {
   "cell_type": "code",
   "execution_count": null,
   "metadata": {},
   "outputs": [],
   "source": [
    "ufunky(x, axis=0)"
   ]
  },
  {
   "cell_type": "markdown",
   "metadata": {},
   "source": [
    "# Vectorise"
   ]
  },
  {
   "cell_type": "code",
   "execution_count": null,
   "metadata": {},
   "outputs": [],
   "source": []
  },
  {
   "cell_type": "code",
   "execution_count": null,
   "metadata": {},
   "outputs": [],
   "source": []
  },
  {
   "cell_type": "code",
   "execution_count": null,
   "metadata": {},
   "outputs": [],
   "source": []
  },
  {
   "cell_type": "code",
   "execution_count": null,
   "metadata": {},
   "outputs": [],
   "source": [
    "def test_func(x):\n",
    "    if np.min(x) == -10:\n",
    "        return x - 100\n",
    "    else:\n",
    "        print(x)\n",
    "        return x + 100"
   ]
  },
  {
   "cell_type": "code",
   "execution_count": null,
   "metadata": {},
   "outputs": [],
   "source": [
    "vectorise_func = np.vectorize(test_func, signature='(k,n,m)->(n,m)', otypes=[np.float64])"
   ]
  },
  {
   "cell_type": "code",
   "execution_count": null,
   "metadata": {},
   "outputs": [],
   "source": [
    "vectorise_func = np.vectorize(lambda x: min(x), signature='(k,n,m)->(k)', otypes=[np.float64])"
   ]
  },
  {
   "cell_type": "code",
   "execution_count": null,
   "metadata": {},
   "outputs": [],
   "source": [
    "vectorise_func(x)"
   ]
  },
  {
   "cell_type": "code",
   "execution_count": null,
   "metadata": {
    "scrolled": true
   },
   "outputs": [],
   "source": [
    "x.shape"
   ]
  },
  {
   "cell_type": "code",
   "execution_count": null,
   "metadata": {},
   "outputs": [],
   "source": []
  },
  {
   "cell_type": "code",
   "execution_count": null,
   "metadata": {},
   "outputs": [],
   "source": [
    "func = lambda x: sum(x)**2"
   ]
  },
  {
   "cell_type": "code",
   "execution_count": null,
   "metadata": {},
   "outputs": [],
   "source": [
    "summer = np.vectorize(func, signature='(n,m)->(m)', otypes=[np.float64])"
   ]
  },
  {
   "cell_type": "code",
   "execution_count": null,
   "metadata": {},
   "outputs": [],
   "source": [
    "summer(x)"
   ]
  },
  {
   "cell_type": "code",
   "execution_count": null,
   "metadata": {},
   "outputs": [],
   "source": [
    "x"
   ]
  },
  {
   "cell_type": "code",
   "execution_count": null,
   "metadata": {},
   "outputs": [],
   "source": []
  }
 ],
 "metadata": {
  "kernelspec": {
   "display_name": "Python 3",
   "language": "python",
   "name": "python3"
  },
  "language_info": {
   "codemirror_mode": {
    "name": "ipython",
    "version": 3
   },
   "file_extension": ".py",
   "mimetype": "text/x-python",
   "name": "python",
   "nbconvert_exporter": "python",
   "pygments_lexer": "ipython3",
   "version": "3.8.5"
  }
 },
 "nbformat": 4,
 "nbformat_minor": 4
}
