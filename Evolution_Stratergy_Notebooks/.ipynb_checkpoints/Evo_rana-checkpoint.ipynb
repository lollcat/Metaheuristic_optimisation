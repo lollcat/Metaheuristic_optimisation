{
 "cells": [
  {
   "cell_type": "code",
   "execution_count": 1,
   "metadata": {},
   "outputs": [],
   "source": [
    "# set path to parent file\n",
    "from pathlib import Path\n",
    "import os\n",
    "cwd_path = Path.cwd()\n",
    "set_path = str(cwd_path.parent)\n",
    "os.chdir(set_path)"
   ]
  },
  {
   "cell_type": "code",
   "execution_count": 2,
   "metadata": {},
   "outputs": [],
   "source": [
    "from EvolutionStrategy import EvolutionStrategy\n",
    "import numpy as np\n",
    "import matplotlib.pyplot as plt\n",
    "import matplotlib as mpl\n",
    "\n",
    "from rana import rana_func"
   ]
  },
  {
   "cell_type": "code",
   "execution_count": 6,
   "metadata": {},
   "outputs": [],
   "source": [
    "x_length = 5\n",
    "random_seed = 5\n",
    "parent_number = 10   # 20\n",
    "child_to_parent_ratio = 10\n",
    "clipping_method = \"not_clipping\"\n",
    "selection_method = \"elitist\"  # \"standard_mew_comma_lambda\""
   ]
  },
  {
   "cell_type": "code",
   "execution_count": 7,
   "metadata": {},
   "outputs": [
    {
     "name": "stdout",
     "output_type": "stream",
     "text": [
      "max total iterations\n",
      "x_result = [ 0.46497455  0.95619628  0.99999998  0.95072603 -0.86691269] \n",
      " objective_result = -1927.951677344925\n",
      "\n",
      "\n",
      "      number of objective_evaluations is 10010      number of generations is 100\n"
     ]
    }
   ],
   "source": [
    "mutation_method = \"diagonal\"\n",
    "np.random.seed(random_seed)\n",
    "x_max = 500\n",
    "x_min = -x_max\n",
    "evo_diag = EvolutionStrategy(x_length=x_length, x_bounds=(x_min, x_max), objective_function=rana_func, parent_number = parent_number, child_to_parent_ratio=child_to_parent_ratio,\n",
    "                             mutation_method=mutation_method, mutation_covariance_initialisation_fraction_of_range=0.01,selection_method=selection_method,\n",
    "                            bound_enforcing_method = clipping_method )\n",
    "x_result, objective_result = evo_diag.run()\n",
    "print(f\"x_result = {x_result} \\n objective_result = {objective_result}\\n\\n\\n\\\n",
    "      number of objective_evaluations is {evo_diag .objective_function_evaluation_count}\\\n",
    "      number of generations is {evo_diag.generation_number}\")"
   ]
  },
  {
   "cell_type": "code",
   "execution_count": null,
   "metadata": {},
   "outputs": [],
   "source": [
    "mutation_method = \"complex\"\n",
    "np.random.seed(random_seed)\n",
    "x_max = 500\n",
    "x_min = -x_max\n",
    "evo_diag = EvolutionStrategy(x_length=x_length, x_bounds=(x_min, x_max), objective_function=rana_func, parent_number = parent_number, child_to_parent_ratio=child_to_parent_ratio,\n",
    "                             mutation_method=mutation_method, mutation_covariance_initialisation_fraction_of_range=0.01,selection_method=selection_method,\n",
    "                            bound_enforcing_method = clipping_method )\n",
    "x_result, objective_result = evo_diag.run()\n",
    "print(f\"x_result = {x_result} \\n objective_result = {objective_result}\\n\\n\\n\\\n",
    "      number of objective_evaluations is {evo_diag .objective_function_evaluation_count}\\\n",
    "      number of generations is {evo_diag.generation_number}\")"
   ]
  },
  {
   "cell_type": "code",
   "execution_count": null,
   "metadata": {},
   "outputs": [],
   "source": [
    "mutation_method = \"simple\"\n",
    "np.random.seed(random_seed)\n",
    "x_max = 500\n",
    "x_min = -x_max\n",
    "evo_simple = EvolutionStrategy(x_length=x_length, x_bounds=(x_min, x_max), objective_function=rana_func, parent_number=parent_number,\n",
    "                               mutation_method=mutation_method, mutation_covariance_initialisation_fraction_of_range=0.05, \n",
    "                               child_to_parent_ratio=child_to_parent_ratio)\n",
    "x_result, objective_result = evo_simple.run()\n",
    "print(f\"x_result = {x_result} \\n objective_result = {objective_result} \\n, \\\n",
    "      number of objective_evaluations is {evo_simple .objective_function_evaluation_count} \\\n",
    "      number of generations is {evo_simple.generation_number}\")"
   ]
  },
  {
   "cell_type": "code",
   "execution_count": null,
   "metadata": {
    "scrolled": false
   },
   "outputs": [],
   "source": [
    "plt.plot(np.min(evo_diag.parent_objective_history_array, axis=1), label=\"parent minimum\")\n",
    "plt.plot(np.mean(evo_diag.parent_objective_history_array, axis=1), label=\"parent mean\")\n",
    "#plt.plot(np.min(evo_diag.offspring_objective_history_array, axis=1))\n",
    "plt.plot(np.mean(evo_diag.offspring_objective_history_array, axis=1), label=\"child mean\")\n",
    "plt.legend()"
   ]
  },
  {
   "cell_type": "code",
   "execution_count": null,
   "metadata": {},
   "outputs": [],
   "source": [
    "\n",
    "plt.plot(np.min(evo_simple.parent_objective_history_array, axis=1))"
   ]
  },
  {
   "cell_type": "markdown",
   "metadata": {},
   "source": [
    "# np.frompyfunc"
   ]
  },
  {
   "cell_type": "code",
   "execution_count": null,
   "metadata": {},
   "outputs": [],
   "source": [
    "def test_func(x):\n",
    "    if np.min(x) == -10:\n",
    "        return x - 100\n",
    "    else:\n",
    "        print(x)\n",
    "        return x + 100"
   ]
  },
  {
   "cell_type": "code",
   "execution_count": null,
   "metadata": {},
   "outputs": [],
   "source": [
    "ufunky = np.frompyfunc(test_func, nin=1, nout=1)"
   ]
  },
  {
   "cell_type": "code",
   "execution_count": null,
   "metadata": {},
   "outputs": [],
   "source": [
    "x = np.broadcast_to(np.array([[1,2,3],[3,4,5], [5,6,7]]), (6,3,3)) + 2\n",
    "x[0, 0, 0] = -10\n",
    "x"
   ]
  },
  {
   "cell_type": "code",
   "execution_count": null,
   "metadata": {},
   "outputs": [],
   "source": [
    "ufunky(x, axis=0)"
   ]
  },
  {
   "cell_type": "markdown",
   "metadata": {},
   "source": [
    "# Vectorise"
   ]
  },
  {
   "cell_type": "code",
   "execution_count": null,
   "metadata": {},
   "outputs": [],
   "source": []
  },
  {
   "cell_type": "code",
   "execution_count": null,
   "metadata": {},
   "outputs": [],
   "source": []
  },
  {
   "cell_type": "code",
   "execution_count": null,
   "metadata": {},
   "outputs": [],
   "source": []
  },
  {
   "cell_type": "code",
   "execution_count": null,
   "metadata": {},
   "outputs": [],
   "source": [
    "def test_func(x):\n",
    "    if np.min(x) == -10:\n",
    "        return x - 100\n",
    "    else:\n",
    "        print(x)\n",
    "        return x + 100"
   ]
  },
  {
   "cell_type": "code",
   "execution_count": null,
   "metadata": {},
   "outputs": [],
   "source": [
    "vectorise_func = np.vectorize(test_func, signature='(k,n,m)->(n,m)', otypes=[np.float64])"
   ]
  },
  {
   "cell_type": "code",
   "execution_count": null,
   "metadata": {},
   "outputs": [],
   "source": [
    "vectorise_func = np.vectorize(lambda x: min(x), signature='(k,n,m)->(k)', otypes=[np.float64])"
   ]
  },
  {
   "cell_type": "code",
   "execution_count": null,
   "metadata": {},
   "outputs": [],
   "source": [
    "vectorise_func(x)"
   ]
  },
  {
   "cell_type": "code",
   "execution_count": null,
   "metadata": {
    "scrolled": true
   },
   "outputs": [],
   "source": [
    "x.shape"
   ]
  },
  {
   "cell_type": "code",
   "execution_count": null,
   "metadata": {},
   "outputs": [],
   "source": []
  },
  {
   "cell_type": "code",
   "execution_count": null,
   "metadata": {},
   "outputs": [],
   "source": [
    "func = lambda x: sum(x)**2"
   ]
  },
  {
   "cell_type": "code",
   "execution_count": null,
   "metadata": {},
   "outputs": [],
   "source": [
    "summer = np.vectorize(func, signature='(n,m)->(m)', otypes=[np.float64])"
   ]
  },
  {
   "cell_type": "code",
   "execution_count": null,
   "metadata": {},
   "outputs": [],
   "source": [
    "summer(x)"
   ]
  },
  {
   "cell_type": "code",
   "execution_count": null,
   "metadata": {},
   "outputs": [],
   "source": [
    "x"
   ]
  },
  {
   "cell_type": "code",
   "execution_count": null,
   "metadata": {},
   "outputs": [],
   "source": []
  }
 ],
 "metadata": {
  "kernelspec": {
   "display_name": "Python 3",
   "language": "python",
   "name": "python3"
  },
  "language_info": {
   "codemirror_mode": {
    "name": "ipython",
    "version": 3
   },
   "file_extension": ".py",
   "mimetype": "text/x-python",
   "name": "python",
   "nbconvert_exporter": "python",
   "pygments_lexer": "ipython3",
   "version": "3.8.5"
  }
 },
 "nbformat": 4,
 "nbformat_minor": 4
}
