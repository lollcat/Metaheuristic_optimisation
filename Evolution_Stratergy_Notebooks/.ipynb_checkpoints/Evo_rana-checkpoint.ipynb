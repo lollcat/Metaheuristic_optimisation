{
 "cells": [
  {
   "cell_type": "code",
   "execution_count": 11,
   "metadata": {},
   "outputs": [],
   "source": [
    "# set path to parent file\n",
    "from pathlib import Path\n",
    "import os\n",
    "cwd_path = Path.cwd()\n",
    "set_path = str(cwd_path.parent)\n",
    "os.chdir(set_path)"
   ]
  },
  {
   "cell_type": "code",
   "execution_count": 12,
   "metadata": {},
   "outputs": [],
   "source": [
    "from EvolutionStrategy import EvolutionStrategy\n",
    "import numpy as np\n",
    "import matplotlib.pyplot as plt\n",
    "import matplotlib as mpl\n",
    "\n",
    "from rana import rana_func"
   ]
  },
  {
   "cell_type": "code",
   "execution_count": 13,
   "metadata": {},
   "outputs": [],
   "source": [
    "x_length = 5\n",
    "random_seed = 0"
   ]
  },
  {
   "cell_type": "code",
   "execution_count": 15,
   "metadata": {},
   "outputs": [
    {
     "name": "stdout",
     "output_type": "stream",
     "text": [
      "max total iterations\n",
      "x_result = [ 0.49812245 -0.87586143 -0.61272249 -0.89854451  0.53405441] \n",
      " objective_result = -1115.8071166946647 \n",
      ",       number of objective_evaluations is 10100       number of generations is 101       minimum objective from all function evaluations [-1576.283946851166, -761.0584690490762]\n",
      "max standard deviation vector 1.0\n"
     ]
    }
   ],
   "source": [
    "mutation_method = \"diagonal\"\n",
    "np.random.seed(random_seed)\n",
    "x_max = 500\n",
    "x_min = -x_max\n",
    "evo_diag = EvolutionStrategy(x_length=x_length, x_bounds=(x_min, x_max), objective_function=rana_func, child_to_parent_ratio=10,\n",
    "                             mutation_method=mutation_method, mutation_covariance_initialisation_fraction_of_range=0.01,\n",
    "                            bound_enforcing_method = \"not_clipping\", )\n",
    "x_result, objective_result = evo_diag .run()\n",
    "print(f\"x_result = {x_result} \\n objective_result = {objective_result} \\n, \\\n",
    "      number of objective_evaluations is {evo_diag .objective_function_evaluation_count} \\\n",
    "      number of generations is {evo_diag.generation_number} \\\n",
    "      minimum objective from all function evaluations {min(evo_diag.objective_history)}\")\n",
    "print(f\"max standard deviation vector {evo_diag.parent_mutation_standard_deviations.max()}\")"
   ]
  },
  {
   "cell_type": "code",
   "execution_count": 8,
   "metadata": {},
   "outputs": [
    {
     "name": "stdout",
     "output_type": "stream",
     "text": [
      "max total iterations\n",
      "x_result = [-0.91323955 -0.93291851  0.78448946 -0.84009294 -0.46287706] \n",
      " objective_result = -1645.559543139303 \n",
      ",       number of objective_evaluations is 11000       number of generations is 11\n"
     ]
    }
   ],
   "source": [
    "mutation_method = \"simple\"\n",
    "np.random.seed(random_seed)\n",
    "x_max = 500\n",
    "x_min = -x_max\n",
    "evo_simple = EvolutionStrategy(x_length=x_length, x_bounds=(x_min, x_max), objective_function=rana_func, \n",
    "                               mutation_method=mutation_method, mutation_covariance_initialisation_fraction_of_range=0.05, \n",
    "                               child_to_parent_ratio=100)\n",
    "x_result, objective_result = evo_simple.run()\n",
    "print(f\"x_result = {x_result} \\n objective_result = {objective_result} \\n, \\\n",
    "      number of objective_evaluations is {evo_simple .objective_function_evaluation_count} \\\n",
    "      number of generations is {evo_simple.generation_number}\")"
   ]
  },
  {
   "cell_type": "code",
   "execution_count": 9,
   "metadata": {
    "scrolled": false
   },
   "outputs": [
    {
     "data": {
      "text/plain": [
       "[<matplotlib.lines.Line2D at 0x19375b00a00>,\n",
       " <matplotlib.lines.Line2D at 0x19375b00ac0>]"
      ]
     },
     "execution_count": 9,
     "metadata": {},
     "output_type": "execute_result"
    },
    {
     "data": {
      "image/png": "[encoded data removed]",
      "text/plain": [
       "<Figure size 432x288 with 1 Axes>"
      ]
     },
     "metadata": {
      "needs_background": "light"
     },
     "output_type": "display_data"
    }
   ],
   "source": [
    "plt.plot(evo_diag.objective_history)"
   ]
  },
  {
   "cell_type": "code",
   "execution_count": 10,
   "metadata": {},
   "outputs": [
    {
     "data": {
      "text/plain": [
       "[<matplotlib.lines.Line2D at 0x19375b5eee0>,\n",
       " <matplotlib.lines.Line2D at 0x19375b5efa0>]"
      ]
     },
     "execution_count": 10,
     "metadata": {},
     "output_type": "execute_result"
    },
    {
     "data": {
      "image/png": "[encoded data removed]",
      "text/plain": [
       "<Figure size 432x288 with 1 Axes>"
      ]
     },
     "metadata": {
      "needs_background": "light"
     },
     "output_type": "display_data"
    }
   ],
   "source": [
    "plt.plot(evo_simple.objective_history)"
   ]
  },
  {
   "cell_type": "markdown",
   "metadata": {},
   "source": [
    "# np.frompyfunc"
   ]
  },
  {
   "cell_type": "code",
   "execution_count": null,
   "metadata": {},
   "outputs": [],
   "source": [
    "def test_func(x):\n",
    "    if np.min(x) == -10:\n",
    "        return x - 100\n",
    "    else:\n",
    "        print(x)\n",
    "        return x + 100"
   ]
  },
  {
   "cell_type": "code",
   "execution_count": null,
   "metadata": {},
   "outputs": [],
   "source": [
    "ufunky = np.frompyfunc(test_func, nin=1, nout=1)"
   ]
  },
  {
   "cell_type": "code",
   "execution_count": null,
   "metadata": {},
   "outputs": [],
   "source": [
    "x = np.broadcast_to(np.array([[1,2,3],[3,4,5], [5,6,7]]), (6,3,3)) + 2\n",
    "x[0, 0, 0] = -10\n",
    "x"
   ]
  },
  {
   "cell_type": "code",
   "execution_count": null,
   "metadata": {},
   "outputs": [],
   "source": [
    "ufunky(x, axis=0)"
   ]
  },
  {
   "cell_type": "markdown",
   "metadata": {},
   "source": [
    "# Vectorise"
   ]
  },
  {
   "cell_type": "code",
   "execution_count": null,
   "metadata": {},
   "outputs": [],
   "source": []
  },
  {
   "cell_type": "code",
   "execution_count": null,
   "metadata": {},
   "outputs": [],
   "source": []
  },
  {
   "cell_type": "code",
   "execution_count": null,
   "metadata": {},
   "outputs": [],
   "source": []
  },
  {
   "cell_type": "code",
   "execution_count": null,
   "metadata": {},
   "outputs": [],
   "source": [
    "def test_func(x):\n",
    "    if np.min(x) == -10:\n",
    "        return x - 100\n",
    "    else:\n",
    "        print(x)\n",
    "        return x + 100"
   ]
  },
  {
   "cell_type": "code",
   "execution_count": null,
   "metadata": {},
   "outputs": [],
   "source": [
    "vectorise_func = np.vectorize(test_func, signature='(k,n,m)->(n,m)', otypes=[np.float64])"
   ]
  },
  {
   "cell_type": "code",
   "execution_count": null,
   "metadata": {},
   "outputs": [],
   "source": [
    "vectorise_func = np.vectorize(lambda x: min(x), signature='(k,n,m)->(k)', otypes=[np.float64])"
   ]
  },
  {
   "cell_type": "code",
   "execution_count": null,
   "metadata": {},
   "outputs": [],
   "source": [
    "vectorise_func(x)"
   ]
  },
  {
   "cell_type": "code",
   "execution_count": null,
   "metadata": {
    "scrolled": true
   },
   "outputs": [],
   "source": [
    "x.shape"
   ]
  },
  {
   "cell_type": "code",
   "execution_count": null,
   "metadata": {},
   "outputs": [],
   "source": []
  },
  {
   "cell_type": "code",
   "execution_count": null,
   "metadata": {},
   "outputs": [],
   "source": [
    "func = lambda x: sum(x)**2"
   ]
  },
  {
   "cell_type": "code",
   "execution_count": null,
   "metadata": {},
   "outputs": [],
   "source": [
    "summer = np.vectorize(func, signature='(n,m)->(m)', otypes=[np.float64])"
   ]
  },
  {
   "cell_type": "code",
   "execution_count": null,
   "metadata": {},
   "outputs": [],
   "source": [
    "summer(x)"
   ]
  },
  {
   "cell_type": "code",
   "execution_count": null,
   "metadata": {},
   "outputs": [],
   "source": [
    "x"
   ]
  },
  {
   "cell_type": "code",
   "execution_count": null,
   "metadata": {},
   "outputs": [],
   "source": []
  }
 ],
 "metadata": {
  "kernelspec": {
   "display_name": "Python 3",
   "language": "python",
   "name": "python3"
  },
  "language_info": {
   "codemirror_mode": {
    "name": "ipython",
    "version": 3
   },
   "file_extension": ".py",
   "mimetype": "text/x-python",
   "name": "python",
   "nbconvert_exporter": "python",
   "pygments_lexer": "ipython3",
   "version": "3.8.5"
  }
 },
 "nbformat": 4,
 "nbformat_minor": 4
}
