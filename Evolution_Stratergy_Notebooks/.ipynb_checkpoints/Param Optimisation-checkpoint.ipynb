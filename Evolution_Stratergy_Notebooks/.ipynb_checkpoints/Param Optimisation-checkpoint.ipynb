{
 "cells": [
  {
   "cell_type": "code",
   "execution_count": 1,
   "metadata": {},
   "outputs": [],
   "source": [
    "# set path to parent file\n",
    "from pathlib import Path\n",
    "import os\n",
    "cwd_path = Path.cwd()\n",
    "set_path = str(cwd_path.parent)\n",
    "os.chdir(set_path)"
   ]
  },
  {
   "cell_type": "code",
   "execution_count": 2,
   "metadata": {},
   "outputs": [],
   "source": [
    "from Utils import running_mean, multiple_runs_with_different_seed\n",
    "import numpy as np\n",
    "import pickle\n",
    "import pandas as pd\n",
    "import matplotlib.pyplot as plt\n",
    "import matplotlib as mpl\n",
    "import importlib\n",
    "import EvolutionStrategy as EvosStrat\n",
    "importlib.reload(EvosStrat)\n",
    "EvolutionStrategyClass = EvosStrat.EvolutionStrategy\n",
    "mpl.rcParams['figure.dpi'] = 300\n",
    "from rana import rana_func"
   ]
  },
  {
   "cell_type": "code",
   "execution_count": 20,
   "metadata": {},
   "outputs": [
    {
     "data": {
      "text/plain": [
       "['many_dim1610781388.5753894.pkl',\n",
       " 'many_dim1610782745.0565243.pkl',\n",
       " 'many_dim1610782821.5583565.pkl',\n",
       " 'param_find1610649147.5987375.pkl',\n",
       " 'param_find1610834769.2748628.pkl',\n",
       " 'param_find1610871792.7808535.pkl',\n",
       " 'Rosenbrockmany_dim1610815609.7251613.pkl',\n",
       " 'Rosenbrockmany_dim1610815760.4354157.pkl',\n",
       " 'Rosenbrockmany_dim1610815859.9033656.pkl']"
      ]
     },
     "execution_count": 20,
     "metadata": {},
     "output_type": "execute_result"
    }
   ],
   "source": [
    "parent_loc = \"./Evolution_stratergy_parameter_search/stored_data/\"\n",
    "os.listdir(parent_loc)"
   ]
  },
  {
   "cell_type": "code",
   "execution_count": 21,
   "metadata": {},
   "outputs": [],
   "source": [
    "file = 'param_find1610871792.7808535.pkl'#os.listdir(parent_loc)[-1]"
   ]
  },
  {
   "cell_type": "code",
   "execution_count": 22,
   "metadata": {},
   "outputs": [],
   "source": [
    "result_list = pickle.load(open(parent_loc + file, \"rb\"))"
   ]
  },
  {
   "cell_type": "code",
   "execution_count": 23,
   "metadata": {
    "scrolled": true
   },
   "outputs": [
    {
     "data": {
      "text/html": [
       "<div>\n",
       "<style scoped>\n",
       "    .dataframe tbody tr th:only-of-type {\n",
       "        vertical-align: middle;\n",
       "    }\n",
       "\n",
       "    .dataframe tbody tr th {\n",
       "        vertical-align: top;\n",
       "    }\n",
       "\n",
       "    .dataframe thead th {\n",
       "        text-align: right;\n",
       "    }\n",
       "</style>\n",
       "<table border=\"1\" class=\"dataframe\">\n",
       "  <thead>\n",
       "    <tr style=\"text-align: right;\">\n",
       "      <th></th>\n",
       "      <th>average_runtime</th>\n",
       "      <th>best_performance</th>\n",
       "      <th>best_performance_final</th>\n",
       "      <th>bound_enforcing_method</th>\n",
       "      <th>child_to_parent_ratio</th>\n",
       "      <th>mean_performance</th>\n",
       "      <th>mean_performance_final</th>\n",
       "      <th>mutation_covariance_initialisation_fraction_of_range</th>\n",
       "      <th>mutation_method</th>\n",
       "      <th>objective_function</th>\n",
       "      <th>parent_number</th>\n",
       "      <th>raw_results</th>\n",
       "      <th>selection_method</th>\n",
       "      <th>standard_deviation_clipping_fraction_of_range</th>\n",
       "      <th>std_perormance</th>\n",
       "      <th>std_perormance_final</th>\n",
       "      <th>termination_min_abs_difference</th>\n",
       "      <th>x_bounds</th>\n",
       "      <th>x_length</th>\n",
       "    </tr>\n",
       "  </thead>\n",
       "  <tbody>\n",
       "    <tr>\n",
       "      <th>0</th>\n",
       "      <td>6.937799</td>\n",
       "      <td>-1633.129303</td>\n",
       "      <td>-1210.666034</td>\n",
       "      <td>not_clipping</td>\n",
       "      <td>2.0</td>\n",
       "      <td>-1464.511137</td>\n",
       "      <td>-823.513412</td>\n",
       "      <td>0.01</td>\n",
       "      <td>complex</td>\n",
       "      <td>&lt;function rana_func at 0x000001C42EBA8EE0&gt;</td>\n",
       "      <td>10.0</td>\n",
       "      <td>[-1384.0941841169779, -1338.4497708299843, -14...</td>\n",
       "      <td>standard_mew_comma_lambda</td>\n",
       "      <td>0.01</td>\n",
       "      <td>94.358914</td>\n",
       "      <td>216.960037</td>\n",
       "      <td>0.000001</td>\n",
       "      <td>(-500, 500)</td>\n",
       "      <td>5.0</td>\n",
       "    </tr>\n",
       "    <tr>\n",
       "      <th>1</th>\n",
       "      <td>1.387261</td>\n",
       "      <td>-1657.872887</td>\n",
       "      <td>-1655.956512</td>\n",
       "      <td>not_clipping</td>\n",
       "      <td>2.0</td>\n",
       "      <td>-1344.216723</td>\n",
       "      <td>-1335.557826</td>\n",
       "      <td>0.01</td>\n",
       "      <td>diagonal</td>\n",
       "      <td>&lt;function rana_func at 0x000001C42EBA8EE0&gt;</td>\n",
       "      <td>10.0</td>\n",
       "      <td>[-1345.1173315444157, -1582.4971243317902, -14...</td>\n",
       "      <td>standard_mew_comma_lambda</td>\n",
       "      <td>0.01</td>\n",
       "      <td>210.572377</td>\n",
       "      <td>215.934633</td>\n",
       "      <td>0.000001</td>\n",
       "      <td>(-500, 500)</td>\n",
       "      <td>5.0</td>\n",
       "    </tr>\n",
       "    <tr>\n",
       "      <th>2</th>\n",
       "      <td>1.318361</td>\n",
       "      <td>-1744.529060</td>\n",
       "      <td>-1664.651959</td>\n",
       "      <td>not_clipping</td>\n",
       "      <td>2.0</td>\n",
       "      <td>-1373.571276</td>\n",
       "      <td>-1242.418606</td>\n",
       "      <td>0.01</td>\n",
       "      <td>simple</td>\n",
       "      <td>&lt;function rana_func at 0x000001C42EBA8EE0&gt;</td>\n",
       "      <td>10.0</td>\n",
       "      <td>[-1341.4468540541493, -1597.5752487283578, -14...</td>\n",
       "      <td>standard_mew_comma_lambda</td>\n",
       "      <td>0.01</td>\n",
       "      <td>166.074019</td>\n",
       "      <td>181.844635</td>\n",
       "      <td>0.000001</td>\n",
       "      <td>(-500, 500)</td>\n",
       "      <td>5.0</td>\n",
       "    </tr>\n",
       "    <tr>\n",
       "      <th>3</th>\n",
       "      <td>7.000888</td>\n",
       "      <td>-1709.055793</td>\n",
       "      <td>-1586.789696</td>\n",
       "      <td>not_clipping</td>\n",
       "      <td>3.0</td>\n",
       "      <td>-1535.266808</td>\n",
       "      <td>-1133.981281</td>\n",
       "      <td>0.01</td>\n",
       "      <td>complex</td>\n",
       "      <td>&lt;function rana_func at 0x000001C42EBA8EE0&gt;</td>\n",
       "      <td>6.0</td>\n",
       "      <td>[-1521.3672281866207, -1458.4133579100935, -15...</td>\n",
       "      <td>standard_mew_comma_lambda</td>\n",
       "      <td>0.01</td>\n",
       "      <td>76.064544</td>\n",
       "      <td>281.829986</td>\n",
       "      <td>0.000001</td>\n",
       "      <td>(-500, 500)</td>\n",
       "      <td>5.0</td>\n",
       "    </tr>\n",
       "    <tr>\n",
       "      <th>4</th>\n",
       "      <td>0.836027</td>\n",
       "      <td>-1695.438770</td>\n",
       "      <td>-1695.438765</td>\n",
       "      <td>not_clipping</td>\n",
       "      <td>3.0</td>\n",
       "      <td>-1384.788091</td>\n",
       "      <td>-1384.458260</td>\n",
       "      <td>0.01</td>\n",
       "      <td>diagonal</td>\n",
       "      <td>&lt;function rana_func at 0x000001C42EBA8EE0&gt;</td>\n",
       "      <td>6.0</td>\n",
       "      <td>[-1429.15501544062, -1576.6502320205127, -1475...</td>\n",
       "      <td>standard_mew_comma_lambda</td>\n",
       "      <td>0.01</td>\n",
       "      <td>230.695863</td>\n",
       "      <td>231.143146</td>\n",
       "      <td>0.000001</td>\n",
       "      <td>(-500, 500)</td>\n",
       "      <td>5.0</td>\n",
       "    </tr>\n",
       "  </tbody>\n",
       "</table>\n",
       "</div>"
      ],
      "text/plain": [
       "   average_runtime  best_performance  best_performance_final  \\\n",
       "0         6.937799      -1633.129303            -1210.666034   \n",
       "1         1.387261      -1657.872887            -1655.956512   \n",
       "2         1.318361      -1744.529060            -1664.651959   \n",
       "3         7.000888      -1709.055793            -1586.789696   \n",
       "4         0.836027      -1695.438770            -1695.438765   \n",
       "\n",
       "  bound_enforcing_method  child_to_parent_ratio  mean_performance  \\\n",
       "0           not_clipping                    2.0      -1464.511137   \n",
       "1           not_clipping                    2.0      -1344.216723   \n",
       "2           not_clipping                    2.0      -1373.571276   \n",
       "3           not_clipping                    3.0      -1535.266808   \n",
       "4           not_clipping                    3.0      -1384.788091   \n",
       "\n",
       "   mean_performance_final  \\\n",
       "0             -823.513412   \n",
       "1            -1335.557826   \n",
       "2            -1242.418606   \n",
       "3            -1133.981281   \n",
       "4            -1384.458260   \n",
       "\n",
       "   mutation_covariance_initialisation_fraction_of_range mutation_method  \\\n",
       "0                                               0.01            complex   \n",
       "1                                               0.01           diagonal   \n",
       "2                                               0.01             simple   \n",
       "3                                               0.01            complex   \n",
       "4                                               0.01           diagonal   \n",
       "\n",
       "                           objective_function  parent_number  \\\n",
       "0  <function rana_func at 0x000001C42EBA8EE0>           10.0   \n",
       "1  <function rana_func at 0x000001C42EBA8EE0>           10.0   \n",
       "2  <function rana_func at 0x000001C42EBA8EE0>           10.0   \n",
       "3  <function rana_func at 0x000001C42EBA8EE0>            6.0   \n",
       "4  <function rana_func at 0x000001C42EBA8EE0>            6.0   \n",
       "\n",
       "                                         raw_results  \\\n",
       "0  [-1384.0941841169779, -1338.4497708299843, -14...   \n",
       "1  [-1345.1173315444157, -1582.4971243317902, -14...   \n",
       "2  [-1341.4468540541493, -1597.5752487283578, -14...   \n",
       "3  [-1521.3672281866207, -1458.4133579100935, -15...   \n",
       "4  [-1429.15501544062, -1576.6502320205127, -1475...   \n",
       "\n",
       "            selection_method  standard_deviation_clipping_fraction_of_range  \\\n",
       "0  standard_mew_comma_lambda                                           0.01   \n",
       "1  standard_mew_comma_lambda                                           0.01   \n",
       "2  standard_mew_comma_lambda                                           0.01   \n",
       "3  standard_mew_comma_lambda                                           0.01   \n",
       "4  standard_mew_comma_lambda                                           0.01   \n",
       "\n",
       "   std_perormance  std_perormance_final  termination_min_abs_difference  \\\n",
       "0       94.358914            216.960037                        0.000001   \n",
       "1      210.572377            215.934633                        0.000001   \n",
       "2      166.074019            181.844635                        0.000001   \n",
       "3       76.064544            281.829986                        0.000001   \n",
       "4      230.695863            231.143146                        0.000001   \n",
       "\n",
       "      x_bounds  x_length  \n",
       "0  (-500, 500)       5.0  \n",
       "1  (-500, 500)       5.0  \n",
       "2  (-500, 500)       5.0  \n",
       "3  (-500, 500)       5.0  \n",
       "4  (-500, 500)       5.0  "
      ]
     },
     "execution_count": 23,
     "metadata": {},
     "output_type": "execute_result"
    }
   ],
   "source": [
    "results_df = pd.DataFrame()\n",
    "for result in result_list:\n",
    "    results_df = results_df.append(result, ignore_index=True)\n",
    "results_df.head()"
   ]
  },
  {
   "cell_type": "code",
   "execution_count": 24,
   "metadata": {},
   "outputs": [
    {
     "data": {
      "text/plain": [
       "(Index(['average_runtime', 'best_performance', 'best_performance_final',\n",
       "        'bound_enforcing_method', 'child_to_parent_ratio', 'mean_performance',\n",
       "        'mean_performance_final',\n",
       "        'mutation_covariance_initialisation_fraction_of_range',\n",
       "        'mutation_method', 'objective_function', 'parent_number', 'raw_results',\n",
       "        'selection_method', 'standard_deviation_clipping_fraction_of_range',\n",
       "        'std_perormance', 'std_perormance_final',\n",
       "        'termination_min_abs_difference', 'x_bounds', 'x_length'],\n",
       "       dtype='object'),\n",
       " (2280, 19))"
      ]
     },
     "execution_count": 24,
     "metadata": {},
     "output_type": "execute_result"
    }
   ],
   "source": [
    "results_df.columns, results_df.shape"
   ]
  },
  {
   "cell_type": "code",
   "execution_count": 25,
   "metadata": {},
   "outputs": [],
   "source": [
    "output_names = ['average_runtime','best_performance', 'best_performance_final', 'child_to_parent_ratio', 'mean_performance',\n",
    "       'mean_performance_final','mutation_method', 'parent_number',\n",
    "       'selection_method','std_perormance_final']"
   ]
  },
  {
   "cell_type": "code",
   "execution_count": 69,
   "metadata": {},
   "outputs": [],
   "source": [
    "def get_best_values_and_return_dict(spec_names, spec_vals, output_names=output_names):\n",
    "    df = results_df\n",
    "    for spec_name, spec_val in zip(spec_names, spec_vals):\n",
    "        df = df.loc[results_df[spec_name] == spec_val]\n",
    "    argmin_indx = df[\"mean_performance_final\"].argmin()\n",
    "    output_dict = {}\n",
    "    for output_name in output_names:\n",
    "        output_dict[output_name] = df.iloc[argmin_indx][output_name]\n",
    "    return output_dict"
   ]
  },
  {
   "cell_type": "code",
   "execution_count": 70,
   "metadata": {},
   "outputs": [
    {
     "data": {
      "text/plain": [
       "array(['complex', 'diagonal', 'simple'], dtype=object)"
      ]
     },
     "execution_count": 70,
     "metadata": {},
     "output_type": "execute_result"
    }
   ],
   "source": [
    "results_df['mutation_method'].unique()"
   ]
  },
  {
   "cell_type": "code",
   "execution_count": 76,
   "metadata": {},
   "outputs": [
    {
     "data": {
      "text/html": [
       "<div>\n",
       "<style scoped>\n",
       "    .dataframe tbody tr th:only-of-type {\n",
       "        vertical-align: middle;\n",
       "    }\n",
       "\n",
       "    .dataframe tbody tr th {\n",
       "        vertical-align: top;\n",
       "    }\n",
       "\n",
       "    .dataframe thead th {\n",
       "        text-align: right;\n",
       "    }\n",
       "</style>\n",
       "<table border=\"1\" class=\"dataframe\">\n",
       "  <thead>\n",
       "    <tr style=\"text-align: right;\">\n",
       "      <th></th>\n",
       "      <th>average_runtime</th>\n",
       "      <th>best_performance</th>\n",
       "      <th>best_performance_final</th>\n",
       "      <th>child_to_parent_ratio</th>\n",
       "      <th>mean_performance</th>\n",
       "      <th>mean_performance_final</th>\n",
       "      <th>mutation_method</th>\n",
       "      <th>parent_number</th>\n",
       "      <th>selection_method</th>\n",
       "      <th>std_perormance_final</th>\n",
       "    </tr>\n",
       "  </thead>\n",
       "  <tbody>\n",
       "    <tr>\n",
       "      <th>0</th>\n",
       "      <td>7.146411</td>\n",
       "      <td>-1901.765674</td>\n",
       "      <td>-1901.756887</td>\n",
       "      <td>13.0</td>\n",
       "      <td>-1698.546614</td>\n",
       "      <td>-1660.273248</td>\n",
       "      <td>complex</td>\n",
       "      <td>5.0</td>\n",
       "      <td>standard_mew_comma_lambda</td>\n",
       "      <td>107.946790</td>\n",
       "    </tr>\n",
       "    <tr>\n",
       "      <th>1</th>\n",
       "      <td>10.030094</td>\n",
       "      <td>-1831.178289</td>\n",
       "      <td>-1831.178289</td>\n",
       "      <td>9.0</td>\n",
       "      <td>-1761.650906</td>\n",
       "      <td>-1761.650906</td>\n",
       "      <td>complex</td>\n",
       "      <td>13.0</td>\n",
       "      <td>elitist</td>\n",
       "      <td>53.436539</td>\n",
       "    </tr>\n",
       "    <tr>\n",
       "      <th>2</th>\n",
       "      <td>1.137733</td>\n",
       "      <td>-1928.796191</td>\n",
       "      <td>-1928.796191</td>\n",
       "      <td>12.0</td>\n",
       "      <td>-1877.111506</td>\n",
       "      <td>-1873.795809</td>\n",
       "      <td>diagonal</td>\n",
       "      <td>41.0</td>\n",
       "      <td>standard_mew_comma_lambda</td>\n",
       "      <td>38.377981</td>\n",
       "    </tr>\n",
       "    <tr>\n",
       "      <th>3</th>\n",
       "      <td>1.145411</td>\n",
       "      <td>-1943.614994</td>\n",
       "      <td>-1943.614994</td>\n",
       "      <td>8.0</td>\n",
       "      <td>-1893.854953</td>\n",
       "      <td>-1893.854953</td>\n",
       "      <td>diagonal</td>\n",
       "      <td>59.0</td>\n",
       "      <td>elitist</td>\n",
       "      <td>29.490643</td>\n",
       "    </tr>\n",
       "    <tr>\n",
       "      <th>4</th>\n",
       "      <td>1.100708</td>\n",
       "      <td>-1955.148931</td>\n",
       "      <td>-1955.148931</td>\n",
       "      <td>18.0</td>\n",
       "      <td>-1850.275950</td>\n",
       "      <td>-1829.800512</td>\n",
       "      <td>simple</td>\n",
       "      <td>27.0</td>\n",
       "      <td>standard_mew_comma_lambda</td>\n",
       "      <td>53.677512</td>\n",
       "    </tr>\n",
       "    <tr>\n",
       "      <th>5</th>\n",
       "      <td>1.115779</td>\n",
       "      <td>-1917.807892</td>\n",
       "      <td>-1917.807892</td>\n",
       "      <td>10.0</td>\n",
       "      <td>-1874.886100</td>\n",
       "      <td>-1874.886100</td>\n",
       "      <td>simple</td>\n",
       "      <td>44.0</td>\n",
       "      <td>elitist</td>\n",
       "      <td>28.616067</td>\n",
       "    </tr>\n",
       "  </tbody>\n",
       "</table>\n",
       "</div>"
      ],
      "text/plain": [
       "   average_runtime  best_performance  best_performance_final  \\\n",
       "0         7.146411      -1901.765674            -1901.756887   \n",
       "1        10.030094      -1831.178289            -1831.178289   \n",
       "2         1.137733      -1928.796191            -1928.796191   \n",
       "3         1.145411      -1943.614994            -1943.614994   \n",
       "4         1.100708      -1955.148931            -1955.148931   \n",
       "5         1.115779      -1917.807892            -1917.807892   \n",
       "\n",
       "   child_to_parent_ratio  mean_performance  mean_performance_final  \\\n",
       "0                   13.0      -1698.546614            -1660.273248   \n",
       "1                    9.0      -1761.650906            -1761.650906   \n",
       "2                   12.0      -1877.111506            -1873.795809   \n",
       "3                    8.0      -1893.854953            -1893.854953   \n",
       "4                   18.0      -1850.275950            -1829.800512   \n",
       "5                   10.0      -1874.886100            -1874.886100   \n",
       "\n",
       "  mutation_method  parent_number           selection_method  \\\n",
       "0         complex            5.0  standard_mew_comma_lambda   \n",
       "1         complex           13.0                    elitist   \n",
       "2        diagonal           41.0  standard_mew_comma_lambda   \n",
       "3        diagonal           59.0                    elitist   \n",
       "4          simple           27.0  standard_mew_comma_lambda   \n",
       "5          simple           44.0                    elitist   \n",
       "\n",
       "   std_perormance_final  \n",
       "0            107.946790  \n",
       "1             53.436539  \n",
       "2             38.377981  \n",
       "3             29.490643  \n",
       "4             53.677512  \n",
       "5             28.616067  "
      ]
     },
     "execution_count": 76,
     "metadata": {},
     "output_type": "execute_result"
    }
   ],
   "source": [
    "report_table = pd.DataFrame()\n",
    "for mutation_method in ['complex', 'diagonal', 'simple']:\n",
    "    for selection_method in ['standard_mew_comma_lambda', \"elitist\"]:\n",
    "        spec_names = [\"mutation_method\", \"selection_method\"] \n",
    "        spec_vals = [mutation_method, selection_method]\n",
    "        output_dict = get_best_values_and_return_dict(spec_names, spec_vals)\n",
    "        report_table = report_table.append(output_dict, ignore_index=True)\n",
    "report_table"
   ]
  },
  {
   "cell_type": "code",
   "execution_count": 77,
   "metadata": {},
   "outputs": [],
   "source": [
    "report_table[\"number of offspring\"] = report_table['child_to_parent_ratio'] * report_table['parent_number']"
   ]
  },
  {
   "cell_type": "code",
   "execution_count": 78,
   "metadata": {
    "scrolled": true
   },
   "outputs": [
    {
     "data": {
      "text/html": [
       "<div>\n",
       "<style scoped>\n",
       "    .dataframe tbody tr th:only-of-type {\n",
       "        vertical-align: middle;\n",
       "    }\n",
       "\n",
       "    .dataframe tbody tr th {\n",
       "        vertical-align: top;\n",
       "    }\n",
       "\n",
       "    .dataframe thead th {\n",
       "        text-align: right;\n",
       "    }\n",
       "</style>\n",
       "<table border=\"1\" class=\"dataframe\">\n",
       "  <thead>\n",
       "    <tr style=\"text-align: right;\">\n",
       "      <th></th>\n",
       "      <th>mutation method</th>\n",
       "      <th>selection method</th>\n",
       "      <th>Offspring per parent</th>\n",
       "      <th>number of offspring</th>\n",
       "      <th>parent number</th>\n",
       "      <th>mean final performance</th>\n",
       "      <th>std dev final performance</th>\n",
       "      <th>average runtime (s)</th>\n",
       "    </tr>\n",
       "  </thead>\n",
       "  <tbody>\n",
       "    <tr>\n",
       "      <th>0</th>\n",
       "      <td>complex</td>\n",
       "      <td>standard_mew_comma_lambda</td>\n",
       "      <td>13.0</td>\n",
       "      <td>65.0</td>\n",
       "      <td>5.0</td>\n",
       "      <td>-1660.27</td>\n",
       "      <td>107.95</td>\n",
       "      <td>7.15</td>\n",
       "    </tr>\n",
       "    <tr>\n",
       "      <th>1</th>\n",
       "      <td>complex</td>\n",
       "      <td>elitist</td>\n",
       "      <td>9.0</td>\n",
       "      <td>117.0</td>\n",
       "      <td>13.0</td>\n",
       "      <td>-1761.65</td>\n",
       "      <td>53.44</td>\n",
       "      <td>10.03</td>\n",
       "    </tr>\n",
       "    <tr>\n",
       "      <th>2</th>\n",
       "      <td>diagonal</td>\n",
       "      <td>standard_mew_comma_lambda</td>\n",
       "      <td>12.0</td>\n",
       "      <td>492.0</td>\n",
       "      <td>41.0</td>\n",
       "      <td>-1873.80</td>\n",
       "      <td>38.38</td>\n",
       "      <td>1.14</td>\n",
       "    </tr>\n",
       "    <tr>\n",
       "      <th>3</th>\n",
       "      <td>diagonal</td>\n",
       "      <td>elitist</td>\n",
       "      <td>8.0</td>\n",
       "      <td>472.0</td>\n",
       "      <td>59.0</td>\n",
       "      <td>-1893.85</td>\n",
       "      <td>29.49</td>\n",
       "      <td>1.15</td>\n",
       "    </tr>\n",
       "    <tr>\n",
       "      <th>4</th>\n",
       "      <td>simple</td>\n",
       "      <td>standard_mew_comma_lambda</td>\n",
       "      <td>18.0</td>\n",
       "      <td>486.0</td>\n",
       "      <td>27.0</td>\n",
       "      <td>-1829.80</td>\n",
       "      <td>53.68</td>\n",
       "      <td>1.10</td>\n",
       "    </tr>\n",
       "    <tr>\n",
       "      <th>5</th>\n",
       "      <td>simple</td>\n",
       "      <td>elitist</td>\n",
       "      <td>10.0</td>\n",
       "      <td>440.0</td>\n",
       "      <td>44.0</td>\n",
       "      <td>-1874.89</td>\n",
       "      <td>28.62</td>\n",
       "      <td>1.12</td>\n",
       "    </tr>\n",
       "  </tbody>\n",
       "</table>\n",
       "</div>"
      ],
      "text/plain": [
       "  mutation method           selection method  Offspring per parent  \\\n",
       "0         complex  standard_mew_comma_lambda                  13.0   \n",
       "1         complex                    elitist                   9.0   \n",
       "2        diagonal  standard_mew_comma_lambda                  12.0   \n",
       "3        diagonal                    elitist                   8.0   \n",
       "4          simple  standard_mew_comma_lambda                  18.0   \n",
       "5          simple                    elitist                  10.0   \n",
       "\n",
       "   number of offspring  parent number  mean final performance  \\\n",
       "0                 65.0            5.0                -1660.27   \n",
       "1                117.0           13.0                -1761.65   \n",
       "2                492.0           41.0                -1873.80   \n",
       "3                472.0           59.0                -1893.85   \n",
       "4                486.0           27.0                -1829.80   \n",
       "5                440.0           44.0                -1874.89   \n",
       "\n",
       "   std dev final performance  average runtime (s)  \n",
       "0                     107.95                 7.15  \n",
       "1                      53.44                10.03  \n",
       "2                      38.38                 1.14  \n",
       "3                      29.49                 1.15  \n",
       "4                      53.68                 1.10  \n",
       "5                      28.62                 1.12  "
      ]
     },
     "execution_count": 78,
     "metadata": {},
     "output_type": "execute_result"
    }
   ],
   "source": [
    "column_order = [\"mutation_method\", \"selection_method\",'child_to_parent_ratio', \"number of offspring\",'parent_number', \"mean_performance_final\", \n",
    "                \"std_perormance_final\", \"average_runtime\"] # \"mean_performance\" # \"best_performance_final\"\n",
    "report_table = report_table[column_order]\n",
    "rename_dict = {\"mutation_method\": \"mutation method\", \n",
    "               \"mean_performance_final\": \"mean f(x)\", \n",
    "               \"std_perormance_final\": \"std dev f(x)\", \n",
    "               \"average_runtime\": \"average runtime (s)\",\n",
    "               'child_to_parent_ratio' : \"Offspring per parent\",\n",
    "               'parent_number' : 'parent number',\n",
    "               \"selection_method\": \"selection method\",\n",
    "}\n",
    "#               \"mean_performance\": \"mean best objective (within run)\", \n",
    "#               \"best_performance_final\": \"best final performance (across seeds)\", \n",
    "\n",
    "report_table = report_table.rename(columns = rename_dict)\n",
    "report_table = report_table.round(2)\n",
    "report_table"
   ]
  },
  {
   "cell_type": "code",
   "execution_count": 79,
   "metadata": {},
   "outputs": [
    {
     "data": {
      "text/plain": [
       "'<table border=\"1\" class=\"dataframe\">\\n  <thead>\\n    <tr style=\"text-align: right;\">\\n      <th></th>\\n      <th>0</th>\\n      <th>1</th>\\n      <th>2</th>\\n      <th>3</th>\\n      <th>4</th>\\n      <th>5</th>\\n    </tr>\\n  </thead>\\n  <tbody>\\n    <tr>\\n      <th>mutation method</th>\\n      <td>complex</td>\\n      <td>complex</td>\\n      <td>diagonal</td>\\n      <td>diagonal</td>\\n      <td>simple</td>\\n      <td>simple</td>\\n    </tr>\\n    <tr>\\n      <th>selection method</th>\\n      <td>standard_mew_comma_lambda</td>\\n      <td>elitist</td>\\n      <td>standard_mew_comma_lambda</td>\\n      <td>elitist</td>\\n      <td>standard_mew_comma_lambda</td>\\n      <td>elitist</td>\\n    </tr>\\n    <tr>\\n      <th>Offspring per parent</th>\\n      <td>13</td>\\n      <td>9</td>\\n      <td>12</td>\\n      <td>8</td>\\n      <td>18</td>\\n      <td>10</td>\\n    </tr>\\n    <tr>\\n      <th>number of offspring</th>\\n      <td>65</td>\\n      <td>117</td>\\n      <td>492</td>\\n      <td>472</td>\\n      <td>486</td>\\n      <td>440</td>\\n    </tr>\\n    <tr>\\n      <th>parent number</th>\\n      <td>5</td>\\n      <td>13</td>\\n      <td>41</td>\\n      <td>59</td>\\n      <td>27</td>\\n      <td>44</td>\\n    </tr>\\n    <tr>\\n      <th>mean final performance</th>\\n      <td>-1660.27</td>\\n      <td>-1761.65</td>\\n      <td>-1873.8</td>\\n      <td>-1893.85</td>\\n      <td>-1829.8</td>\\n      <td>-1874.89</td>\\n    </tr>\\n    <tr>\\n      <th>std dev final performance</th>\\n      <td>107.95</td>\\n      <td>53.44</td>\\n      <td>38.38</td>\\n      <td>29.49</td>\\n      <td>53.68</td>\\n      <td>28.62</td>\\n    </tr>\\n    <tr>\\n      <th>average runtime (s)</th>\\n      <td>7.15</td>\\n      <td>10.03</td>\\n      <td>1.14</td>\\n      <td>1.15</td>\\n      <td>1.1</td>\\n      <td>1.12</td>\\n    </tr>\\n  </tbody>\\n</table>'"
      ]
     },
     "execution_count": 79,
     "metadata": {},
     "output_type": "execute_result"
    }
   ],
   "source": [
    "report_table.T.to_html()"
   ]
  },
  {
   "cell_type": "code",
   "execution_count": 61,
   "metadata": {},
   "outputs": [],
   "source": [
    "selection_method = \"standard_mew_comma_lambda\"\n",
    "mutation_method = \"complex\""
   ]
  },
  {
   "cell_type": "code",
   "execution_count": 62,
   "metadata": {},
   "outputs": [],
   "source": [
    "df = results_df.loc[(results_df[\"selection_method\"] == selection_method) & (results_df[\"mutation_method\"] == mutation_method)]"
   ]
  },
  {
   "cell_type": "markdown",
   "metadata": {},
   "source": [
    "have to enter these value manually"
   ]
  },
  {
   "cell_type": "code",
   "execution_count": 63,
   "metadata": {},
   "outputs": [
    {
     "data": {
      "text/plain": [
       "19"
      ]
     },
     "execution_count": 63,
     "metadata": {},
     "output_type": "execute_result"
    }
   ],
   "source": [
    "len(np.unique(child_to_parent_ratio_data))"
   ]
  },
  {
   "cell_type": "code",
   "execution_count": 64,
   "metadata": {},
   "outputs": [],
   "source": [
    "parent_data = df[\"parent_number\"].to_numpy()\n",
    "child_to_parent_ratio_data = df[\"child_to_parent_ratio\"].to_numpy()\n",
    "offspring_data = parent_data * child_to_parent_ratio_data\n",
    "#offspring_data[0:3], parent_data[0:3], child_to_parent_ratio_data[0:3]"
   ]
  },
  {
   "cell_type": "code",
   "execution_count": 65,
   "metadata": {},
   "outputs": [
    {
     "data": {
      "text/plain": [
       "(20, 19)"
      ]
     },
     "execution_count": 65,
     "metadata": {},
     "output_type": "execute_result"
    }
   ],
   "source": [
    "parent_number_n = 20 #df[\"parent_number\"].unique().shape[0] \n",
    "child_to_parent_ratio_n = len(np.unique(child_to_parent_ratio_data))\n",
    "parent_number_n, child_to_parent_ratio_n"
   ]
  },
  {
   "cell_type": "code",
   "execution_count": 66,
   "metadata": {},
   "outputs": [],
   "source": [
    "x1 = child_to_parent_ratio_data.reshape(parent_number_n,child_to_parent_ratio_n)\n",
    "x2 = offspring_data.reshape(parent_number_n, child_to_parent_ratio_n)\n",
    "#z = df[column].reshape(parent_number_n,child_to_parent_ratio_n)"
   ]
  },
  {
   "cell_type": "code",
   "execution_count": 67,
   "metadata": {},
   "outputs": [
    {
     "data": {
      "image/png": "[encoded data removed]",
      "text/plain": [
       "<Figure size 2400x900 with 4 Axes>"
      ]
     },
     "metadata": {
      "needs_background": "light"
     },
     "output_type": "display_data"
    }
   ],
   "source": [
    "fig, ax = plt.subplots(1,2, figsize=(8,3), constrained_layout=True)\n",
    "#labels = [\"final f(x)\", \"std f(x)\", \"time (s)\"]\n",
    "#for i, column in enumerate([\"best_performance_final\",'std_perormance_final', \"average_runtime\"]):\n",
    "labels = [\"mean final f(x)\", \"mean runtime (s)\"]\n",
    "for i, column in enumerate([\"mean_performance_final\", \"average_runtime\"]):\n",
    "    z = df[column].to_numpy().reshape(parent_number_n,child_to_parent_ratio_n)\n",
    "    plot_list = []\n",
    "    cs = ax[i].contourf(x1,x2,z)\n",
    "    CB = fig.colorbar(cs, label=labels[i], ax=ax[i], location='top')\n",
    "    tick_locator = mpl.ticker.MaxNLocator(nbins=4)\n",
    "    CB.locator = tick_locator\n",
    "    CB.update_ticks()\n",
    "\n",
    "ax[0].set_ylabel(\"numer of children\")\n",
    "#ax[1].set_ylabel(\"Max MC length\")\n",
    "ax[0].set_xlabel(\"child to parent ratio\")\n",
    "ax[1].set_xlabel(\"child to parent ratio\")\n",
    "#fig.tight_layout()\n",
    "fig.savefig(\"./Figures/ES_offsring_n_OP_ratio_complex_mutation_mew_comma_lambda_selection.png\")"
   ]
  },
  {
   "cell_type": "code",
   "execution_count": null,
   "metadata": {},
   "outputs": [],
   "source": []
  }
 ],
 "metadata": {
  "kernelspec": {
   "display_name": "Python 3",
   "language": "python",
   "name": "python3"
  },
  "language_info": {
   "codemirror_mode": {
    "name": "ipython",
    "version": 3
   },
   "file_extension": ".py",
   "mimetype": "text/x-python",
   "name": "python",
   "nbconvert_exporter": "python",
   "pygments_lexer": "ipython3",
   "version": "3.8.5"
  }
 },
 "nbformat": 4,
 "nbformat_minor": 4
}
